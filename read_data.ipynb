{
 "cells": [
  {
   "cell_type": "code",
   "execution_count": 54,
   "metadata": {},
   "outputs": [],
   "source": [
    "import pandas as pd "
   ]
  },
  {
   "cell_type": "code",
   "execution_count": 55,
   "metadata": {},
   "outputs": [],
   "source": [
    "path = './data/corpus.parquet'\n",
    "\n",
    "# make_corpus.py 파일로 만듬 : SimpleDirectoryReader와 TokenTextSplitter로 자른 내용을 넣음 \n",
    "df = pd.read_parquet(path)"
   ]
  },
  {
   "cell_type": "code",
   "execution_count": 56,
   "metadata": {},
   "outputs": [
    {
     "data": {
      "text/html": [
       "<div>\n",
       "<style scoped>\n",
       "    .dataframe tbody tr th:only-of-type {\n",
       "        vertical-align: middle;\n",
       "    }\n",
       "\n",
       "    .dataframe tbody tr th {\n",
       "        vertical-align: top;\n",
       "    }\n",
       "\n",
       "    .dataframe thead th {\n",
       "        text-align: right;\n",
       "    }\n",
       "</style>\n",
       "<table border=\"1\" class=\"dataframe\">\n",
       "  <thead>\n",
       "    <tr style=\"text-align: right;\">\n",
       "      <th></th>\n",
       "      <th>doc_id</th>\n",
       "      <th>contents</th>\n",
       "      <th>metadata</th>\n",
       "    </tr>\n",
       "  </thead>\n",
       "  <tbody>\n",
       "    <tr>\n",
       "      <th>0</th>\n",
       "      <td>law - 형사_피고인이.pdf - 1</td>\n",
       "      <td>서울고등법원\\n제3형사부\\n판 결\\n사 건 2023노1373 통신비밀보호법위반\\n피...</td>\n",
       "      <td>{'last_modified_datetime': 2024-06-05 20:59:48...</td>\n",
       "    </tr>\n",
       "    <tr>\n",
       "      <th>1</th>\n",
       "      <td>law - 행정_원고가.pdf - 6</td>\n",
       "      <td>로열티로 지급하기로 하는 내용의 라이선스 계약을 체결하였다(갑 제4호증의 2). 그...</td>\n",
       "      <td>{'last_modified_datetime': 2024-06-05 20:59:48...</td>\n",
       "    </tr>\n",
       "    <tr>\n",
       "      <th>2</th>\n",
       "      <td>commerce - 이커머스 솔루션 소개자료.pdf - 36</td>\n",
       "      <td>e-Commerce Solution BESPIN GLOBAL\\n#인앱영상통화 # 글...</td>\n",
       "      <td>{'last_modified_datetime': 2024-06-05 20:59:48...</td>\n",
       "    </tr>\n",
       "    <tr>\n",
       "      <th>3</th>\n",
       "      <td>law - 행정_타인자금.pdf - 5</td>\n",
       "      <td>소유주식수\\n주주명 지분율 비고\\n계 보통주 우선주\\nc 33.730.000 33....</td>\n",
       "      <td>{'last_modified_datetime': 2024-06-05 20:59:48...</td>\n",
       "    </tr>\n",
       "    <tr>\n",
       "      <th>4</th>\n",
       "      <td>law - 행정_금품.pdf - 23</td>\n",
       "      <td>별지\\n관계 법령\\n공무원연금법\\n제37조(급여의 환수)\\n1 공단은 급여를 받은 ...</td>\n",
       "      <td>{'last_modified_datetime': 2024-06-05 20:59:48...</td>\n",
       "    </tr>\n",
       "  </tbody>\n",
       "</table>\n",
       "</div>"
      ],
      "text/plain": [
       "                              doc_id  \\\n",
       "0              law - 형사_피고인이.pdf - 1   \n",
       "1               law - 행정_원고가.pdf - 6   \n",
       "2  commerce - 이커머스 솔루션 소개자료.pdf - 36   \n",
       "3              law - 행정_타인자금.pdf - 5   \n",
       "4               law - 행정_금품.pdf - 23   \n",
       "\n",
       "                                            contents  \\\n",
       "0  서울고등법원\\n제3형사부\\n판 결\\n사 건 2023노1373 통신비밀보호법위반\\n피...   \n",
       "1  로열티로 지급하기로 하는 내용의 라이선스 계약을 체결하였다(갑 제4호증의 2). 그...   \n",
       "2  e-Commerce Solution BESPIN GLOBAL\\n#인앱영상통화 # 글...   \n",
       "3  소유주식수\\n주주명 지분율 비고\\n계 보통주 우선주\\nc 33.730.000 33....   \n",
       "4  별지\\n관계 법령\\n공무원연금법\\n제37조(급여의 환수)\\n1 공단은 급여를 받은 ...   \n",
       "\n",
       "                                            metadata  \n",
       "0  {'last_modified_datetime': 2024-06-05 20:59:48...  \n",
       "1  {'last_modified_datetime': 2024-06-05 20:59:48...  \n",
       "2  {'last_modified_datetime': 2024-06-05 20:59:48...  \n",
       "3  {'last_modified_datetime': 2024-06-05 20:59:48...  \n",
       "4  {'last_modified_datetime': 2024-06-05 20:59:48...  "
      ]
     },
     "execution_count": 56,
     "metadata": {},
     "output_type": "execute_result"
    }
   ],
   "source": [
    "df.head()"
   ]
  },
  {
   "cell_type": "code",
   "execution_count": 57,
   "metadata": {},
   "outputs": [
    {
     "data": {
      "text/plain": [
       "array(['law - 형사_피고인이.pdf - 1', 'law - 행정_원고가.pdf - 6',\n",
       "       'commerce - 이커머스 솔루션 소개자료.pdf - 36', 'law - 행정_타인자금.pdf - 5',\n",
       "       'law - 행정_금품.pdf - 23', 'commerce - 이커머스 솔루션 소개자료.pdf - 47',\n",
       "       'commerce - 이커머스 솔루션 소개자료.pdf - 45',\n",
       "       'commerce - Dighty Data Insight Report 2023.pdf - 11',\n",
       "       'law - 행정_원고가.pdf - 8', 'law -  2024 달라지는 세금제도.pdf - 27',\n",
       "       'finance - 한-호주 퇴직연금 포럼_책자(최종).pdf - 36', 'law - 행정_금품.pdf - 18',\n",
       "       'commerce - 이커머스 솔루션 소개자료.pdf - 21',\n",
       "       'commerce - MezzoMedia 산업 보고서 e커머스.pdf - 32',\n",
       "       'law - 민사_스마트폰.pdf - 35', 'law - 행정_원고가.pdf - 44',\n",
       "       'commerce - MezzoMedia 산업 보고서 e커머스.pdf - 17',\n",
       "       'finance - 지방은행 시중은행 전환 가이드.pdf - 12', 'law - 행정_조세_가상자산.pdf - 14',\n",
       "       'law - 행정_타인자금.pdf - 20', 'law - 행정_금품.pdf - 16',\n",
       "       'law -  2024 달라지는 세금제도.pdf - 4',\n",
       "       'commerce - 이커머스 솔루션 소개자료.pdf - 15',\n",
       "       'finance - 한-호주 퇴직연금 포럼_책자(최종).pdf - 13',\n",
       "       'public - 2023-2027 국가재정운용계획.pdf - 21', 'law - 행정_원고가.pdf - 39',\n",
       "       'law - 행정_조세_가상자산.pdf - 9', 'law - 행정_타인자금.pdf - 17',\n",
       "       'commerce - 쿠팡 상장과 이베이 인수  이후 국내 이커머스 시장은 어떻게 변할까.pdf - 11',\n",
       "       'commerce - 쿠팡 상장과 이베이 인수  이후 국내 이커머스 시장은 어떻게 변할까.pdf - 24',\n",
       "       'law - 민사_스마트폰.pdf - 22', 'law - 민사_분양받은.pdf - 16',\n",
       "       'law - 행정_원고가.pdf - 52', 'law -  2024 달라지는 세금제도.pdf - 12',\n",
       "       'public - 국가안전시스템 개편 보고서.pdf - 4',\n",
       "       'finance - 2024년 3월_3. 향후 통화신용정책 방향.pdf - 7',\n",
       "       'finance - 한-호주 퇴직연금 포럼_책자(최종).pdf - 46',\n",
       "       'public - 국가안전시스템 개편 보고서.pdf - 2',\n",
       "       'public - 국가안전시스템 개편 보고서.pdf - 16',\n",
       "       'public - 2023-2027 국가재정운용계획.pdf - 36', 'law - 행정_원고가.pdf - 16',\n",
       "       'commerce - Dighty Data Insight Report 2023.pdf - 1',\n",
       "       'commerce - 이커머스 솔루션 소개자료.pdf - 31',\n",
       "       'finance - 한-호주 퇴직연금 포럼_책자(최종).pdf - 42', 'law - 민사_스마트폰.pdf - 21',\n",
       "       'commerce - MezzoMedia 산업 보고서 e커머스.pdf - 3',\n",
       "       'law - 형사_피고인이.pdf - 3', 'public - 2024 행정안전부 업무계획.pdf - 9',\n",
       "       'finance - 상생금융 추진현황 240320.pdf - 1',\n",
       "       'commerce - MezzoMedia 산업 보고서 e커머스.pdf - 8',\n",
       "       'commerce - MezzoMedia 산업 보고서 e커머스.pdf - 11',\n",
       "       'commerce - KCA_Media_Issue_Trend_vol50_trend_report_03.pdf - 3',\n",
       "       'law - 민사_미성년자인.pdf - 7', 'law - 행정_조세_가상자산.pdf - 7',\n",
       "       'law - 특허_원고.pdf - 3', 'law - 행정_원고가.pdf - 22',\n",
       "       'law - 행정_원고가.pdf - 26',\n",
       "       'public - 제4차(24_28)+학교도서관+진흥+기본계획.pdf - 6',\n",
       "       'public - 2024년 주요업무 추진계획.pdf - 3',\n",
       "       'public - 2024년 주요업무 추진계획.pdf - 6',\n",
       "       'public - 국가안전시스템 개편 보고서.pdf - 8',\n",
       "       'finance - 240409(보도자료) 금융위 핀테크 투자 생태계 활성화 나선다.pdf - 3',\n",
       "       'finance - 2024년 3월_3. 향후 통화신용정책 방향.pdf - 10',\n",
       "       'finance - 2024년 3월_3. 향후 통화신용정책 방향.pdf - 17',\n",
       "       'finance - 2024년 3월_2. 통화신용정책 운영.pdf - 7'], dtype=object)"
      ]
     },
     "execution_count": 57,
     "metadata": {},
     "output_type": "execute_result"
    }
   ],
   "source": [
    "df['doc_id'].unique()"
   ]
  },
  {
   "cell_type": "code",
   "execution_count": 58,
   "metadata": {},
   "outputs": [
    {
     "data": {
      "text/html": [
       "<div>\n",
       "<style scoped>\n",
       "    .dataframe tbody tr th:only-of-type {\n",
       "        vertical-align: middle;\n",
       "    }\n",
       "\n",
       "    .dataframe tbody tr th {\n",
       "        vertical-align: top;\n",
       "    }\n",
       "\n",
       "    .dataframe thead th {\n",
       "        text-align: right;\n",
       "    }\n",
       "</style>\n",
       "<table border=\"1\" class=\"dataframe\">\n",
       "  <thead>\n",
       "    <tr style=\"text-align: right;\">\n",
       "      <th></th>\n",
       "      <th>qid</th>\n",
       "      <th>query</th>\n",
       "      <th>generation_gt</th>\n",
       "      <th>retrieval_gt</th>\n",
       "    </tr>\n",
       "  </thead>\n",
       "  <tbody>\n",
       "    <tr>\n",
       "      <th>0</th>\n",
       "      <td>80_law</td>\n",
       "      <td>원고 A이 시력 저하등의 증상이 발생한 시점은 언제로 보고, 그 시점 판단의 기준은...</td>\n",
       "      <td>[원고 A의 시력 저하 등의 증상은 2017년 2월 25일 이전, 즉 필러 주입술 ...</td>\n",
       "      <td>[[law - 민사_미성년자인.pdf - 7]]</td>\n",
       "    </tr>\n",
       "    <tr>\n",
       "      <th>1</th>\n",
       "      <td>4_finance</td>\n",
       "      <td>2024년도 한국은행의 대정부 일시대출금 한도와 대출조건을 결정하는 과정에서 보완된...</td>\n",
       "      <td>[2024년도 한국은행의 대정부 일시대출금 한도는 총 50조 원으로, 이전 년도와 ...</td>\n",
       "      <td>[[finance - 2024년 3월_2. 통화신용정책 운영.pdf - 7]]</td>\n",
       "    </tr>\n",
       "    <tr>\n",
       "      <th>2</th>\n",
       "      <td>40_public</td>\n",
       "      <td>2023년에 발표된 '가을철 지역축제 안전관리협조 요청 사항'은 무엇인지, 그리고 ...</td>\n",
       "      <td>[2023년 가을철 지역축제 안전관리협조 요청 사항에 따르면, 인파밀집 행사 시 부...</td>\n",
       "      <td>[[public - 국가안전시스템 개편 보고서.pdf - 8]]</td>\n",
       "    </tr>\n",
       "    <tr>\n",
       "      <th>3</th>\n",
       "      <td>69_law</td>\n",
       "      <td>국세기본법 제14조 제2항에서 언급하는 과세표준의 계산에 관한 규정이 어떠한 실질내...</td>\n",
       "      <td>[국세기본법 제14조 제2항에 따르면, 과세표준의 계산은 소득, 수익, 재산, 행위...</td>\n",
       "      <td>[[law - 행정_원고가.pdf - 22]]</td>\n",
       "    </tr>\n",
       "    <tr>\n",
       "      <th>4</th>\n",
       "      <td>10_finance</td>\n",
       "      <td>비은행 금융기관의 부동산 PF 대출 연체율 상승에 따른 미래적 영향은 무엇이며, 어...</td>\n",
       "      <td>[비은행 금융기관의 부동산 PF 대출의 연체율이 상승하는 경우, 이는 관련 대출 부...</td>\n",
       "      <td>[[finance - 2024년 3월_3. 향후 통화신용정책 방향.pdf - 10]]</td>\n",
       "    </tr>\n",
       "  </tbody>\n",
       "</table>\n",
       "</div>"
      ],
      "text/plain": [
       "          qid                                              query  \\\n",
       "0      80_law  원고 A이 시력 저하등의 증상이 발생한 시점은 언제로 보고, 그 시점 판단의 기준은...   \n",
       "1   4_finance  2024년도 한국은행의 대정부 일시대출금 한도와 대출조건을 결정하는 과정에서 보완된...   \n",
       "2   40_public  2023년에 발표된 '가을철 지역축제 안전관리협조 요청 사항'은 무엇인지, 그리고 ...   \n",
       "3      69_law  국세기본법 제14조 제2항에서 언급하는 과세표준의 계산에 관한 규정이 어떠한 실질내...   \n",
       "4  10_finance  비은행 금융기관의 부동산 PF 대출 연체율 상승에 따른 미래적 영향은 무엇이며, 어...   \n",
       "\n",
       "                                       generation_gt  \\\n",
       "0  [원고 A의 시력 저하 등의 증상은 2017년 2월 25일 이전, 즉 필러 주입술 ...   \n",
       "1  [2024년도 한국은행의 대정부 일시대출금 한도는 총 50조 원으로, 이전 년도와 ...   \n",
       "2  [2023년 가을철 지역축제 안전관리협조 요청 사항에 따르면, 인파밀집 행사 시 부...   \n",
       "3  [국세기본법 제14조 제2항에 따르면, 과세표준의 계산은 소득, 수익, 재산, 행위...   \n",
       "4  [비은행 금융기관의 부동산 PF 대출의 연체율이 상승하는 경우, 이는 관련 대출 부...   \n",
       "\n",
       "                                      retrieval_gt  \n",
       "0                       [[law - 민사_미성년자인.pdf - 7]]  \n",
       "1      [[finance - 2024년 3월_2. 통화신용정책 운영.pdf - 7]]  \n",
       "2              [[public - 국가안전시스템 개편 보고서.pdf - 8]]  \n",
       "3                        [[law - 행정_원고가.pdf - 22]]  \n",
       "4  [[finance - 2024년 3월_3. 향후 통화신용정책 방향.pdf - 10]]  "
      ]
     },
     "execution_count": 58,
     "metadata": {},
     "output_type": "execute_result"
    }
   ],
   "source": [
    "path = './data/qa.parquet'\n",
    "\n",
    "# make_qa.py 파일로 만듬 : 질문과 응답 쌍을 만듬 , 어떤 문서가 관련이 있는지 \n",
    "df = pd.read_parquet(path)\n",
    "\n",
    "df.head()"
   ]
  },
  {
   "cell_type": "code",
   "execution_count": 59,
   "metadata": {},
   "outputs": [
    {
     "data": {
      "text/plain": [
       "array(['80_law', '4_finance', '40_public', '69_law', '10_finance',\n",
       "       '45_public', '70_law', '66_law', '47_public', '11_finance',\n",
       "       '98_commerce', '36_public', '83_law', '112_commerce', '18_finance'],\n",
       "      dtype=object)"
      ]
     },
     "execution_count": 59,
     "metadata": {},
     "output_type": "execute_result"
    }
   ],
   "source": [
    "df['qid'].unique()"
   ]
  },
  {
   "cell_type": "code",
   "execution_count": 3,
   "metadata": {},
   "outputs": [],
   "source": [
    "import pickle\n",
    "import pandas as pd "
   ]
  },
  {
   "cell_type": "code",
   "execution_count": 4,
   "metadata": {},
   "outputs": [],
   "source": [
    "data = pd.read_pickle('data/all_docs.pkl')"
   ]
  },
  {
   "cell_type": "code",
   "execution_count": 6,
   "metadata": {},
   "outputs": [
    {
     "data": {
      "text/plain": [
       "4566"
      ]
     },
     "execution_count": 6,
     "metadata": {},
     "output_type": "execute_result"
    }
   ],
   "source": [
    "len(data)"
   ]
  },
  {
   "cell_type": "code",
   "execution_count": 24,
   "metadata": {},
   "outputs": [],
   "source": [
    "def check_data(data_order):\n",
    "    sample_data = data[data_order]\n",
    "    \n",
    "    return sample_data.page_content, sample_data.metadata"
   ]
  },
  {
   "cell_type": "code",
   "execution_count": 14,
   "metadata": {},
   "outputs": [
    {
     "data": {
      "text/plain": [
       "Document(page_content='24 6 27 오후 435 동물도 인간living person 같은 권리 있다인도 법원 결정  연합뉴스\\n본기사는연합뉴스와의계약없이전문또는일부의전재를금합니다\\nCopyrightCYonhapnewsAllrightsreserved\\nhttpswwwynacokrviewAKR20180705086100077sectionpopupprint 33', metadata={'filename': 'data/PDF_without_contents\\\\1. 법률 및 규제\\\\[법률][연합뉴스][2018.07.05] 동물도 인간 같은 권리 존재(인도 법원 결정).pdf', 'chunk': 5, 'keyword': '동물권, 인도 법원, 결정'})"
      ]
     },
     "execution_count": 14,
     "metadata": {},
     "output_type": "execute_result"
    }
   ],
   "source": [
    "sample_data1 = data[20]\n",
    "\n",
    "sample_data1"
   ]
  },
  {
   "cell_type": "code",
   "execution_count": 16,
   "metadata": {},
   "outputs": [
    {
     "data": {
      "text/plain": [
       "'24 6 27 오후 435 동물도 인간living person 같은 권리 있다인도 법원 결정  연합뉴스\\n본기사는연합뉴스와의계약없이전문또는일부의전재를금합니다\\nCopyrightCYonhapnewsAllrightsreserved\\nhttpswwwynacokrviewAKR20180705086100077sectionpopupprint 33'"
      ]
     },
     "execution_count": 16,
     "metadata": {},
     "output_type": "execute_result"
    }
   ],
   "source": [
    "sample_data1.page_content"
   ]
  },
  {
   "cell_type": "code",
   "execution_count": 17,
   "metadata": {},
   "outputs": [
    {
     "data": {
      "text/plain": [
       "{'filename': 'data/PDF_without_contents\\\\1. 법률 및 규제\\\\[법률][연합뉴스][2018.07.05] 동물도 인간 같은 권리 존재(인도 법원 결정).pdf',\n",
       " 'chunk': 5,\n",
       " 'keyword': '동물권, 인도 법원, 결정'}"
      ]
     },
     "execution_count": 17,
     "metadata": {},
     "output_type": "execute_result"
    }
   ],
   "source": [
    "sample_data1.metadata"
   ]
  },
  {
   "cell_type": "code",
   "execution_count": 21,
   "metadata": {},
   "outputs": [
    {
     "data": {
      "text/plain": [
       "Document(page_content='Share Holder 인도인이 한 명도 포함되지 않아도 된다\\n214 자본금 결정\\n주식회사 설립에 필요한 최소 자본금 규정이 2015년 회사법이 부분 개정되면서 폐지되었다\\n형식적으로 보면 2루피약 30원의 자본금으로 인도에서 주식회사 법인을 세울 수 있다 자본금은\\n수권자본금Authorized Capital과 실제로 납부된 자본금을 말하는 납입자본금Paid Capital\\n로 구분되어 있는 것이 한국의 주식회사 자본금과 다르다 수권자본금이란 납입할 수 있는 법인의', metadata={'filename': 'data/PDF_without_contents\\\\1. 법률 및 규제\\\\[법률_규범_특허][코트라][2022]인도 비즈니스 가이드.pdf', 'chunk': 187, 'keyword': '키워드: 인도, 주식회사, 자본금, 수권자본금, 납입자본금'})"
      ]
     },
     "execution_count": 21,
     "metadata": {},
     "output_type": "execute_result"
    }
   ],
   "source": [
    "sample_data2 = data[3000]\n",
    "\n",
    "sample_data2"
   ]
  },
  {
   "cell_type": "code",
   "execution_count": 25,
   "metadata": {},
   "outputs": [],
   "source": [
    "cont, meta = check_data(3000)"
   ]
  },
  {
   "cell_type": "code",
   "execution_count": 29,
   "metadata": {},
   "outputs": [
    {
     "name": "stdout",
     "output_type": "stream",
     "text": [
      "Share Holder 인도인이 한 명도 포함되지 않아도 된다\n",
      "214 자본금 결정\n",
      "주식회사 설립에 필요한 최소 자본금 규정이 2015년 회사법이 부분 개정되면서 폐지되었다\n",
      "형식적으로 보면 2루피약 30원의 자본금으로 인도에서 주식회사 법인을 세울 수 있다 자본금은\n",
      "수권자본금Authorized Capital과 실제로 납부된 자본금을 말하는 납입자본금Paid Capital\n",
      "로 구분되어 있는 것이 한국의 주식회사 자본금과 다르다 수권자본금이란 납입할 수 있는 법인의\n",
      "---\n",
      "{'filename': 'data/PDF_without_contents\\\\1. 법률 및 규제\\\\[법률_규범_특허][코트라][2022]인도 비즈니스 가이드.pdf', 'chunk': 187, 'keyword': '키워드: 인도, 주식회사, 자본금, 수권자본금, 납입자본금'}\n"
     ]
    }
   ],
   "source": [
    "print(cont)\n",
    "print('---')\n",
    "print(meta)"
   ]
  },
  {
   "cell_type": "code",
   "execution_count": 36,
   "metadata": {},
   "outputs": [],
   "source": [
    "cont, meta = check_data(4200)"
   ]
  },
  {
   "cell_type": "code",
   "execution_count": 35,
   "metadata": {},
   "outputs": [
    {
     "name": "stdout",
     "output_type": "stream",
     "text": [
      "Determinants for Pet Food Purchasing Decisions\n",
      "Section AResearch paper\n",
      "resulted in a rise in the number of single parents and professionals living alone in large cities\n",
      "giving rise to an unprecedented level of pampering and affection for pets People frequently own\n",
      "---\n",
      "{'filename': 'data/PDF_without_contents\\\\2. 경제 및 시장 분석\\\\펫산업\\\\[인도_펫산업_시장분석][ECB(European chemical Bulletin)][2023]An Analytical study of Preferences and Determinants for Pet Food Purchasing Decisions.pdf', 'chunk': 19, 'keyword': '키워드:\\n\\n1. Determinants\\n2. Pet Food Purchasing Decisions\\n3. Single Parents\\n4. Professionals\\n5. Large Cities\\n6. Pampering\\n7. Affection for Pets'}\n"
     ]
    }
   ],
   "source": [
    "print(cont)\n",
    "print('---')\n",
    "print(meta)"
   ]
  },
  {
   "cell_type": "code",
   "execution_count": 73,
   "metadata": {},
   "outputs": [
    {
     "data": {
      "text/html": [
       "<div>\n",
       "<style scoped>\n",
       "    .dataframe tbody tr th:only-of-type {\n",
       "        vertical-align: middle;\n",
       "    }\n",
       "\n",
       "    .dataframe tbody tr th {\n",
       "        vertical-align: top;\n",
       "    }\n",
       "\n",
       "    .dataframe thead th {\n",
       "        text-align: right;\n",
       "    }\n",
       "</style>\n",
       "<table border=\"1\" class=\"dataframe\">\n",
       "  <thead>\n",
       "    <tr style=\"text-align: right;\">\n",
       "      <th></th>\n",
       "      <th>qid</th>\n",
       "      <th>query</th>\n",
       "      <th>generation_gt</th>\n",
       "      <th>retrieval_gt</th>\n",
       "    </tr>\n",
       "  </thead>\n",
       "  <tbody>\n",
       "    <tr>\n",
       "      <th>0</th>\n",
       "      <td>80_law</td>\n",
       "      <td>원고 A이 시력 저하등의 증상이 발생한 시점은 언제로 보고, 그 시점 판단의 기준은...</td>\n",
       "      <td>[원고 A의 시력 저하 등의 증상은 2017년 2월 25일 이전, 즉 필러 주입술 ...</td>\n",
       "      <td>[[law - 민사_미성년자인.pdf - 7]]</td>\n",
       "    </tr>\n",
       "    <tr>\n",
       "      <th>1</th>\n",
       "      <td>4_finance</td>\n",
       "      <td>2024년도 한국은행의 대정부 일시대출금 한도와 대출조건을 결정하는 과정에서 보완된...</td>\n",
       "      <td>[2024년도 한국은행의 대정부 일시대출금 한도는 총 50조 원으로, 이전 년도와 ...</td>\n",
       "      <td>[[finance - 2024년 3월_2. 통화신용정책 운영.pdf - 7]]</td>\n",
       "    </tr>\n",
       "    <tr>\n",
       "      <th>2</th>\n",
       "      <td>40_public</td>\n",
       "      <td>2023년에 발표된 '가을철 지역축제 안전관리협조 요청 사항'은 무엇인지, 그리고 ...</td>\n",
       "      <td>[2023년 가을철 지역축제 안전관리협조 요청 사항에 따르면, 인파밀집 행사 시 부...</td>\n",
       "      <td>[[public - 국가안전시스템 개편 보고서.pdf - 8]]</td>\n",
       "    </tr>\n",
       "    <tr>\n",
       "      <th>3</th>\n",
       "      <td>69_law</td>\n",
       "      <td>국세기본법 제14조 제2항에서 언급하는 과세표준의 계산에 관한 규정이 어떠한 실질내...</td>\n",
       "      <td>[국세기본법 제14조 제2항에 따르면, 과세표준의 계산은 소득, 수익, 재산, 행위...</td>\n",
       "      <td>[[law - 행정_원고가.pdf - 22]]</td>\n",
       "    </tr>\n",
       "    <tr>\n",
       "      <th>4</th>\n",
       "      <td>10_finance</td>\n",
       "      <td>비은행 금융기관의 부동산 PF 대출 연체율 상승에 따른 미래적 영향은 무엇이며, 어...</td>\n",
       "      <td>[비은행 금융기관의 부동산 PF 대출의 연체율이 상승하는 경우, 이는 관련 대출 부...</td>\n",
       "      <td>[[finance - 2024년 3월_3. 향후 통화신용정책 방향.pdf - 10]]</td>\n",
       "    </tr>\n",
       "  </tbody>\n",
       "</table>\n",
       "</div>"
      ],
      "text/plain": [
       "          qid                                              query  \\\n",
       "0      80_law  원고 A이 시력 저하등의 증상이 발생한 시점은 언제로 보고, 그 시점 판단의 기준은...   \n",
       "1   4_finance  2024년도 한국은행의 대정부 일시대출금 한도와 대출조건을 결정하는 과정에서 보완된...   \n",
       "2   40_public  2023년에 발표된 '가을철 지역축제 안전관리협조 요청 사항'은 무엇인지, 그리고 ...   \n",
       "3      69_law  국세기본법 제14조 제2항에서 언급하는 과세표준의 계산에 관한 규정이 어떠한 실질내...   \n",
       "4  10_finance  비은행 금융기관의 부동산 PF 대출 연체율 상승에 따른 미래적 영향은 무엇이며, 어...   \n",
       "\n",
       "                                       generation_gt  \\\n",
       "0  [원고 A의 시력 저하 등의 증상은 2017년 2월 25일 이전, 즉 필러 주입술 ...   \n",
       "1  [2024년도 한국은행의 대정부 일시대출금 한도는 총 50조 원으로, 이전 년도와 ...   \n",
       "2  [2023년 가을철 지역축제 안전관리협조 요청 사항에 따르면, 인파밀집 행사 시 부...   \n",
       "3  [국세기본법 제14조 제2항에 따르면, 과세표준의 계산은 소득, 수익, 재산, 행위...   \n",
       "4  [비은행 금융기관의 부동산 PF 대출의 연체율이 상승하는 경우, 이는 관련 대출 부...   \n",
       "\n",
       "                                      retrieval_gt  \n",
       "0                       [[law - 민사_미성년자인.pdf - 7]]  \n",
       "1      [[finance - 2024년 3월_2. 통화신용정책 운영.pdf - 7]]  \n",
       "2              [[public - 국가안전시스템 개편 보고서.pdf - 8]]  \n",
       "3                        [[law - 행정_원고가.pdf - 22]]  \n",
       "4  [[finance - 2024년 3월_3. 향후 통화신용정책 방향.pdf - 10]]  "
      ]
     },
     "execution_count": 73,
     "metadata": {},
     "output_type": "execute_result"
    }
   ],
   "source": [
    "path = './data/qa.parquet'\n",
    "\n",
    "# make_qa.py 파일로 만듬 : 질문과 응답 쌍을 만듬 , 어떤 문서가 관련이 있는지 \n",
    "df = pd.read_parquet(path)\n",
    "\n",
    "df.head()"
   ]
  },
  {
   "cell_type": "code",
   "execution_count": 74,
   "metadata": {},
   "outputs": [
    {
     "data": {
      "text/plain": [
       "15"
      ]
     },
     "execution_count": 74,
     "metadata": {},
     "output_type": "execute_result"
    }
   ],
   "source": [
    "len(df)"
   ]
  },
  {
   "cell_type": "code",
   "execution_count": 85,
   "metadata": {},
   "outputs": [
    {
     "data": {
      "text/html": [
       "<div>\n",
       "<style scoped>\n",
       "    .dataframe tbody tr th:only-of-type {\n",
       "        vertical-align: middle;\n",
       "    }\n",
       "\n",
       "    .dataframe tbody tr th {\n",
       "        vertical-align: top;\n",
       "    }\n",
       "\n",
       "    .dataframe thead th {\n",
       "        text-align: right;\n",
       "    }\n",
       "</style>\n",
       "<table border=\"1\" class=\"dataframe\">\n",
       "  <thead>\n",
       "    <tr style=\"text-align: right;\">\n",
       "      <th></th>\n",
       "      <th>qid</th>\n",
       "      <th>retrieval_gt</th>\n",
       "      <th>query</th>\n",
       "      <th>generation_gt</th>\n",
       "    </tr>\n",
       "  </thead>\n",
       "  <tbody>\n",
       "    <tr>\n",
       "      <th>0</th>\n",
       "      <td>83903880-a911-4175-be7c-eb5cd111a491</td>\n",
       "      <td>[[PDF_without_contents\\2. 경제 및 시장 분석\\[전체 정보][K...</td>\n",
       "      <td>인도의 소비자들이 선호하는 제품 유형은 무엇인가요?</td>\n",
       "      <td>[인도의 소비자들은 종교적 특성으로 인해 자연친화 제품을 선호하는 경향이 있습니다.]</td>\n",
       "    </tr>\n",
       "    <tr>\n",
       "      <th>1</th>\n",
       "      <td>a6c8b48e-e807-4016-b1f9-02e74c02e08f</td>\n",
       "      <td>[[PDF_without_contents\\1. 법률 및 규제\\[법률_규범_특허][코...</td>\n",
       "      <td>상표 등록이 완료된 후 기호 을을 사용할 수 있는 조건은 무엇인가요?</td>\n",
       "      <td>[상표 등록이 완료된 후에도 인증서에 명시된 상품 및 서비스에 대해서만 기호 을을 ...</td>\n",
       "    </tr>\n",
       "    <tr>\n",
       "      <th>2</th>\n",
       "      <td>7b78d255-2666-4936-aee2-3af308fb3fb9</td>\n",
       "      <td>[[PDF_without_contents\\1. 법률 및 규제\\[법률_규범_특허][인...</td>\n",
       "      <td>제품 불만 사항의 처리는 테스트 시간을 제외하고 몇 일 이내에 완료되어야 하나요?</td>\n",
       "      <td>[제품 불만 사항의 처리는 테스트 시간을 제외하고 90일 이내에 완료되어야 합니다.]</td>\n",
       "    </tr>\n",
       "    <tr>\n",
       "      <th>3</th>\n",
       "      <td>90c04365-9450-438d-8fbf-2bb756a0df12</td>\n",
       "      <td>[[PDF_without_contents\\1. 법률 및 규제\\[법률_규범_특허][코...</td>\n",
       "      <td>고메카닉(GoMechanic)은 어떤 방식으로 자동차 서비스를 제공하나요?</td>\n",
       "      <td>[고메카닉(GoMechanic)은 집에서 픽업 및 드롭 서비스를 통해 자동차 서비스...</td>\n",
       "    </tr>\n",
       "    <tr>\n",
       "      <th>4</th>\n",
       "      <td>79de4d61-623b-4d31-bb26-a048b4ca7e33</td>\n",
       "      <td>[[PDF_without_contents\\2. 경제 및 시장 분석\\[전체 정보][K...</td>\n",
       "      <td>톨루엔 디이소시아네이트에 대한 반덤핑 규제는 어느 나라들이 적용되고 있나요?</td>\n",
       "      <td>[톨루엔 디이소시아네이트에 대한 반덤핑 규제는 중국, 일본, 한국에 적용되고 있습니다.]</td>\n",
       "    </tr>\n",
       "  </tbody>\n",
       "</table>\n",
       "</div>"
      ],
      "text/plain": [
       "                                    qid  \\\n",
       "0  83903880-a911-4175-be7c-eb5cd111a491   \n",
       "1  a6c8b48e-e807-4016-b1f9-02e74c02e08f   \n",
       "2  7b78d255-2666-4936-aee2-3af308fb3fb9   \n",
       "3  90c04365-9450-438d-8fbf-2bb756a0df12   \n",
       "4  79de4d61-623b-4d31-bb26-a048b4ca7e33   \n",
       "\n",
       "                                        retrieval_gt  \\\n",
       "0  [[PDF_without_contents\\2. 경제 및 시장 분석\\[전체 정보][K...   \n",
       "1  [[PDF_without_contents\\1. 법률 및 규제\\[법률_규범_특허][코...   \n",
       "2  [[PDF_without_contents\\1. 법률 및 규제\\[법률_규범_특허][인...   \n",
       "3  [[PDF_without_contents\\1. 법률 및 규제\\[법률_규범_특허][코...   \n",
       "4  [[PDF_without_contents\\2. 경제 및 시장 분석\\[전체 정보][K...   \n",
       "\n",
       "                                           query  \\\n",
       "0                   인도의 소비자들이 선호하는 제품 유형은 무엇인가요?   \n",
       "1         상표 등록이 완료된 후 기호 을을 사용할 수 있는 조건은 무엇인가요?   \n",
       "2  제품 불만 사항의 처리는 테스트 시간을 제외하고 몇 일 이내에 완료되어야 하나요?   \n",
       "3      고메카닉(GoMechanic)은 어떤 방식으로 자동차 서비스를 제공하나요?   \n",
       "4     톨루엔 디이소시아네이트에 대한 반덤핑 규제는 어느 나라들이 적용되고 있나요?   \n",
       "\n",
       "                                       generation_gt  \n",
       "0    [인도의 소비자들은 종교적 특성으로 인해 자연친화 제품을 선호하는 경향이 있습니다.]  \n",
       "1  [상표 등록이 완료된 후에도 인증서에 명시된 상품 및 서비스에 대해서만 기호 을을 ...  \n",
       "2    [제품 불만 사항의 처리는 테스트 시간을 제외하고 90일 이내에 완료되어야 합니다.]  \n",
       "3  [고메카닉(GoMechanic)은 집에서 픽업 및 드롭 서비스를 통해 자동차 서비스...  \n",
       "4  [톨루엔 디이소시아네이트에 대한 반덤핑 규제는 중국, 일본, 한국에 적용되고 있습니다.]  "
      ]
     },
     "execution_count": 85,
     "metadata": {},
     "output_type": "execute_result"
    }
   ],
   "source": [
    "path = './my_data/qa_new.parquet'\n",
    "\n",
    "# make_qa.py 파일로 만듬 : 질문과 응답 쌍을 만듬 , 어떤 문서가 관련이 있는지 \n",
    "df = pd.read_parquet(path)\n",
    "\n",
    "df.head()"
   ]
  },
  {
   "cell_type": "code",
   "execution_count": 86,
   "metadata": {},
   "outputs": [
    {
     "data": {
      "text/plain": [
       "123"
      ]
     },
     "execution_count": 86,
     "metadata": {},
     "output_type": "execute_result"
    }
   ],
   "source": [
    "len(df)"
   ]
  },
  {
   "cell_type": "code",
   "execution_count": 72,
   "metadata": {},
   "outputs": [
    {
     "data": {
      "text/html": [
       "<div>\n",
       "<style scoped>\n",
       "    .dataframe tbody tr th:only-of-type {\n",
       "        vertical-align: middle;\n",
       "    }\n",
       "\n",
       "    .dataframe tbody tr th {\n",
       "        vertical-align: top;\n",
       "    }\n",
       "\n",
       "    .dataframe thead th {\n",
       "        text-align: right;\n",
       "    }\n",
       "</style>\n",
       "<table border=\"1\" class=\"dataframe\">\n",
       "  <thead>\n",
       "    <tr style=\"text-align: right;\">\n",
       "      <th></th>\n",
       "      <th>qid</th>\n",
       "      <th>retrieval_gt</th>\n",
       "      <th>query</th>\n",
       "      <th>generation_gt</th>\n",
       "    </tr>\n",
       "  </thead>\n",
       "  <tbody>\n",
       "    <tr>\n",
       "      <th>0</th>\n",
       "      <td>abb025de-9e1e-4937-bceb-33247650b400</td>\n",
       "      <td>[[PDF_without_contents\\1. 법률 및 규제\\[법률_규범_특허][인...</td>\n",
       "      <td>이 자료에서 'IS 76531975'는 무엇을 의미하나요?</td>\n",
       "      <td>['IS 76531975'는 특정 제품이나 표준의 식별 번호로 보입니다.]</td>\n",
       "    </tr>\n",
       "    <tr>\n",
       "      <th>1</th>\n",
       "      <td>abb025de-9e1e-4937-bceb-33247650b400</td>\n",
       "      <td>[[PDF_without_contents\\1. 법률 및 규제\\[법률_규범_특허][인...</td>\n",
       "      <td>자료에 나타난 날짜 형식은 무엇인가요?</td>\n",
       "      <td>[자료에 나타난 날짜 형식은 일/월/연도 형식으로, 예를 들어 '24082016'은...</td>\n",
       "    </tr>\n",
       "    <tr>\n",
       "      <th>2</th>\n",
       "      <td>190be36a-6f29-4107-8e8e-c5939d1e94f0</td>\n",
       "      <td>[[PDF_without_contents\\1. 법률 및 규제\\[법률_규범_특허][인...</td>\n",
       "      <td>해당 자료와 관련 없습니다.</td>\n",
       "      <td>[해당 자료와 관련 없습니다.]</td>\n",
       "    </tr>\n",
       "    <tr>\n",
       "      <th>3</th>\n",
       "      <td>190be36a-6f29-4107-8e8e-c5939d1e94f0</td>\n",
       "      <td>[[PDF_without_contents\\1. 법률 및 규제\\[법률_규범_특허][인...</td>\n",
       "      <td>해당 자료와 관련 없습니다.</td>\n",
       "      <td>[해당 자료와 관련 없습니다.]</td>\n",
       "    </tr>\n",
       "    <tr>\n",
       "      <th>4</th>\n",
       "      <td>461283ba-0aef-42b7-852c-ed7012c643e6</td>\n",
       "      <td>[[PDF_without_contents\\2. 경제 및 시장 분석\\[전체 정보][K...</td>\n",
       "      <td>인도의 소비자들은 어떤 제품을 선호하는 경향이 있나요?</td>\n",
       "      <td>[인도의 소비자들은 종교적 특성으로 인해 자연제품을 선호하는 경향이 있습니다.]</td>\n",
       "    </tr>\n",
       "    <tr>\n",
       "      <th>5</th>\n",
       "      <td>461283ba-0aef-42b7-852c-ed7012c643e6</td>\n",
       "      <td>[[PDF_without_contents\\2. 경제 및 시장 분석\\[전체 정보][K...</td>\n",
       "      <td>인도에서 채식주의자의 인구 비율은 어떻게 되나요?</td>\n",
       "      <td>[인도는 다른 국가와 비교했을 때 채식주의자의 인구 비율이 높게 나타납니다.]</td>\n",
       "    </tr>\n",
       "    <tr>\n",
       "      <th>6</th>\n",
       "      <td>9aa99e2e-9755-42ee-8ece-e798b56255a6</td>\n",
       "      <td>[[PDF_without_contents\\1. 법률 및 규제\\[법률_규범_특허][코...</td>\n",
       "      <td>상표 등록이 완료된 후 기호 '을'을 사용할 수 있는 조건은 무엇인가요?</td>\n",
       "      <td>[상표 등록이 완료된 후 기호 '을'을 사용할 수 있으며, 인증서에 명시된 상품 및...</td>\n",
       "    </tr>\n",
       "    <tr>\n",
       "      <th>7</th>\n",
       "      <td>9aa99e2e-9755-42ee-8ece-e798b56255a6</td>\n",
       "      <td>[[PDF_without_contents\\1. 법률 및 규제\\[법률_규범_특허][코...</td>\n",
       "      <td>상표 등록이 기업에 주는 이점은 무엇인가요?</td>\n",
       "      <td>[상표 등록을 통해 판매자는 고유의 상표를 사용하여 경쟁자와 차별성을 가질 수 있으...</td>\n",
       "    </tr>\n",
       "    <tr>\n",
       "      <th>8</th>\n",
       "      <td>08f8b660-f0aa-488b-9a1c-ef85688b2d42</td>\n",
       "      <td>[[PDF_without_contents\\1. 법률 및 규제\\[법률_규범_특허][인...</td>\n",
       "      <td>인증서의 정지 및 취소는 어떤 기준에 따라 이루어집니까?</td>\n",
       "      <td>[인증서의 정지 및 취소는 Schedule II에 명시된 적용 가능한 계획에 따라 ...</td>\n",
       "    </tr>\n",
       "    <tr>\n",
       "      <th>9</th>\n",
       "      <td>08f8b660-f0aa-488b-9a1c-ef85688b2d42</td>\n",
       "      <td>[[PDF_without_contents\\1. 법률 및 규제\\[법률_규범_특허][인...</td>\n",
       "      <td>필요한 시정 조치가 취해지지 않거나 수수료가 지불되지 않았을 경우 어떤 조치가 취해...</td>\n",
       "      <td>[필요한 시정 조치가 취해지지 않거나 수수료가 지불되지 않았을 경우 인증서의 정지 ...</td>\n",
       "    </tr>\n",
       "  </tbody>\n",
       "</table>\n",
       "</div>"
      ],
      "text/plain": [
       "                                    qid  \\\n",
       "0  abb025de-9e1e-4937-bceb-33247650b400   \n",
       "1  abb025de-9e1e-4937-bceb-33247650b400   \n",
       "2  190be36a-6f29-4107-8e8e-c5939d1e94f0   \n",
       "3  190be36a-6f29-4107-8e8e-c5939d1e94f0   \n",
       "4  461283ba-0aef-42b7-852c-ed7012c643e6   \n",
       "5  461283ba-0aef-42b7-852c-ed7012c643e6   \n",
       "6  9aa99e2e-9755-42ee-8ece-e798b56255a6   \n",
       "7  9aa99e2e-9755-42ee-8ece-e798b56255a6   \n",
       "8  08f8b660-f0aa-488b-9a1c-ef85688b2d42   \n",
       "9  08f8b660-f0aa-488b-9a1c-ef85688b2d42   \n",
       "\n",
       "                                        retrieval_gt  \\\n",
       "0  [[PDF_without_contents\\1. 법률 및 규제\\[법률_규범_특허][인...   \n",
       "1  [[PDF_without_contents\\1. 법률 및 규제\\[법률_규범_특허][인...   \n",
       "2  [[PDF_without_contents\\1. 법률 및 규제\\[법률_규범_특허][인...   \n",
       "3  [[PDF_without_contents\\1. 법률 및 규제\\[법률_규범_특허][인...   \n",
       "4  [[PDF_without_contents\\2. 경제 및 시장 분석\\[전체 정보][K...   \n",
       "5  [[PDF_without_contents\\2. 경제 및 시장 분석\\[전체 정보][K...   \n",
       "6  [[PDF_without_contents\\1. 법률 및 규제\\[법률_규범_특허][코...   \n",
       "7  [[PDF_without_contents\\1. 법률 및 규제\\[법률_규범_특허][코...   \n",
       "8  [[PDF_without_contents\\1. 법률 및 규제\\[법률_규범_특허][인...   \n",
       "9  [[PDF_without_contents\\1. 법률 및 규제\\[법률_규범_특허][인...   \n",
       "\n",
       "                                               query  \\\n",
       "0                   이 자료에서 'IS 76531975'는 무엇을 의미하나요?   \n",
       "1                              자료에 나타난 날짜 형식은 무엇인가요?   \n",
       "2                                    해당 자료와 관련 없습니다.   \n",
       "3                                    해당 자료와 관련 없습니다.   \n",
       "4                     인도의 소비자들은 어떤 제품을 선호하는 경향이 있나요?   \n",
       "5                        인도에서 채식주의자의 인구 비율은 어떻게 되나요?   \n",
       "6           상표 등록이 완료된 후 기호 '을'을 사용할 수 있는 조건은 무엇인가요?   \n",
       "7                           상표 등록이 기업에 주는 이점은 무엇인가요?   \n",
       "8                    인증서의 정지 및 취소는 어떤 기준에 따라 이루어집니까?   \n",
       "9  필요한 시정 조치가 취해지지 않거나 수수료가 지불되지 않았을 경우 어떤 조치가 취해...   \n",
       "\n",
       "                                       generation_gt  \n",
       "0          ['IS 76531975'는 특정 제품이나 표준의 식별 번호로 보입니다.]  \n",
       "1  [자료에 나타난 날짜 형식은 일/월/연도 형식으로, 예를 들어 '24082016'은...  \n",
       "2                                  [해당 자료와 관련 없습니다.]  \n",
       "3                                  [해당 자료와 관련 없습니다.]  \n",
       "4       [인도의 소비자들은 종교적 특성으로 인해 자연제품을 선호하는 경향이 있습니다.]  \n",
       "5        [인도는 다른 국가와 비교했을 때 채식주의자의 인구 비율이 높게 나타납니다.]  \n",
       "6  [상표 등록이 완료된 후 기호 '을'을 사용할 수 있으며, 인증서에 명시된 상품 및...  \n",
       "7  [상표 등록을 통해 판매자는 고유의 상표를 사용하여 경쟁자와 차별성을 가질 수 있으...  \n",
       "8  [인증서의 정지 및 취소는 Schedule II에 명시된 적용 가능한 계획에 따라 ...  \n",
       "9  [필요한 시정 조치가 취해지지 않거나 수수료가 지불되지 않았을 경우 인증서의 정지 ...  "
      ]
     },
     "execution_count": 72,
     "metadata": {},
     "output_type": "execute_result"
    }
   ],
   "source": [
    "df"
   ]
  },
  {
   "cell_type": "code",
   "execution_count": 60,
   "metadata": {},
   "outputs": [
    {
     "data": {
      "text/html": [
       "<div>\n",
       "<style scoped>\n",
       "    .dataframe tbody tr th:only-of-type {\n",
       "        vertical-align: middle;\n",
       "    }\n",
       "\n",
       "    .dataframe tbody tr th {\n",
       "        vertical-align: top;\n",
       "    }\n",
       "\n",
       "    .dataframe thead th {\n",
       "        text-align: right;\n",
       "    }\n",
       "</style>\n",
       "<table border=\"1\" class=\"dataframe\">\n",
       "  <thead>\n",
       "    <tr style=\"text-align: right;\">\n",
       "      <th></th>\n",
       "      <th>doc_id</th>\n",
       "      <th>contents</th>\n",
       "      <th>metadata</th>\n",
       "    </tr>\n",
       "  </thead>\n",
       "  <tbody>\n",
       "    <tr>\n",
       "      <th>0</th>\n",
       "      <td>PDF_without_contents\\1. 법률 및 규제\\[법률][Sanitary ...</td>\n",
       "      <td>Trade Unit\\nTrade in livestock and livestock p...</td>\n",
       "      <td>{'category': None, 'chunk': 0.0, 'datetimes': ...</td>\n",
       "    </tr>\n",
       "    <tr>\n",
       "      <th>1</th>\n",
       "      <td>PDF_without_contents\\1. 법률 및 규제\\[법률][Sanitary ...</td>\n",
       "      <td>livestock products Department of Animal Husban...</td>\n",
       "      <td>{'category': None, 'chunk': 1.0, 'datetimes': ...</td>\n",
       "    </tr>\n",
       "    <tr>\n",
       "      <th>2</th>\n",
       "      <td>PDF_without_contents\\1. 법률 및 규제\\[법률][Sanitary ...</td>\n",
       "      <td>import as per EXIM Policy for which importer h...</td>\n",
       "      <td>{'category': None, 'chunk': 2.0, 'datetimes': ...</td>\n",
       "    </tr>\n",
       "    <tr>\n",
       "      <th>3</th>\n",
       "      <td>PDF_without_contents\\1. 법률 및 규제\\[법률][Sanitary ...</td>\n",
       "      <td>on the risk analysis and the related germplasm...</td>\n",
       "      <td>{'category': None, 'chunk': 3.0, 'datetimes': ...</td>\n",
       "    </tr>\n",
       "    <tr>\n",
       "      <th>4</th>\n",
       "      <td>PDF_without_contents\\1. 법률 및 규제\\[법률][Sanitary ...</td>\n",
       "      <td>1496E dated 10th June 2014 under Section 3 of ...</td>\n",
       "      <td>{'category': None, 'chunk': 4.0, 'datetimes': ...</td>\n",
       "    </tr>\n",
       "  </tbody>\n",
       "</table>\n",
       "</div>"
      ],
      "text/plain": [
       "                                              doc_id  \\\n",
       "0  PDF_without_contents\\1. 법률 및 규제\\[법률][Sanitary ...   \n",
       "1  PDF_without_contents\\1. 법률 및 규제\\[법률][Sanitary ...   \n",
       "2  PDF_without_contents\\1. 법률 및 규제\\[법률][Sanitary ...   \n",
       "3  PDF_without_contents\\1. 법률 및 규제\\[법률][Sanitary ...   \n",
       "4  PDF_without_contents\\1. 법률 및 규제\\[법률][Sanitary ...   \n",
       "\n",
       "                                            contents  \\\n",
       "0  Trade Unit\\nTrade in livestock and livestock p...   \n",
       "1  livestock products Department of Animal Husban...   \n",
       "2  import as per EXIM Policy for which importer h...   \n",
       "3  on the risk analysis and the related germplasm...   \n",
       "4  1496E dated 10th June 2014 under Section 3 of ...   \n",
       "\n",
       "                                            metadata  \n",
       "0  {'category': None, 'chunk': 0.0, 'datetimes': ...  \n",
       "1  {'category': None, 'chunk': 1.0, 'datetimes': ...  \n",
       "2  {'category': None, 'chunk': 2.0, 'datetimes': ...  \n",
       "3  {'category': None, 'chunk': 3.0, 'datetimes': ...  \n",
       "4  {'category': None, 'chunk': 4.0, 'datetimes': ...  "
      ]
     },
     "execution_count": 60,
     "metadata": {},
     "output_type": "execute_result"
    }
   ],
   "source": [
    "path = './my_data/corpus_new.parquet'\n",
    "\n",
    "# make_qa.py 파일로 만듬 : 질문과 응답 쌍을 만듬 , 어떤 문서가 관련이 있는지 \n",
    "df = pd.read_parquet(path)\n",
    "\n",
    "df.head()"
   ]
  },
  {
   "cell_type": "code",
   "execution_count": 61,
   "metadata": {},
   "outputs": [
    {
     "data": {
      "text/html": [
       "<div>\n",
       "<style scoped>\n",
       "    .dataframe tbody tr th:only-of-type {\n",
       "        vertical-align: middle;\n",
       "    }\n",
       "\n",
       "    .dataframe tbody tr th {\n",
       "        vertical-align: top;\n",
       "    }\n",
       "\n",
       "    .dataframe thead th {\n",
       "        text-align: right;\n",
       "    }\n",
       "</style>\n",
       "<table border=\"1\" class=\"dataframe\">\n",
       "  <thead>\n",
       "    <tr style=\"text-align: right;\">\n",
       "      <th></th>\n",
       "      <th>doc_id</th>\n",
       "      <th>contents</th>\n",
       "      <th>metadata</th>\n",
       "    </tr>\n",
       "  </thead>\n",
       "  <tbody>\n",
       "    <tr>\n",
       "      <th>4561</th>\n",
       "      <td>PDF_with_contents / 3. 정책 및 무역 / [정책][관세청][201...</td>\n",
       "      <td>166\\n안방용활\\nATF\\n및\\n경환상통·관통\\n국방남신\\n5. 품목분류 상이로 ...</td>\n",
       "      <td>{'category': '3. 정책 및 무역', 'chunk': None, 'dat...</td>\n",
       "    </tr>\n",
       "    <tr>\n",
       "      <th>4562</th>\n",
       "      <td>PDF_with_contents / 3. 정책 및 무역 / [정책][한국무역협회][...</td>\n",
       "      <td>01\\n1 인도의 수입규제 최근 동향\\n(1) 인도 수입규제 신규 조사개시 현황\\n...</td>\n",
       "      <td>{'category': '3. 정책 및 무역', 'chunk': None, 'dat...</td>\n",
       "    </tr>\n",
       "    <tr>\n",
       "      <th>4563</th>\n",
       "      <td>PDF_with_contents / 3. 정책 및 무역 / [정책][한국무역협회][...</td>\n",
       "      <td>08\\n2 인도의 무역구제규정 개정\\n인도 재무부는 2020년 2월 2일자로 반덤핑...</td>\n",
       "      <td>{'category': '3. 정책 및 무역', 'chunk': None, 'dat...</td>\n",
       "    </tr>\n",
       "    <tr>\n",
       "      <th>4564</th>\n",
       "      <td>PDF_with_contents / 3. 정책 및 무역 / [정책][한국무역협회][...</td>\n",
       "      <td>13\\n3 반덤핑 제도 운영상의 주요 특징\\n인 도에서 가장 많이 활용해 온 반덤핑...</td>\n",
       "      <td>{'category': '3. 정책 및 무역', 'chunk': None, 'dat...</td>\n",
       "    </tr>\n",
       "    <tr>\n",
       "      <th>4565</th>\n",
       "      <td>PDF_with_contents / 3. 정책 및 무역 / [정책][한국무역협회][...</td>\n",
       "      <td>24\\n4 시사점 및 우리 기업의 대응 방안\\n(1) 인도 무역구제제도 운영의 시사...</td>\n",
       "      <td>{'category': '3. 정책 및 무역', 'chunk': None, 'dat...</td>\n",
       "    </tr>\n",
       "  </tbody>\n",
       "</table>\n",
       "</div>"
      ],
      "text/plain": [
       "                                                 doc_id  \\\n",
       "4561  PDF_with_contents / 3. 정책 및 무역 / [정책][관세청][201...   \n",
       "4562  PDF_with_contents / 3. 정책 및 무역 / [정책][한국무역협회][...   \n",
       "4563  PDF_with_contents / 3. 정책 및 무역 / [정책][한국무역협회][...   \n",
       "4564  PDF_with_contents / 3. 정책 및 무역 / [정책][한국무역협회][...   \n",
       "4565  PDF_with_contents / 3. 정책 및 무역 / [정책][한국무역협회][...   \n",
       "\n",
       "                                               contents  \\\n",
       "4561  166\\n안방용활\\nATF\\n및\\n경환상통·관통\\n국방남신\\n5. 품목분류 상이로 ...   \n",
       "4562  01\\n1 인도의 수입규제 최근 동향\\n(1) 인도 수입규제 신규 조사개시 현황\\n...   \n",
       "4563  08\\n2 인도의 무역구제규정 개정\\n인도 재무부는 2020년 2월 2일자로 반덤핑...   \n",
       "4564  13\\n3 반덤핑 제도 운영상의 주요 특징\\n인 도에서 가장 많이 활용해 온 반덤핑...   \n",
       "4565  24\\n4 시사점 및 우리 기업의 대응 방안\\n(1) 인도 무역구제제도 운영의 시사...   \n",
       "\n",
       "                                               metadata  \n",
       "4561  {'category': '3. 정책 및 무역', 'chunk': None, 'dat...  \n",
       "4562  {'category': '3. 정책 및 무역', 'chunk': None, 'dat...  \n",
       "4563  {'category': '3. 정책 및 무역', 'chunk': None, 'dat...  \n",
       "4564  {'category': '3. 정책 및 무역', 'chunk': None, 'dat...  \n",
       "4565  {'category': '3. 정책 및 무역', 'chunk': None, 'dat...  "
      ]
     },
     "execution_count": 61,
     "metadata": {},
     "output_type": "execute_result"
    }
   ],
   "source": [
    "df.tail()"
   ]
  },
  {
   "cell_type": "code",
   "execution_count": 62,
   "metadata": {},
   "outputs": [
    {
     "data": {
      "text/plain": [
       "4566"
      ]
     },
     "execution_count": 62,
     "metadata": {},
     "output_type": "execute_result"
    }
   ],
   "source": [
    "len(df)"
   ]
  },
  {
   "cell_type": "code",
   "execution_count": 63,
   "metadata": {},
   "outputs": [
    {
     "data": {
      "text/plain": [
       "array(['PDF_without_contents\\\\1. 법률 및 규제\\\\[법률][Sanitary Import Permit System for Livestock Products][2024]Function of Trade Unit(인도의 가축 및 가축 제품의 수입 절차와 관련된 정책 및 법률).pdf - 0',\n",
       "       'PDF_without_contents\\\\1. 법률 및 규제\\\\[법률][Sanitary Import Permit System for Livestock Products][2024]Function of Trade Unit(인도의 가축 및 가축 제품의 수입 절차와 관련된 정책 및 법률).pdf - 1',\n",
       "       'PDF_without_contents\\\\1. 법률 및 규제\\\\[법률][Sanitary Import Permit System for Livestock Products][2024]Function of Trade Unit(인도의 가축 및 가축 제품의 수입 절차와 관련된 정책 및 법률).pdf - 2',\n",
       "       ...,\n",
       "       'PDF_with_contents / 3. 정책 및 무역 / [정책][한국무역협회][2020.09.14][최종_KITA 통상리포트 11호_인도 수입규제 동향과 우리기업의 대응방안.pdf - 1',\n",
       "       'PDF_with_contents / 3. 정책 및 무역 / [정책][한국무역협회][2020.09.14][최종_KITA 통상리포트 11호_인도 수입규제 동향과 우리기업의 대응방안.pdf - 2',\n",
       "       'PDF_with_contents / 3. 정책 및 무역 / [정책][한국무역협회][2020.09.14][최종_KITA 통상리포트 11호_인도 수입규제 동향과 우리기업의 대응방안.pdf - 3'],\n",
       "      dtype=object)"
      ]
     },
     "execution_count": 63,
     "metadata": {},
     "output_type": "execute_result"
    }
   ],
   "source": [
    "df['doc_id'].unique()"
   ]
  },
  {
   "cell_type": "code",
   "execution_count": 64,
   "metadata": {},
   "outputs": [],
   "source": [
    "path = './data/corpus_new.parquet'\n",
    "\n",
    "# make_corpus.py 파일로 만듬 : SimpleDirectoryReader와 TokenTextSplitter로 자른 내용을 넣음 \n",
    "df = pd.read_parquet(path)"
   ]
  },
  {
   "cell_type": "code",
   "execution_count": 65,
   "metadata": {},
   "outputs": [
    {
     "data": {
      "text/html": [
       "<div>\n",
       "<style scoped>\n",
       "    .dataframe tbody tr th:only-of-type {\n",
       "        vertical-align: middle;\n",
       "    }\n",
       "\n",
       "    .dataframe tbody tr th {\n",
       "        vertical-align: top;\n",
       "    }\n",
       "\n",
       "    .dataframe thead th {\n",
       "        text-align: right;\n",
       "    }\n",
       "</style>\n",
       "<table border=\"1\" class=\"dataframe\">\n",
       "  <thead>\n",
       "    <tr style=\"text-align: right;\">\n",
       "      <th></th>\n",
       "      <th>doc_id</th>\n",
       "      <th>contents</th>\n",
       "      <th>metadata</th>\n",
       "    </tr>\n",
       "  </thead>\n",
       "  <tbody>\n",
       "    <tr>\n",
       "      <th>0</th>\n",
       "      <td>656b9d77-ade2-4b07-b4bf-805607226fb0</td>\n",
       "      <td>Advertisement\\n문화문화일반\\n[현장 ] 데뷔  23개 월  만에  도 ...</td>\n",
       "      <td>{'creation_date': '2024-07-02', 'file_name': '...</td>\n",
       "    </tr>\n",
       "    <tr>\n",
       "      <th>1</th>\n",
       "      <td>cd3cac89-e4cd-4164-9d1d-bc23cb3d1965</td>\n",
       "      <td>1/8</td>\n",
       "      <td>{'creation_date': '2024-07-02', 'file_name': '...</td>\n",
       "    </tr>\n",
       "    <tr>\n",
       "      <th>2</th>\n",
       "      <td>3dd8616a-0f74-448e-bc38-e459548bfbcc</td>\n",
       "      <td>곧이어  뉴진 스 멤버 들 이 첫  곡  ‘ 어 텐 션 ’ 을  부 르며  등 장 ...</td>\n",
       "      <td>{'creation_date': '2024-07-02', 'file_name': '...</td>\n",
       "    </tr>\n",
       "    <tr>\n",
       "      <th>3</th>\n",
       "      <td>2a636bf3-52e7-41bf-96cb-5595ad43b4a3</td>\n",
       "      <td>익숙한  노래들을  새 롭 게  들 려 주 고 보여주는  시 도 가 잇 따 랐 다....</td>\n",
       "      <td>{'creation_date': '2024-07-02', 'file_name': '...</td>\n",
       "    </tr>\n",
       "    <tr>\n",
       "      <th>4</th>\n",
       "      <td>1b2a9ca0-e34c-4d0a-af5c-ea3a410652e6</td>\n",
       "      <td>뉴진스 , 월드투어  기대감  키웠다\\nhttps://www.hani.co.kr/a...</td>\n",
       "      <td>{'creation_date': '2024-07-02', 'file_name': '...</td>\n",
       "    </tr>\n",
       "    <tr>\n",
       "      <th>5</th>\n",
       "      <td>37eb172e-d211-40df-bc48-2fb797e502c1</td>\n",
       "      <td>공연 중간중간  멘트를  할  때 는  재 밌 는  광 경 이 펼 쳐 졌 다. 한 ...</td>\n",
       "      <td>{'creation_date': '2024-07-02', 'file_name': '...</td>\n",
       "    </tr>\n",
       "    <tr>\n",
       "      <th>6</th>\n",
       "      <td>12c53df9-e266-4c0a-95c2-e417d9ee70ea</td>\n",
       "      <td>도쿄돔  달군  뉴진스 , 월드투어  기대감  키웠다\\nhttps://www.han...</td>\n",
       "      <td>{'creation_date': '2024-07-02', 'file_name': '...</td>\n",
       "    </tr>\n",
       "    <tr>\n",
       "      <th>7</th>\n",
       "      <td>1878bc46-e5ff-4bb7-b9f2-f3157bd2c573</td>\n",
       "      <td>관련기사이번 팬미팅에는  이 틀 간  9 만 1200 여명 이 들 었 다. 뜨 거운...</td>\n",
       "      <td>{'creation_date': '2024-07-02', 'file_name': '...</td>\n",
       "    </tr>\n",
       "    <tr>\n",
       "      <th>8</th>\n",
       "      <td>a201014e-287f-4433-9bfa-40c37ec2e001</td>\n",
       "      <td>‘푸른  산호 초 ’ … 40 대  추 억 과  MZ 뉴 트 로 의  ‘ 완 벽  ...</td>\n",
       "      <td>{'creation_date': '2024-07-02', 'file_name': '...</td>\n",
       "    </tr>\n",
       "    <tr>\n",
       "      <th>9</th>\n",
       "      <td>154b91b0-fcef-43a1-b5a0-654f65117686</td>\n",
       "      <td>많이 본  기사\\n1[단독 ] 검찰 , 이재명  캠 프  정 책담 당 자  ‘ 선거...</td>\n",
       "      <td>{'creation_date': '2024-07-02', 'file_name': '...</td>\n",
       "    </tr>\n",
       "    <tr>\n",
       "      <th>10</th>\n",
       "      <td>d1744de2-d3e0-4499-bc43-600ca174984a</td>\n",
       "      <td>2‘윤석열  탄 핵 ’  국민 청 원  72 만  넘 어 … 접 속  폭 주에  대...</td>\n",
       "      <td>{'creation_date': '2024-07-02', 'file_name': '...</td>\n",
       "    </tr>\n",
       "    <tr>\n",
       "      <th>11</th>\n",
       "      <td>e8631239-e19c-499c-abfb-9e7b89474c22</td>\n",
       "      <td>6/30/24, 9:51 PM [현장 ] 데뷔  23개월  만에  도쿄돔  달군  ...</td>\n",
       "      <td>{'creation_date': '2024-07-02', 'file_name': '...</td>\n",
       "    </tr>\n",
       "    <tr>\n",
       "      <th>12</th>\n",
       "      <td>2c9783b5-a3e0-4b7c-bb13-8542ae6499e9</td>\n",
       "      <td>뉴진스, 처음이 어렵지..두 번째 지상파 예능 출격 눈앞 ('사당귀')[Oh!쎈\\n...</td>\n",
       "      <td>{'creation_date': '2024-07-02', 'file_name': '...</td>\n",
       "    </tr>\n",
       "    <tr>\n",
       "      <th>13</th>\n",
       "      <td>ecc93f18-3465-42a5-a5ff-c96bf08a7964</td>\n",
       "      <td>6/30/24, 9:52 PM 뉴진스 , 처음이  어렵지 .. 두  번째  지상파 ...</td>\n",
       "      <td>{'creation_date': '2024-07-02', 'file_name': '...</td>\n",
       "    </tr>\n",
       "    <tr>\n",
       "      <th>14</th>\n",
       "      <td>1cd6287e-b060-4f10-aadb-e30fd9db93d9</td>\n",
       "      <td>그룹 뉴진스가 다시 한번 지상파 예능으로 시청자들과 만난다.\\n30일 방송된 KBS...</td>\n",
       "      <td>{'creation_date': '2024-07-02', 'file_name': '...</td>\n",
       "    </tr>\n",
       "    <tr>\n",
       "      <th>15</th>\n",
       "      <td>0ceaaff8-fda4-47db-b295-fd95b073acfc</td>\n",
       "      <td>Advertisement\\n문화문화일반\\n뉴진스에  들썩 인 도 쿄 돔 … 일 본 ...</td>\n",
       "      <td>{'creation_date': '2024-07-02', 'file_name': '...</td>\n",
       "    </tr>\n",
       "    <tr>\n",
       "      <th>16</th>\n",
       "      <td>b7ab5915-8232-4741-aca5-9d0b76e2ecd4</td>\n",
       "      <td>뉴진스는  오랜만에  5인 조  완 전체 로 모습을  드러 냈 다. 그동안  발등 ...</td>\n",
       "      <td>{'creation_date': '2024-07-02', 'file_name': '...</td>\n",
       "    </tr>\n",
       "    <tr>\n",
       "      <th>17</th>\n",
       "      <td>a0a71991-ddad-406d-9ca1-ed94c70177d7</td>\n",
       "      <td>백미는  각  멤버들 이 평 소 와  다 른  매력 을  뽐 낸  솔 로 무대 였 ...</td>\n",
       "      <td>{'creation_date': '2024-07-02', 'file_name': '...</td>\n",
       "    </tr>\n",
       "    <tr>\n",
       "      <th>18</th>\n",
       "      <td>2f0c55c6-eced-4ba7-b1b6-de560ed48650</td>\n",
       "      <td>마  전  일 본  방 송 에  나 온  뉴 진 스 를  보 고 노래와  춤 이\\n...</td>\n",
       "      <td>{'creation_date': '2024-07-02', 'file_name': '...</td>\n",
       "    </tr>\n",
       "    <tr>\n",
       "      <th>19</th>\n",
       "      <td>64be9f19-209e-43f7-8bad-c415be83c8d9</td>\n",
       "      <td>인근 뉴진 스 팝업 스 토 어 가 마 련 된  ‘ 라 인 프 렌 즈  스 퀘 어  ...</td>\n",
       "      <td>{'creation_date': '2024-07-02', 'file_name': '...</td>\n",
       "    </tr>\n",
       "    <tr>\n",
       "      <th>20</th>\n",
       "      <td>bcbe2c99-0851-4dbf-9aaf-0f637b7962ca</td>\n",
       "      <td>’ 에  마 련 된  뉴 진 스 팝 업 스 토 어 가 사 람 들 로 북 적 대 고 ...</td>\n",
       "      <td>{'creation_date': '2024-07-02', 'file_name': '...</td>\n",
       "    </tr>\n",
       "    <tr>\n",
       "      <th>21</th>\n",
       "      <td>8c87b9b5-d027-4010-99ef-04da2d45627f</td>\n",
       "      <td>관련기사뉴진스만 이 아니 다. 일 본  젊 은세대 가 유 튜 브와  에 스 엔 에 ...</td>\n",
       "      <td>{'creation_date': '2024-07-02', 'file_name': '...</td>\n",
       "    </tr>\n",
       "    <tr>\n",
       "      <th>22</th>\n",
       "      <td>9b633f0b-807e-49bc-9e6e-d3a3518aaa3b</td>\n",
       "      <td>속  ‘K 팝 ’ 더  젊어지고  세졌다\\nhttps://www.hani.co.kr...</td>\n",
       "      <td>{'creation_date': '2024-07-02', 'file_name': '...</td>\n",
       "    </tr>\n",
       "    <tr>\n",
       "      <th>23</th>\n",
       "      <td>21fffe63-0ade-4d87-b43a-35131c28cc93</td>\n",
       "      <td>전체 댓글  보 기[현장 ] 데뷔  23개 월  만에  도 쿄 돔  달 군  뉴 진...</td>\n",
       "      <td>{'creation_date': '2024-07-02', 'file_name': '...</td>\n",
       "    </tr>\n",
       "    <tr>\n",
       "      <th>24</th>\n",
       "      <td>aee06a8e-fe6c-49bd-87e4-d4c99a50fe58</td>\n",
       "      <td>많이 본  기사\\n1[단독 ] 검찰 , 이재명  캠 프  정 책담 당 자  ‘ 선거...</td>\n",
       "      <td>{'creation_date': '2024-07-02', 'file_name': '...</td>\n",
       "    </tr>\n",
       "    <tr>\n",
       "      <th>25</th>\n",
       "      <td>f47cf8dd-1c65-45e4-a3a0-24f63fc74ef5</td>\n",
       "      <td>서비스 전체보 기\\n회사소개신문구독광고안내채용\\n고충처 리 고객센터저작권회원약관개인...</td>\n",
       "      <td>{'creation_date': '2024-07-02', 'file_name': '...</td>\n",
       "    </tr>\n",
       "  </tbody>\n",
       "</table>\n",
       "</div>"
      ],
      "text/plain": [
       "                                  doc_id  \\\n",
       "0   656b9d77-ade2-4b07-b4bf-805607226fb0   \n",
       "1   cd3cac89-e4cd-4164-9d1d-bc23cb3d1965   \n",
       "2   3dd8616a-0f74-448e-bc38-e459548bfbcc   \n",
       "3   2a636bf3-52e7-41bf-96cb-5595ad43b4a3   \n",
       "4   1b2a9ca0-e34c-4d0a-af5c-ea3a410652e6   \n",
       "5   37eb172e-d211-40df-bc48-2fb797e502c1   \n",
       "6   12c53df9-e266-4c0a-95c2-e417d9ee70ea   \n",
       "7   1878bc46-e5ff-4bb7-b9f2-f3157bd2c573   \n",
       "8   a201014e-287f-4433-9bfa-40c37ec2e001   \n",
       "9   154b91b0-fcef-43a1-b5a0-654f65117686   \n",
       "10  d1744de2-d3e0-4499-bc43-600ca174984a   \n",
       "11  e8631239-e19c-499c-abfb-9e7b89474c22   \n",
       "12  2c9783b5-a3e0-4b7c-bb13-8542ae6499e9   \n",
       "13  ecc93f18-3465-42a5-a5ff-c96bf08a7964   \n",
       "14  1cd6287e-b060-4f10-aadb-e30fd9db93d9   \n",
       "15  0ceaaff8-fda4-47db-b295-fd95b073acfc   \n",
       "16  b7ab5915-8232-4741-aca5-9d0b76e2ecd4   \n",
       "17  a0a71991-ddad-406d-9ca1-ed94c70177d7   \n",
       "18  2f0c55c6-eced-4ba7-b1b6-de560ed48650   \n",
       "19  64be9f19-209e-43f7-8bad-c415be83c8d9   \n",
       "20  bcbe2c99-0851-4dbf-9aaf-0f637b7962ca   \n",
       "21  8c87b9b5-d027-4010-99ef-04da2d45627f   \n",
       "22  9b633f0b-807e-49bc-9e6e-d3a3518aaa3b   \n",
       "23  21fffe63-0ade-4d87-b43a-35131c28cc93   \n",
       "24  aee06a8e-fe6c-49bd-87e4-d4c99a50fe58   \n",
       "25  f47cf8dd-1c65-45e4-a3a0-24f63fc74ef5   \n",
       "\n",
       "                                             contents  \\\n",
       "0   Advertisement\\n문화문화일반\\n[현장 ] 데뷔  23개 월  만에  도 ...   \n",
       "1                                                 1/8   \n",
       "2   곧이어  뉴진 스 멤버 들 이 첫  곡  ‘ 어 텐 션 ’ 을  부 르며  등 장 ...   \n",
       "3   익숙한  노래들을  새 롭 게  들 려 주 고 보여주는  시 도 가 잇 따 랐 다....   \n",
       "4   뉴진스 , 월드투어  기대감  키웠다\\nhttps://www.hani.co.kr/a...   \n",
       "5   공연 중간중간  멘트를  할  때 는  재 밌 는  광 경 이 펼 쳐 졌 다. 한 ...   \n",
       "6   도쿄돔  달군  뉴진스 , 월드투어  기대감  키웠다\\nhttps://www.han...   \n",
       "7   관련기사이번 팬미팅에는  이 틀 간  9 만 1200 여명 이 들 었 다. 뜨 거운...   \n",
       "8   ‘푸른  산호 초 ’ … 40 대  추 억 과  MZ 뉴 트 로 의  ‘ 완 벽  ...   \n",
       "9   많이 본  기사\\n1[단독 ] 검찰 , 이재명  캠 프  정 책담 당 자  ‘ 선거...   \n",
       "10  2‘윤석열  탄 핵 ’  국민 청 원  72 만  넘 어 … 접 속  폭 주에  대...   \n",
       "11  6/30/24, 9:51 PM [현장 ] 데뷔  23개월  만에  도쿄돔  달군  ...   \n",
       "12  뉴진스, 처음이 어렵지..두 번째 지상파 예능 출격 눈앞 ('사당귀')[Oh!쎈\\n...   \n",
       "13  6/30/24, 9:52 PM 뉴진스 , 처음이  어렵지 .. 두  번째  지상파 ...   \n",
       "14  그룹 뉴진스가 다시 한번 지상파 예능으로 시청자들과 만난다.\\n30일 방송된 KBS...   \n",
       "15  Advertisement\\n문화문화일반\\n뉴진스에  들썩 인 도 쿄 돔 … 일 본 ...   \n",
       "16  뉴진스는  오랜만에  5인 조  완 전체 로 모습을  드러 냈 다. 그동안  발등 ...   \n",
       "17  백미는  각  멤버들 이 평 소 와  다 른  매력 을  뽐 낸  솔 로 무대 였 ...   \n",
       "18  마  전  일 본  방 송 에  나 온  뉴 진 스 를  보 고 노래와  춤 이\\n...   \n",
       "19  인근 뉴진 스 팝업 스 토 어 가 마 련 된  ‘ 라 인 프 렌 즈  스 퀘 어  ...   \n",
       "20  ’ 에  마 련 된  뉴 진 스 팝 업 스 토 어 가 사 람 들 로 북 적 대 고 ...   \n",
       "21  관련기사뉴진스만 이 아니 다. 일 본  젊 은세대 가 유 튜 브와  에 스 엔 에 ...   \n",
       "22  속  ‘K 팝 ’ 더  젊어지고  세졌다\\nhttps://www.hani.co.kr...   \n",
       "23  전체 댓글  보 기[현장 ] 데뷔  23개 월  만에  도 쿄 돔  달 군  뉴 진...   \n",
       "24  많이 본  기사\\n1[단독 ] 검찰 , 이재명  캠 프  정 책담 당 자  ‘ 선거...   \n",
       "25  서비스 전체보 기\\n회사소개신문구독광고안내채용\\n고충처 리 고객센터저작권회원약관개인...   \n",
       "\n",
       "                                             metadata  \n",
       "0   {'creation_date': '2024-07-02', 'file_name': '...  \n",
       "1   {'creation_date': '2024-07-02', 'file_name': '...  \n",
       "2   {'creation_date': '2024-07-02', 'file_name': '...  \n",
       "3   {'creation_date': '2024-07-02', 'file_name': '...  \n",
       "4   {'creation_date': '2024-07-02', 'file_name': '...  \n",
       "5   {'creation_date': '2024-07-02', 'file_name': '...  \n",
       "6   {'creation_date': '2024-07-02', 'file_name': '...  \n",
       "7   {'creation_date': '2024-07-02', 'file_name': '...  \n",
       "8   {'creation_date': '2024-07-02', 'file_name': '...  \n",
       "9   {'creation_date': '2024-07-02', 'file_name': '...  \n",
       "10  {'creation_date': '2024-07-02', 'file_name': '...  \n",
       "11  {'creation_date': '2024-07-02', 'file_name': '...  \n",
       "12  {'creation_date': '2024-07-02', 'file_name': '...  \n",
       "13  {'creation_date': '2024-07-02', 'file_name': '...  \n",
       "14  {'creation_date': '2024-07-02', 'file_name': '...  \n",
       "15  {'creation_date': '2024-07-02', 'file_name': '...  \n",
       "16  {'creation_date': '2024-07-02', 'file_name': '...  \n",
       "17  {'creation_date': '2024-07-02', 'file_name': '...  \n",
       "18  {'creation_date': '2024-07-02', 'file_name': '...  \n",
       "19  {'creation_date': '2024-07-02', 'file_name': '...  \n",
       "20  {'creation_date': '2024-07-02', 'file_name': '...  \n",
       "21  {'creation_date': '2024-07-02', 'file_name': '...  \n",
       "22  {'creation_date': '2024-07-02', 'file_name': '...  \n",
       "23  {'creation_date': '2024-07-02', 'file_name': '...  \n",
       "24  {'creation_date': '2024-07-02', 'file_name': '...  \n",
       "25  {'creation_date': '2024-07-02', 'file_name': '...  "
      ]
     },
     "execution_count": 65,
     "metadata": {},
     "output_type": "execute_result"
    }
   ],
   "source": [
    "df"
   ]
  },
  {
   "cell_type": "code",
   "execution_count": 68,
   "metadata": {},
   "outputs": [
    {
     "data": {
      "text/html": [
       "<div>\n",
       "<style scoped>\n",
       "    .dataframe tbody tr th:only-of-type {\n",
       "        vertical-align: middle;\n",
       "    }\n",
       "\n",
       "    .dataframe tbody tr th {\n",
       "        vertical-align: top;\n",
       "    }\n",
       "\n",
       "    .dataframe thead th {\n",
       "        text-align: right;\n",
       "    }\n",
       "</style>\n",
       "<table border=\"1\" class=\"dataframe\">\n",
       "  <thead>\n",
       "    <tr style=\"text-align: right;\">\n",
       "      <th></th>\n",
       "      <th>qid</th>\n",
       "      <th>retrieval_gt</th>\n",
       "      <th>query</th>\n",
       "      <th>generation_gt</th>\n",
       "    </tr>\n",
       "  </thead>\n",
       "  <tbody>\n",
       "    <tr>\n",
       "      <th>0</th>\n",
       "      <td>8d742c47-e6df-4714-94f7-2866ce140dc0</td>\n",
       "      <td>[[a201014e-287f-4433-9bfa-40c37ec2e001]]</td>\n",
       "      <td>뉴진스가 도쿄돔에서 공연을 한 시점은 언제인가요?</td>\n",
       "      <td>[뉴진스가 도쿄돔에서 공연을 한 시점은 데뷔 23개월 만입니다.]</td>\n",
       "    </tr>\n",
       "    <tr>\n",
       "      <th>1</th>\n",
       "      <td>8d742c47-e6df-4714-94f7-2866ce140dc0</td>\n",
       "      <td>[[a201014e-287f-4433-9bfa-40c37ec2e001]]</td>\n",
       "      <td>뉴진스의 월드투어에 대한 기대감이 높아진 이유는 무엇인가요?</td>\n",
       "      <td>[뉴진스가 도쿄돔에서 성공적인 공연을 펼쳐 월드투어에 대한 기대감이 높아졌습니다.]</td>\n",
       "    </tr>\n",
       "    <tr>\n",
       "      <th>2</th>\n",
       "      <td>b14f3ba3-8457-4965-934e-b6a037b0a816</td>\n",
       "      <td>[[b7ab5915-8232-4741-aca5-9d0b76e2ecd4]]</td>\n",
       "      <td>뉴진스는 얼마 동안의 시간 동안 몇 곡을 공연했나요?</td>\n",
       "      <td>[뉴진스는 2시간 30분 동안 22곡을 공연했습니다.]</td>\n",
       "    </tr>\n",
       "    <tr>\n",
       "      <th>3</th>\n",
       "      <td>b14f3ba3-8457-4965-934e-b6a037b0a816</td>\n",
       "      <td>[[b7ab5915-8232-4741-aca5-9d0b76e2ecd4]]</td>\n",
       "      <td>뉴진스의 팬 미팅 '버니즈 캠프'가 열린 장소는 어디인가요?</td>\n",
       "      <td>[뉴진스의 팬 미팅 '버니즈 캠프'는 일본 도쿄돔에서 열렸습니다.]</td>\n",
       "    </tr>\n",
       "    <tr>\n",
       "      <th>4</th>\n",
       "      <td>2133c59e-170b-479f-b423-85bde58d63f1</td>\n",
       "      <td>[[656b9d77-ade2-4b07-b4bf-805607226fb0]]</td>\n",
       "      <td>뉴진스가 일본 도쿄 돔에서 팬미팅 '버니즈 캠프'를 진행한 날짜는 언제인가요?</td>\n",
       "      <td>[뉴진스가 일본 도쿄 돔에서 팬미팅 '버니즈 캠프'를 진행한 날짜는 6월 26일과 ...</td>\n",
       "    </tr>\n",
       "  </tbody>\n",
       "</table>\n",
       "</div>"
      ],
      "text/plain": [
       "                                    qid  \\\n",
       "0  8d742c47-e6df-4714-94f7-2866ce140dc0   \n",
       "1  8d742c47-e6df-4714-94f7-2866ce140dc0   \n",
       "2  b14f3ba3-8457-4965-934e-b6a037b0a816   \n",
       "3  b14f3ba3-8457-4965-934e-b6a037b0a816   \n",
       "4  2133c59e-170b-479f-b423-85bde58d63f1   \n",
       "\n",
       "                               retrieval_gt  \\\n",
       "0  [[a201014e-287f-4433-9bfa-40c37ec2e001]]   \n",
       "1  [[a201014e-287f-4433-9bfa-40c37ec2e001]]   \n",
       "2  [[b7ab5915-8232-4741-aca5-9d0b76e2ecd4]]   \n",
       "3  [[b7ab5915-8232-4741-aca5-9d0b76e2ecd4]]   \n",
       "4  [[656b9d77-ade2-4b07-b4bf-805607226fb0]]   \n",
       "\n",
       "                                         query  \\\n",
       "0                  뉴진스가 도쿄돔에서 공연을 한 시점은 언제인가요?   \n",
       "1            뉴진스의 월드투어에 대한 기대감이 높아진 이유는 무엇인가요?   \n",
       "2                뉴진스는 얼마 동안의 시간 동안 몇 곡을 공연했나요?   \n",
       "3            뉴진스의 팬 미팅 '버니즈 캠프'가 열린 장소는 어디인가요?   \n",
       "4  뉴진스가 일본 도쿄 돔에서 팬미팅 '버니즈 캠프'를 진행한 날짜는 언제인가요?   \n",
       "\n",
       "                                       generation_gt  \n",
       "0               [뉴진스가 도쿄돔에서 공연을 한 시점은 데뷔 23개월 만입니다.]  \n",
       "1     [뉴진스가 도쿄돔에서 성공적인 공연을 펼쳐 월드투어에 대한 기대감이 높아졌습니다.]  \n",
       "2                     [뉴진스는 2시간 30분 동안 22곡을 공연했습니다.]  \n",
       "3              [뉴진스의 팬 미팅 '버니즈 캠프'는 일본 도쿄돔에서 열렸습니다.]  \n",
       "4  [뉴진스가 일본 도쿄 돔에서 팬미팅 '버니즈 캠프'를 진행한 날짜는 6월 26일과 ...  "
      ]
     },
     "execution_count": 68,
     "metadata": {},
     "output_type": "execute_result"
    }
   ],
   "source": [
    "path = './data/qa_new.parquet'\n",
    "\n",
    "# make_qa.py 파일로 만듬 : 질문과 응답 쌍을 만듬 , 어떤 문서가 관련이 있는지 \n",
    "df = pd.read_parquet(path)\n",
    "\n",
    "df.head()"
   ]
  },
  {
   "cell_type": "code",
   "execution_count": 69,
   "metadata": {},
   "outputs": [
    {
     "data": {
      "text/plain": [
       "10"
      ]
     },
     "execution_count": 69,
     "metadata": {},
     "output_type": "execute_result"
    }
   ],
   "source": [
    "len(df)"
   ]
  },
  {
   "cell_type": "code",
   "execution_count": null,
   "metadata": {},
   "outputs": [],
   "source": []
  }
 ],
 "metadata": {
  "kernelspec": {
   "display_name": "autorag",
   "language": "python",
   "name": "python3"
  },
  "language_info": {
   "codemirror_mode": {
    "name": "ipython",
    "version": 3
   },
   "file_extension": ".py",
   "mimetype": "text/x-python",
   "name": "python",
   "nbconvert_exporter": "python",
   "pygments_lexer": "ipython3",
   "version": "3.12.4"
  }
 },
 "nbformat": 4,
 "nbformat_minor": 2
}
