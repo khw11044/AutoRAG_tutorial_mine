{
 "cells": [
  {
   "cell_type": "code",
   "execution_count": 30,
   "metadata": {},
   "outputs": [],
   "source": [
    "import pandas as pd "
   ]
  },
  {
   "cell_type": "code",
   "execution_count": 31,
   "metadata": {},
   "outputs": [],
   "source": [
    "path = './data/corpus.parquet'\n",
    "\n",
    "# make_corpus.py 파일로 만듬 : SimpleDirectoryReader와 TokenTextSplitter로 자른 내용을 넣음 \n",
    "df = pd.read_parquet(path)"
   ]
  },
  {
   "cell_type": "code",
   "execution_count": 32,
   "metadata": {},
   "outputs": [
    {
     "data": {
      "text/html": [
       "<div>\n",
       "<style scoped>\n",
       "    .dataframe tbody tr th:only-of-type {\n",
       "        vertical-align: middle;\n",
       "    }\n",
       "\n",
       "    .dataframe tbody tr th {\n",
       "        vertical-align: top;\n",
       "    }\n",
       "\n",
       "    .dataframe thead th {\n",
       "        text-align: right;\n",
       "    }\n",
       "</style>\n",
       "<table border=\"1\" class=\"dataframe\">\n",
       "  <thead>\n",
       "    <tr style=\"text-align: right;\">\n",
       "      <th></th>\n",
       "      <th>doc_id</th>\n",
       "      <th>contents</th>\n",
       "      <th>metadata</th>\n",
       "    </tr>\n",
       "  </thead>\n",
       "  <tbody>\n",
       "    <tr>\n",
       "      <th>0</th>\n",
       "      <td>law - 형사_피고인이.pdf - 1</td>\n",
       "      <td>서울고등법원\\n제3형사부\\n판 결\\n사 건 2023노1373 통신비밀보호법위반\\n피...</td>\n",
       "      <td>{'last_modified_datetime': 2024-06-05 20:59:48...</td>\n",
       "    </tr>\n",
       "    <tr>\n",
       "      <th>1</th>\n",
       "      <td>law - 행정_원고가.pdf - 6</td>\n",
       "      <td>로열티로 지급하기로 하는 내용의 라이선스 계약을 체결하였다(갑 제4호증의 2). 그...</td>\n",
       "      <td>{'last_modified_datetime': 2024-06-05 20:59:48...</td>\n",
       "    </tr>\n",
       "    <tr>\n",
       "      <th>2</th>\n",
       "      <td>commerce - 이커머스 솔루션 소개자료.pdf - 36</td>\n",
       "      <td>e-Commerce Solution BESPIN GLOBAL\\n#인앱영상통화 # 글...</td>\n",
       "      <td>{'last_modified_datetime': 2024-06-05 20:59:48...</td>\n",
       "    </tr>\n",
       "    <tr>\n",
       "      <th>3</th>\n",
       "      <td>law - 행정_타인자금.pdf - 5</td>\n",
       "      <td>소유주식수\\n주주명 지분율 비고\\n계 보통주 우선주\\nc 33.730.000 33....</td>\n",
       "      <td>{'last_modified_datetime': 2024-06-05 20:59:48...</td>\n",
       "    </tr>\n",
       "    <tr>\n",
       "      <th>4</th>\n",
       "      <td>law - 행정_금품.pdf - 23</td>\n",
       "      <td>별지\\n관계 법령\\n공무원연금법\\n제37조(급여의 환수)\\n1 공단은 급여를 받은 ...</td>\n",
       "      <td>{'last_modified_datetime': 2024-06-05 20:59:48...</td>\n",
       "    </tr>\n",
       "  </tbody>\n",
       "</table>\n",
       "</div>"
      ],
      "text/plain": [
       "                              doc_id  \\\n",
       "0              law - 형사_피고인이.pdf - 1   \n",
       "1               law - 행정_원고가.pdf - 6   \n",
       "2  commerce - 이커머스 솔루션 소개자료.pdf - 36   \n",
       "3              law - 행정_타인자금.pdf - 5   \n",
       "4               law - 행정_금품.pdf - 23   \n",
       "\n",
       "                                            contents  \\\n",
       "0  서울고등법원\\n제3형사부\\n판 결\\n사 건 2023노1373 통신비밀보호법위반\\n피...   \n",
       "1  로열티로 지급하기로 하는 내용의 라이선스 계약을 체결하였다(갑 제4호증의 2). 그...   \n",
       "2  e-Commerce Solution BESPIN GLOBAL\\n#인앱영상통화 # 글...   \n",
       "3  소유주식수\\n주주명 지분율 비고\\n계 보통주 우선주\\nc 33.730.000 33....   \n",
       "4  별지\\n관계 법령\\n공무원연금법\\n제37조(급여의 환수)\\n1 공단은 급여를 받은 ...   \n",
       "\n",
       "                                            metadata  \n",
       "0  {'last_modified_datetime': 2024-06-05 20:59:48...  \n",
       "1  {'last_modified_datetime': 2024-06-05 20:59:48...  \n",
       "2  {'last_modified_datetime': 2024-06-05 20:59:48...  \n",
       "3  {'last_modified_datetime': 2024-06-05 20:59:48...  \n",
       "4  {'last_modified_datetime': 2024-06-05 20:59:48...  "
      ]
     },
     "execution_count": 32,
     "metadata": {},
     "output_type": "execute_result"
    }
   ],
   "source": [
    "df.head()"
   ]
  },
  {
   "cell_type": "code",
   "execution_count": 33,
   "metadata": {},
   "outputs": [
    {
     "data": {
      "text/plain": [
       "array(['law - 형사_피고인이.pdf - 1', 'law - 행정_원고가.pdf - 6',\n",
       "       'commerce - 이커머스 솔루션 소개자료.pdf - 36', 'law - 행정_타인자금.pdf - 5',\n",
       "       'law - 행정_금품.pdf - 23', 'commerce - 이커머스 솔루션 소개자료.pdf - 47',\n",
       "       'commerce - 이커머스 솔루션 소개자료.pdf - 45',\n",
       "       'commerce - Dighty Data Insight Report 2023.pdf - 11',\n",
       "       'law - 행정_원고가.pdf - 8', 'law -  2024 달라지는 세금제도.pdf - 27',\n",
       "       'finance - 한-호주 퇴직연금 포럼_책자(최종).pdf - 36', 'law - 행정_금품.pdf - 18',\n",
       "       'commerce - 이커머스 솔루션 소개자료.pdf - 21',\n",
       "       'commerce - MezzoMedia 산업 보고서 e커머스.pdf - 32',\n",
       "       'law - 민사_스마트폰.pdf - 35', 'law - 행정_원고가.pdf - 44',\n",
       "       'commerce - MezzoMedia 산업 보고서 e커머스.pdf - 17',\n",
       "       'finance - 지방은행 시중은행 전환 가이드.pdf - 12', 'law - 행정_조세_가상자산.pdf - 14',\n",
       "       'law - 행정_타인자금.pdf - 20', 'law - 행정_금품.pdf - 16',\n",
       "       'law -  2024 달라지는 세금제도.pdf - 4',\n",
       "       'commerce - 이커머스 솔루션 소개자료.pdf - 15',\n",
       "       'finance - 한-호주 퇴직연금 포럼_책자(최종).pdf - 13',\n",
       "       'public - 2023-2027 국가재정운용계획.pdf - 21', 'law - 행정_원고가.pdf - 39',\n",
       "       'law - 행정_조세_가상자산.pdf - 9', 'law - 행정_타인자금.pdf - 17',\n",
       "       'commerce - 쿠팡 상장과 이베이 인수  이후 국내 이커머스 시장은 어떻게 변할까.pdf - 11',\n",
       "       'commerce - 쿠팡 상장과 이베이 인수  이후 국내 이커머스 시장은 어떻게 변할까.pdf - 24',\n",
       "       'law - 민사_스마트폰.pdf - 22', 'law - 민사_분양받은.pdf - 16',\n",
       "       'law - 행정_원고가.pdf - 52', 'law -  2024 달라지는 세금제도.pdf - 12',\n",
       "       'public - 국가안전시스템 개편 보고서.pdf - 4',\n",
       "       'finance - 2024년 3월_3. 향후 통화신용정책 방향.pdf - 7',\n",
       "       'finance - 한-호주 퇴직연금 포럼_책자(최종).pdf - 46',\n",
       "       'public - 국가안전시스템 개편 보고서.pdf - 2',\n",
       "       'public - 국가안전시스템 개편 보고서.pdf - 16',\n",
       "       'public - 2023-2027 국가재정운용계획.pdf - 36', 'law - 행정_원고가.pdf - 16',\n",
       "       'commerce - Dighty Data Insight Report 2023.pdf - 1',\n",
       "       'commerce - 이커머스 솔루션 소개자료.pdf - 31',\n",
       "       'finance - 한-호주 퇴직연금 포럼_책자(최종).pdf - 42', 'law - 민사_스마트폰.pdf - 21',\n",
       "       'commerce - MezzoMedia 산업 보고서 e커머스.pdf - 3',\n",
       "       'law - 형사_피고인이.pdf - 3', 'public - 2024 행정안전부 업무계획.pdf - 9',\n",
       "       'finance - 상생금융 추진현황 240320.pdf - 1',\n",
       "       'commerce - MezzoMedia 산업 보고서 e커머스.pdf - 8',\n",
       "       'commerce - MezzoMedia 산업 보고서 e커머스.pdf - 11',\n",
       "       'commerce - KCA_Media_Issue_Trend_vol50_trend_report_03.pdf - 3',\n",
       "       'law - 민사_미성년자인.pdf - 7', 'law - 행정_조세_가상자산.pdf - 7',\n",
       "       'law - 특허_원고.pdf - 3', 'law - 행정_원고가.pdf - 22',\n",
       "       'law - 행정_원고가.pdf - 26',\n",
       "       'public - 제4차(24_28)+학교도서관+진흥+기본계획.pdf - 6',\n",
       "       'public - 2024년 주요업무 추진계획.pdf - 3',\n",
       "       'public - 2024년 주요업무 추진계획.pdf - 6',\n",
       "       'public - 국가안전시스템 개편 보고서.pdf - 8',\n",
       "       'finance - 240409(보도자료) 금융위 핀테크 투자 생태계 활성화 나선다.pdf - 3',\n",
       "       'finance - 2024년 3월_3. 향후 통화신용정책 방향.pdf - 10',\n",
       "       'finance - 2024년 3월_3. 향후 통화신용정책 방향.pdf - 17',\n",
       "       'finance - 2024년 3월_2. 통화신용정책 운영.pdf - 7'], dtype=object)"
      ]
     },
     "execution_count": 33,
     "metadata": {},
     "output_type": "execute_result"
    }
   ],
   "source": [
    "df['doc_id'].unique()"
   ]
  },
  {
   "cell_type": "code",
   "execution_count": 7,
   "metadata": {},
   "outputs": [
    {
     "data": {
      "text/html": [
       "<div>\n",
       "<style scoped>\n",
       "    .dataframe tbody tr th:only-of-type {\n",
       "        vertical-align: middle;\n",
       "    }\n",
       "\n",
       "    .dataframe tbody tr th {\n",
       "        vertical-align: top;\n",
       "    }\n",
       "\n",
       "    .dataframe thead th {\n",
       "        text-align: right;\n",
       "    }\n",
       "</style>\n",
       "<table border=\"1\" class=\"dataframe\">\n",
       "  <thead>\n",
       "    <tr style=\"text-align: right;\">\n",
       "      <th></th>\n",
       "      <th>qid</th>\n",
       "      <th>query</th>\n",
       "      <th>generation_gt</th>\n",
       "      <th>retrieval_gt</th>\n",
       "    </tr>\n",
       "  </thead>\n",
       "  <tbody>\n",
       "    <tr>\n",
       "      <th>0</th>\n",
       "      <td>80_law</td>\n",
       "      <td>원고 A이 시력 저하등의 증상이 발생한 시점은 언제로 보고, 그 시점 판단의 기준은...</td>\n",
       "      <td>[원고 A의 시력 저하 등의 증상은 2017년 2월 25일 이전, 즉 필러 주입술 ...</td>\n",
       "      <td>[[law - 민사_미성년자인.pdf - 7]]</td>\n",
       "    </tr>\n",
       "    <tr>\n",
       "      <th>1</th>\n",
       "      <td>4_finance</td>\n",
       "      <td>2024년도 한국은행의 대정부 일시대출금 한도와 대출조건을 결정하는 과정에서 보완된...</td>\n",
       "      <td>[2024년도 한국은행의 대정부 일시대출금 한도는 총 50조 원으로, 이전 년도와 ...</td>\n",
       "      <td>[[finance - 2024년 3월_2. 통화신용정책 운영.pdf - 7]]</td>\n",
       "    </tr>\n",
       "    <tr>\n",
       "      <th>2</th>\n",
       "      <td>40_public</td>\n",
       "      <td>2023년에 발표된 '가을철 지역축제 안전관리협조 요청 사항'은 무엇인지, 그리고 ...</td>\n",
       "      <td>[2023년 가을철 지역축제 안전관리협조 요청 사항에 따르면, 인파밀집 행사 시 부...</td>\n",
       "      <td>[[public - 국가안전시스템 개편 보고서.pdf - 8]]</td>\n",
       "    </tr>\n",
       "    <tr>\n",
       "      <th>3</th>\n",
       "      <td>69_law</td>\n",
       "      <td>국세기본법 제14조 제2항에서 언급하는 과세표준의 계산에 관한 규정이 어떠한 실질내...</td>\n",
       "      <td>[국세기본법 제14조 제2항에 따르면, 과세표준의 계산은 소득, 수익, 재산, 행위...</td>\n",
       "      <td>[[law - 행정_원고가.pdf - 22]]</td>\n",
       "    </tr>\n",
       "    <tr>\n",
       "      <th>4</th>\n",
       "      <td>10_finance</td>\n",
       "      <td>비은행 금융기관의 부동산 PF 대출 연체율 상승에 따른 미래적 영향은 무엇이며, 어...</td>\n",
       "      <td>[비은행 금융기관의 부동산 PF 대출의 연체율이 상승하는 경우, 이는 관련 대출 부...</td>\n",
       "      <td>[[finance - 2024년 3월_3. 향후 통화신용정책 방향.pdf - 10]]</td>\n",
       "    </tr>\n",
       "  </tbody>\n",
       "</table>\n",
       "</div>"
      ],
      "text/plain": [
       "          qid                                              query  \\\n",
       "0      80_law  원고 A이 시력 저하등의 증상이 발생한 시점은 언제로 보고, 그 시점 판단의 기준은...   \n",
       "1   4_finance  2024년도 한국은행의 대정부 일시대출금 한도와 대출조건을 결정하는 과정에서 보완된...   \n",
       "2   40_public  2023년에 발표된 '가을철 지역축제 안전관리협조 요청 사항'은 무엇인지, 그리고 ...   \n",
       "3      69_law  국세기본법 제14조 제2항에서 언급하는 과세표준의 계산에 관한 규정이 어떠한 실질내...   \n",
       "4  10_finance  비은행 금융기관의 부동산 PF 대출 연체율 상승에 따른 미래적 영향은 무엇이며, 어...   \n",
       "\n",
       "                                       generation_gt  \\\n",
       "0  [원고 A의 시력 저하 등의 증상은 2017년 2월 25일 이전, 즉 필러 주입술 ...   \n",
       "1  [2024년도 한국은행의 대정부 일시대출금 한도는 총 50조 원으로, 이전 년도와 ...   \n",
       "2  [2023년 가을철 지역축제 안전관리협조 요청 사항에 따르면, 인파밀집 행사 시 부...   \n",
       "3  [국세기본법 제14조 제2항에 따르면, 과세표준의 계산은 소득, 수익, 재산, 행위...   \n",
       "4  [비은행 금융기관의 부동산 PF 대출의 연체율이 상승하는 경우, 이는 관련 대출 부...   \n",
       "\n",
       "                                      retrieval_gt  \n",
       "0                       [[law - 민사_미성년자인.pdf - 7]]  \n",
       "1      [[finance - 2024년 3월_2. 통화신용정책 운영.pdf - 7]]  \n",
       "2              [[public - 국가안전시스템 개편 보고서.pdf - 8]]  \n",
       "3                        [[law - 행정_원고가.pdf - 22]]  \n",
       "4  [[finance - 2024년 3월_3. 향후 통화신용정책 방향.pdf - 10]]  "
      ]
     },
     "execution_count": 7,
     "metadata": {},
     "output_type": "execute_result"
    }
   ],
   "source": [
    "path = './data/qa.parquet'\n",
    "\n",
    "# make_qa.py 파일로 만듬 : 질문과 응답 쌍을 만듬 , 어떤 문서가 관련이 있는지 \n",
    "df = pd.read_parquet(path)\n",
    "\n",
    "df.head()"
   ]
  },
  {
   "cell_type": "code",
   "execution_count": 3,
   "metadata": {},
   "outputs": [],
   "source": [
    "import pickle\n",
    "import pandas as pd "
   ]
  },
  {
   "cell_type": "code",
   "execution_count": 4,
   "metadata": {},
   "outputs": [],
   "source": [
    "data = pd.read_pickle('data/all_docs.pkl')"
   ]
  },
  {
   "cell_type": "code",
   "execution_count": 6,
   "metadata": {},
   "outputs": [
    {
     "data": {
      "text/plain": [
       "4566"
      ]
     },
     "execution_count": 6,
     "metadata": {},
     "output_type": "execute_result"
    }
   ],
   "source": [
    "len(data)"
   ]
  },
  {
   "cell_type": "code",
   "execution_count": 24,
   "metadata": {},
   "outputs": [],
   "source": [
    "def check_data(data_order):\n",
    "    sample_data = data[data_order]\n",
    "    \n",
    "    return sample_data.page_content, sample_data.metadata"
   ]
  },
  {
   "cell_type": "code",
   "execution_count": 14,
   "metadata": {},
   "outputs": [
    {
     "data": {
      "text/plain": [
       "Document(page_content='24 6 27 오후 435 동물도 인간living person 같은 권리 있다인도 법원 결정  연합뉴스\\n본기사는연합뉴스와의계약없이전문또는일부의전재를금합니다\\nCopyrightCYonhapnewsAllrightsreserved\\nhttpswwwynacokrviewAKR20180705086100077sectionpopupprint 33', metadata={'filename': 'data/PDF_without_contents\\\\1. 법률 및 규제\\\\[법률][연합뉴스][2018.07.05] 동물도 인간 같은 권리 존재(인도 법원 결정).pdf', 'chunk': 5, 'keyword': '동물권, 인도 법원, 결정'})"
      ]
     },
     "execution_count": 14,
     "metadata": {},
     "output_type": "execute_result"
    }
   ],
   "source": [
    "sample_data1 = data[20]\n",
    "\n",
    "sample_data1"
   ]
  },
  {
   "cell_type": "code",
   "execution_count": 16,
   "metadata": {},
   "outputs": [
    {
     "data": {
      "text/plain": [
       "'24 6 27 오후 435 동물도 인간living person 같은 권리 있다인도 법원 결정  연합뉴스\\n본기사는연합뉴스와의계약없이전문또는일부의전재를금합니다\\nCopyrightCYonhapnewsAllrightsreserved\\nhttpswwwynacokrviewAKR20180705086100077sectionpopupprint 33'"
      ]
     },
     "execution_count": 16,
     "metadata": {},
     "output_type": "execute_result"
    }
   ],
   "source": [
    "sample_data1.page_content"
   ]
  },
  {
   "cell_type": "code",
   "execution_count": 17,
   "metadata": {},
   "outputs": [
    {
     "data": {
      "text/plain": [
       "{'filename': 'data/PDF_without_contents\\\\1. 법률 및 규제\\\\[법률][연합뉴스][2018.07.05] 동물도 인간 같은 권리 존재(인도 법원 결정).pdf',\n",
       " 'chunk': 5,\n",
       " 'keyword': '동물권, 인도 법원, 결정'}"
      ]
     },
     "execution_count": 17,
     "metadata": {},
     "output_type": "execute_result"
    }
   ],
   "source": [
    "sample_data1.metadata"
   ]
  },
  {
   "cell_type": "code",
   "execution_count": 21,
   "metadata": {},
   "outputs": [
    {
     "data": {
      "text/plain": [
       "Document(page_content='Share Holder 인도인이 한 명도 포함되지 않아도 된다\\n214 자본금 결정\\n주식회사 설립에 필요한 최소 자본금 규정이 2015년 회사법이 부분 개정되면서 폐지되었다\\n형식적으로 보면 2루피약 30원의 자본금으로 인도에서 주식회사 법인을 세울 수 있다 자본금은\\n수권자본금Authorized Capital과 실제로 납부된 자본금을 말하는 납입자본금Paid Capital\\n로 구분되어 있는 것이 한국의 주식회사 자본금과 다르다 수권자본금이란 납입할 수 있는 법인의', metadata={'filename': 'data/PDF_without_contents\\\\1. 법률 및 규제\\\\[법률_규범_특허][코트라][2022]인도 비즈니스 가이드.pdf', 'chunk': 187, 'keyword': '키워드: 인도, 주식회사, 자본금, 수권자본금, 납입자본금'})"
      ]
     },
     "execution_count": 21,
     "metadata": {},
     "output_type": "execute_result"
    }
   ],
   "source": [
    "sample_data2 = data[3000]\n",
    "\n",
    "sample_data2"
   ]
  },
  {
   "cell_type": "code",
   "execution_count": 25,
   "metadata": {},
   "outputs": [],
   "source": [
    "cont, meta = check_data(3000)"
   ]
  },
  {
   "cell_type": "code",
   "execution_count": 29,
   "metadata": {},
   "outputs": [
    {
     "name": "stdout",
     "output_type": "stream",
     "text": [
      "Share Holder 인도인이 한 명도 포함되지 않아도 된다\n",
      "214 자본금 결정\n",
      "주식회사 설립에 필요한 최소 자본금 규정이 2015년 회사법이 부분 개정되면서 폐지되었다\n",
      "형식적으로 보면 2루피약 30원의 자본금으로 인도에서 주식회사 법인을 세울 수 있다 자본금은\n",
      "수권자본금Authorized Capital과 실제로 납부된 자본금을 말하는 납입자본금Paid Capital\n",
      "로 구분되어 있는 것이 한국의 주식회사 자본금과 다르다 수권자본금이란 납입할 수 있는 법인의\n",
      "---\n",
      "{'filename': 'data/PDF_without_contents\\\\1. 법률 및 규제\\\\[법률_규범_특허][코트라][2022]인도 비즈니스 가이드.pdf', 'chunk': 187, 'keyword': '키워드: 인도, 주식회사, 자본금, 수권자본금, 납입자본금'}\n"
     ]
    }
   ],
   "source": [
    "print(cont)\n",
    "print('---')\n",
    "print(meta)"
   ]
  },
  {
   "cell_type": "code",
   "execution_count": 36,
   "metadata": {},
   "outputs": [],
   "source": [
    "cont, meta = check_data(4200)"
   ]
  },
  {
   "cell_type": "code",
   "execution_count": 35,
   "metadata": {},
   "outputs": [
    {
     "name": "stdout",
     "output_type": "stream",
     "text": [
      "Determinants for Pet Food Purchasing Decisions\n",
      "Section AResearch paper\n",
      "resulted in a rise in the number of single parents and professionals living alone in large cities\n",
      "giving rise to an unprecedented level of pampering and affection for pets People frequently own\n",
      "---\n",
      "{'filename': 'data/PDF_without_contents\\\\2. 경제 및 시장 분석\\\\펫산업\\\\[인도_펫산업_시장분석][ECB(European chemical Bulletin)][2023]An Analytical study of Preferences and Determinants for Pet Food Purchasing Decisions.pdf', 'chunk': 19, 'keyword': '키워드:\\n\\n1. Determinants\\n2. Pet Food Purchasing Decisions\\n3. Single Parents\\n4. Professionals\\n5. Large Cities\\n6. Pampering\\n7. Affection for Pets'}\n"
     ]
    }
   ],
   "source": [
    "print(cont)\n",
    "print('---')\n",
    "print(meta)"
   ]
  },
  {
   "cell_type": "code",
   "execution_count": null,
   "metadata": {},
   "outputs": [],
   "source": [
    "for i in range(len(data)):\n",
    "    cont, meta = check_data(4200)\n",
    "    print(meta['chunk'])"
   ]
  }
 ],
 "metadata": {
  "kernelspec": {
   "display_name": "autorag",
   "language": "python",
   "name": "python3"
  },
  "language_info": {
   "codemirror_mode": {
    "name": "ipython",
    "version": 3
   },
   "file_extension": ".py",
   "mimetype": "text/x-python",
   "name": "python",
   "nbconvert_exporter": "python",
   "pygments_lexer": "ipython3",
   "version": "3.12.4"
  }
 },
 "nbformat": 4,
 "nbformat_minor": 2
}
