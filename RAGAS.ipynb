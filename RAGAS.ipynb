{
 "cells": [
  {
   "cell_type": "code",
   "execution_count": 1,
   "metadata": {},
   "outputs": [],
   "source": [
    "import pandas as pd"
   ]
  },
  {
   "cell_type": "code",
   "execution_count": 2,
   "metadata": {},
   "outputs": [
    {
     "data": {
      "text/html": [
       "<div>\n",
       "<style scoped>\n",
       "    .dataframe tbody tr th:only-of-type {\n",
       "        vertical-align: middle;\n",
       "    }\n",
       "\n",
       "    .dataframe tbody tr th {\n",
       "        vertical-align: top;\n",
       "    }\n",
       "\n",
       "    .dataframe thead th {\n",
       "        text-align: right;\n",
       "    }\n",
       "</style>\n",
       "<table border=\"1\" class=\"dataframe\">\n",
       "  <thead>\n",
       "    <tr style=\"text-align: right;\">\n",
       "      <th></th>\n",
       "      <th>qid</th>\n",
       "      <th>query</th>\n",
       "      <th>generation_gt</th>\n",
       "      <th>retrieval_gt</th>\n",
       "    </tr>\n",
       "  </thead>\n",
       "  <tbody>\n",
       "    <tr>\n",
       "      <th>0</th>\n",
       "      <td>80_law</td>\n",
       "      <td>원고 A이 시력 저하등의 증상이 발생한 시점은 언제로 보고, 그 시점 판단의 기준은...</td>\n",
       "      <td>[원고 A의 시력 저하 등의 증상은 2017년 2월 25일 이전, 즉 필러 주입술 ...</td>\n",
       "      <td>[[law - 민사_미성년자인.pdf - 7]]</td>\n",
       "    </tr>\n",
       "    <tr>\n",
       "      <th>1</th>\n",
       "      <td>4_finance</td>\n",
       "      <td>2024년도 한국은행의 대정부 일시대출금 한도와 대출조건을 결정하는 과정에서 보완된...</td>\n",
       "      <td>[2024년도 한국은행의 대정부 일시대출금 한도는 총 50조 원으로, 이전 년도와 ...</td>\n",
       "      <td>[[finance - 2024년 3월_2. 통화신용정책 운영.pdf - 7]]</td>\n",
       "    </tr>\n",
       "    <tr>\n",
       "      <th>2</th>\n",
       "      <td>40_public</td>\n",
       "      <td>2023년에 발표된 '가을철 지역축제 안전관리협조 요청 사항'은 무엇인지, 그리고 ...</td>\n",
       "      <td>[2023년 가을철 지역축제 안전관리협조 요청 사항에 따르면, 인파밀집 행사 시 부...</td>\n",
       "      <td>[[public - 국가안전시스템 개편 보고서.pdf - 8]]</td>\n",
       "    </tr>\n",
       "    <tr>\n",
       "      <th>3</th>\n",
       "      <td>69_law</td>\n",
       "      <td>국세기본법 제14조 제2항에서 언급하는 과세표준의 계산에 관한 규정이 어떠한 실질내...</td>\n",
       "      <td>[국세기본법 제14조 제2항에 따르면, 과세표준의 계산은 소득, 수익, 재산, 행위...</td>\n",
       "      <td>[[law - 행정_원고가.pdf - 22]]</td>\n",
       "    </tr>\n",
       "    <tr>\n",
       "      <th>4</th>\n",
       "      <td>10_finance</td>\n",
       "      <td>비은행 금융기관의 부동산 PF 대출 연체율 상승에 따른 미래적 영향은 무엇이며, 어...</td>\n",
       "      <td>[비은행 금융기관의 부동산 PF 대출의 연체율이 상승하는 경우, 이는 관련 대출 부...</td>\n",
       "      <td>[[finance - 2024년 3월_3. 향후 통화신용정책 방향.pdf - 10]]</td>\n",
       "    </tr>\n",
       "  </tbody>\n",
       "</table>\n",
       "</div>"
      ],
      "text/plain": [
       "          qid                                              query  \\\n",
       "0      80_law  원고 A이 시력 저하등의 증상이 발생한 시점은 언제로 보고, 그 시점 판단의 기준은...   \n",
       "1   4_finance  2024년도 한국은행의 대정부 일시대출금 한도와 대출조건을 결정하는 과정에서 보완된...   \n",
       "2   40_public  2023년에 발표된 '가을철 지역축제 안전관리협조 요청 사항'은 무엇인지, 그리고 ...   \n",
       "3      69_law  국세기본법 제14조 제2항에서 언급하는 과세표준의 계산에 관한 규정이 어떠한 실질내...   \n",
       "4  10_finance  비은행 금융기관의 부동산 PF 대출 연체율 상승에 따른 미래적 영향은 무엇이며, 어...   \n",
       "\n",
       "                                       generation_gt  \\\n",
       "0  [원고 A의 시력 저하 등의 증상은 2017년 2월 25일 이전, 즉 필러 주입술 ...   \n",
       "1  [2024년도 한국은행의 대정부 일시대출금 한도는 총 50조 원으로, 이전 년도와 ...   \n",
       "2  [2023년 가을철 지역축제 안전관리협조 요청 사항에 따르면, 인파밀집 행사 시 부...   \n",
       "3  [국세기본법 제14조 제2항에 따르면, 과세표준의 계산은 소득, 수익, 재산, 행위...   \n",
       "4  [비은행 금융기관의 부동산 PF 대출의 연체율이 상승하는 경우, 이는 관련 대출 부...   \n",
       "\n",
       "                                      retrieval_gt  \n",
       "0                       [[law - 민사_미성년자인.pdf - 7]]  \n",
       "1      [[finance - 2024년 3월_2. 통화신용정책 운영.pdf - 7]]  \n",
       "2              [[public - 국가안전시스템 개편 보고서.pdf - 8]]  \n",
       "3                        [[law - 행정_원고가.pdf - 22]]  \n",
       "4  [[finance - 2024년 3월_3. 향후 통화신용정책 방향.pdf - 10]]  "
      ]
     },
     "execution_count": 2,
     "metadata": {},
     "output_type": "execute_result"
    }
   ],
   "source": [
    "path = './data/qa.parquet'\n",
    "\n",
    "# make_qa.py 파일로 만듬 : 질문과 응답 쌍을 만듬 , 어떤 문서가 관련이 있는지 \n",
    "df = pd.read_parquet(path)\n",
    "\n",
    "df.head()"
   ]
  },
  {
   "cell_type": "code",
   "execution_count": 3,
   "metadata": {},
   "outputs": [],
   "source": [
    "from langchain.embeddings import HuggingFaceEmbeddings"
   ]
  },
  {
   "cell_type": "code",
   "execution_count": 4,
   "metadata": {},
   "outputs": [],
   "source": [
    "embeddings_model = HuggingFaceEmbeddings(\n",
    "    model_name='snunlp/KR-SBERT-V40K-klueNLI-augSTS',\n",
    ")\n",
    "\n",
    "from transformers import AutoTokenizer\n",
    "tokenizer = AutoTokenizer.from_pretrained('snunlp/KR-SBERT-V40K-klueNLI-augSTS')"
   ]
  },
  {
   "cell_type": "code",
   "execution_count": null,
   "metadata": {},
   "outputs": [],
   "source": []
  }
 ],
 "metadata": {
  "kernelspec": {
   "display_name": "AUTORAG",
   "language": "python",
   "name": "python3"
  },
  "language_info": {
   "codemirror_mode": {
    "name": "ipython",
    "version": 3
   },
   "file_extension": ".py",
   "mimetype": "text/x-python",
   "name": "python",
   "nbconvert_exporter": "python",
   "pygments_lexer": "ipython3",
   "version": "3.12.4"
  }
 },
 "nbformat": 4,
 "nbformat_minor": 2
}
