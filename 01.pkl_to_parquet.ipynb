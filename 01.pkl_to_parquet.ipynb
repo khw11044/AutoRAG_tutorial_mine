{
 "cells": [
  {
   "cell_type": "code",
   "execution_count": 1,
   "metadata": {},
   "outputs": [],
   "source": [
    "import pickle\n",
    "import pandas as pd "
   ]
  },
  {
   "cell_type": "code",
   "execution_count": 2,
   "metadata": {},
   "outputs": [],
   "source": [
    "data = pd.read_pickle('my_data/all_docs.pkl')"
   ]
  },
  {
   "cell_type": "code",
   "execution_count": 3,
   "metadata": {},
   "outputs": [],
   "source": [
    "df = pd.DataFrame(columns=[\"doc_id\", \"contents\", \"metadata\"])\n"
   ]
  },
  {
   "cell_type": "code",
   "execution_count": 4,
   "metadata": {},
   "outputs": [
    {
     "data": {
      "text/html": [
       "<div>\n",
       "<style scoped>\n",
       "    .dataframe tbody tr th:only-of-type {\n",
       "        vertical-align: middle;\n",
       "    }\n",
       "\n",
       "    .dataframe tbody tr th {\n",
       "        vertical-align: top;\n",
       "    }\n",
       "\n",
       "    .dataframe thead th {\n",
       "        text-align: right;\n",
       "    }\n",
       "</style>\n",
       "<table border=\"1\" class=\"dataframe\">\n",
       "  <thead>\n",
       "    <tr style=\"text-align: right;\">\n",
       "      <th></th>\n",
       "      <th>doc_id</th>\n",
       "      <th>contents</th>\n",
       "      <th>metadata</th>\n",
       "    </tr>\n",
       "  </thead>\n",
       "  <tbody>\n",
       "  </tbody>\n",
       "</table>\n",
       "</div>"
      ],
      "text/plain": [
       "Empty DataFrame\n",
       "Columns: [doc_id, contents, metadata]\n",
       "Index: []"
      ]
     },
     "execution_count": 4,
     "metadata": {},
     "output_type": "execute_result"
    }
   ],
   "source": [
    "df"
   ]
  },
  {
   "cell_type": "code",
   "execution_count": 5,
   "metadata": {},
   "outputs": [],
   "source": [
    "doc_id_list = []\n",
    "for i in range(len(data)):\n",
    "    meta = data[i].metadata\n",
    "    contents = data[i].page_content\n",
    "    \n",
    "    meta_keys = list(meta.keys())\n",
    "    filename = meta['filename']\n",
    "    \n",
    "    if 'chunk' in meta_keys:\n",
    "        page = meta['chunk']\n",
    "    else:\n",
    "        page = meta['page_no']\n",
    "    \n",
    "    filename = ' / '.join(filename.split('/')[1:])\n",
    "    doc_id = filename + ' - ' + str(page)\n",
    "    \n",
    "    df.loc[i] = [doc_id, contents, meta]\n",
    "    "
   ]
  },
  {
   "cell_type": "code",
   "execution_count": 6,
   "metadata": {},
   "outputs": [
    {
     "data": {
      "text/html": [
       "<div>\n",
       "<style scoped>\n",
       "    .dataframe tbody tr th:only-of-type {\n",
       "        vertical-align: middle;\n",
       "    }\n",
       "\n",
       "    .dataframe tbody tr th {\n",
       "        vertical-align: top;\n",
       "    }\n",
       "\n",
       "    .dataframe thead th {\n",
       "        text-align: right;\n",
       "    }\n",
       "</style>\n",
       "<table border=\"1\" class=\"dataframe\">\n",
       "  <thead>\n",
       "    <tr style=\"text-align: right;\">\n",
       "      <th></th>\n",
       "      <th>doc_id</th>\n",
       "      <th>contents</th>\n",
       "      <th>metadata</th>\n",
       "    </tr>\n",
       "  </thead>\n",
       "  <tbody>\n",
       "    <tr>\n",
       "      <th>0</th>\n",
       "      <td>PDF_without_contents\\1. 법률 및 규제\\[법률][Sanitary ...</td>\n",
       "      <td>Trade Unit\\nTrade in livestock and livestock p...</td>\n",
       "      <td>{'filename': 'data/PDF_without_contents\\1. 법률 ...</td>\n",
       "    </tr>\n",
       "    <tr>\n",
       "      <th>1</th>\n",
       "      <td>PDF_without_contents\\1. 법률 및 규제\\[법률][Sanitary ...</td>\n",
       "      <td>livestock products Department of Animal Husban...</td>\n",
       "      <td>{'filename': 'data/PDF_without_contents\\1. 법률 ...</td>\n",
       "    </tr>\n",
       "    <tr>\n",
       "      <th>2</th>\n",
       "      <td>PDF_without_contents\\1. 법률 및 규제\\[법률][Sanitary ...</td>\n",
       "      <td>import as per EXIM Policy for which importer h...</td>\n",
       "      <td>{'filename': 'data/PDF_without_contents\\1. 법률 ...</td>\n",
       "    </tr>\n",
       "    <tr>\n",
       "      <th>3</th>\n",
       "      <td>PDF_without_contents\\1. 법률 및 규제\\[법률][Sanitary ...</td>\n",
       "      <td>on the risk analysis and the related germplasm...</td>\n",
       "      <td>{'filename': 'data/PDF_without_contents\\1. 법률 ...</td>\n",
       "    </tr>\n",
       "    <tr>\n",
       "      <th>4</th>\n",
       "      <td>PDF_without_contents\\1. 법률 및 규제\\[법률][Sanitary ...</td>\n",
       "      <td>1496E dated 10th June 2014 under Section 3 of ...</td>\n",
       "      <td>{'filename': 'data/PDF_without_contents\\1. 법률 ...</td>\n",
       "    </tr>\n",
       "  </tbody>\n",
       "</table>\n",
       "</div>"
      ],
      "text/plain": [
       "                                              doc_id  \\\n",
       "0  PDF_without_contents\\1. 법률 및 규제\\[법률][Sanitary ...   \n",
       "1  PDF_without_contents\\1. 법률 및 규제\\[법률][Sanitary ...   \n",
       "2  PDF_without_contents\\1. 법률 및 규제\\[법률][Sanitary ...   \n",
       "3  PDF_without_contents\\1. 법률 및 규제\\[법률][Sanitary ...   \n",
       "4  PDF_without_contents\\1. 법률 및 규제\\[법률][Sanitary ...   \n",
       "\n",
       "                                            contents  \\\n",
       "0  Trade Unit\\nTrade in livestock and livestock p...   \n",
       "1  livestock products Department of Animal Husban...   \n",
       "2  import as per EXIM Policy for which importer h...   \n",
       "3  on the risk analysis and the related germplasm...   \n",
       "4  1496E dated 10th June 2014 under Section 3 of ...   \n",
       "\n",
       "                                            metadata  \n",
       "0  {'filename': 'data/PDF_without_contents\\1. 법률 ...  \n",
       "1  {'filename': 'data/PDF_without_contents\\1. 법률 ...  \n",
       "2  {'filename': 'data/PDF_without_contents\\1. 법률 ...  \n",
       "3  {'filename': 'data/PDF_without_contents\\1. 법률 ...  \n",
       "4  {'filename': 'data/PDF_without_contents\\1. 법률 ...  "
      ]
     },
     "execution_count": 6,
     "metadata": {},
     "output_type": "execute_result"
    }
   ],
   "source": [
    "df.head()"
   ]
  },
  {
   "cell_type": "code",
   "execution_count": 7,
   "metadata": {},
   "outputs": [],
   "source": [
    "df.to_parquet('my_data/corpus_new.parquet')"
   ]
  },
  {
   "cell_type": "code",
   "execution_count": null,
   "metadata": {},
   "outputs": [],
   "source": []
  }
 ],
 "metadata": {
  "kernelspec": {
   "display_name": "AUTORAG",
   "language": "python",
   "name": "python3"
  },
  "language_info": {
   "codemirror_mode": {
    "name": "ipython",
    "version": 3
   },
   "file_extension": ".py",
   "mimetype": "text/x-python",
   "name": "python",
   "nbconvert_exporter": "python",
   "pygments_lexer": "ipython3",
   "version": "3.12.4"
  }
 },
 "nbformat": 4,
 "nbformat_minor": 2
}
