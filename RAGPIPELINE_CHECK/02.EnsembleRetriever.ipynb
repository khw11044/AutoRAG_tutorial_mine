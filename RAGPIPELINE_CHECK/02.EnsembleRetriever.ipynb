{
 "cells": [
  {
   "cell_type": "code",
   "execution_count": 1,
   "metadata": {},
   "outputs": [
    {
     "name": "stderr",
     "output_type": "stream",
     "text": [
      "USER_AGENT environment variable not set, consider setting it to identify your requests.\n"
     ]
    }
   ],
   "source": [
    "# import os \n",
    "# from langchain_teddynote.messages import stream_response\n",
    "\n",
    "from utils.RAGPipeLine import Ragpipeline"
   ]
  },
  {
   "cell_type": "code",
   "execution_count": 2,
   "metadata": {},
   "outputs": [
    {
     "name": "stdout",
     "output_type": "stream",
     "text": [
      "[초기화] vector_store 초기화 완료\n",
      "[초기화] retriever 초기화 완료\n",
      "[초기화] RAG chain 초기화 완료\n"
     ]
    },
    {
     "name": "stderr",
     "output_type": "stream",
     "text": [
      "c:\\Users\\kim_h\\anaconda3\\envs\\bigproject\\Lib\\site-packages\\langchain_core\\_api\\deprecation.py:139: LangChainDeprecationWarning: The class `GoogleSearchAPIWrapper` was deprecated in LangChain 0.0.33 and will be removed in 0.3.0. An updated version of the class exists in the langchain-google-community package and should be used instead. To use it run `pip install -U langchain-google-community` and import as `from langchain_google_community import GoogleSearchAPIWrapper`.\n",
      "  warn_deprecated(\n"
     ]
    },
    {
     "name": "stdout",
     "output_type": "stream",
     "text": [
      "[초기화] RAG title chain 초기화 완료\n",
      "[초기화] RAG post chain 초기화 완료\n"
     ]
    }
   ],
   "source": [
    "pipeline = Ragpipeline()"
   ]
  },
  {
   "cell_type": "code",
   "execution_count": 3,
   "metadata": {},
   "outputs": [
    {
     "name": "stdout",
     "output_type": "stream",
     "text": [
      "[초기화] vector_store 초기화 완료\n"
     ]
    }
   ],
   "source": [
    "vectorDB = pipeline.init_vectorDB()\n"
   ]
  },
  {
   "cell_type": "code",
   "execution_count": 4,
   "metadata": {},
   "outputs": [
    {
     "name": "stdout",
     "output_type": "stream",
     "text": [
      "[초기화] retriever 초기화 완료\n"
     ]
    }
   ],
   "source": [
    "retriever = pipeline.init_retriever()"
   ]
  },
  {
   "cell_type": "code",
   "execution_count": 5,
   "metadata": {},
   "outputs": [
    {
     "name": "stderr",
     "output_type": "stream",
     "text": [
      "c:\\Users\\kim_h\\anaconda3\\envs\\bigproject\\Lib\\site-packages\\langchain_core\\_api\\deprecation.py:139: LangChainDeprecationWarning: The method `BaseRetriever.get_relevant_documents` was deprecated in langchain-core 0.1.46 and will be removed in 0.3.0. Use invoke instead.\n",
      "  warn_deprecated(\n"
     ]
    },
    {
     "data": {
      "text/plain": [
       "[Document(metadata={'category': '3. 정책 및 무역', 'datetimes': '2024-07-08 16:42:32', 'filename': 'data/PDF_with_contents/3. 정책 및 무역/[정책][관세청][2019.11.07]신남방국 통관·통상환경 및 FTA 활용방안.pdf', 'page_no': 9, 'subcategory': '1. 통관 조직 및 절차'}, page_content='제Ⅲ절\\n인도의 통관 절차\\n01\\n통관 조직 및 절차\\n'),\n",
       " Document(metadata={'category': '3. 정책 및 무역', 'datetimes': '2024-07-08 16:41:51', 'filename': 'data/PDF_with_contents/3. 정책 및 무역/[정책][KATI 농식품수출정보][2019]인도 전문 식품수입.pdf', 'page_no': 21, 'subcategory': '다. 통관 및 검역 유의사항'}, page_content='인도 전문 식품수입 벤더현황\\n다. 통관 및 검역 유의사항\\n(1) 인도 통관, 사전 준비가 관건\\n▪\\n인도의 통관은 수입 통관 및 검역을 위한 사전 준비 절차가 중요함\\n▪\\n통관에 필요한 서류를 제출하면 서류의 기재 오류나 서류 상호간 불일치를\\n수정하기가 매우 어려우며 이로 인해 통관 절차가 2~3주씩 지연되는 경우도\\n있어 철저한 서류 작성이 필수적임\\n▪\\n또한 인도로 수출하는 물품의 경우 포장명세서(P/L)와 상업송장(C/I)을\\n컨테이너별로 철저히 작성해야 함. 인도 세관은 한 컨테이너 안에서 박스별로\\n화물의 일치 여부를 조사하는 등 실물 검사가 철저하며 서류와 화물 불일치\\n시 통관이 불가능함\\n▪\\n특히 인도는 도로와 항만 등 인프라가 낙후되어 있고 운송수단도 노후하기\\n때문에 내륙운송 과정에서 사고가 자주 발생하므로 내륙운송보험에 가입해야\\n함\\n43\\n'),\n",
       " Document(metadata={'chunk': 0, 'filename': 'data/PDF_without_contents\\\\3. 정책 및 무역\\\\[정책][제약산업정보포털][2019.04.08]인도 통관 및 운송.pdf', 'keyword': '키워드: 통관제도, 통관 유형별 절차, 인도, 통관 소요 시간, 행정상 운송, 항공 운송, 수입신고, 인도 관세청, Appraiser Section, Audit Section.'}, page_content='5 통관 및 운송\\n가 통관제도\\n통관 유형별 절차\\n1 정식통관\\n인도에서 일반적인 경우 통관에 소요되는 시간은 행정상 운송 수입의 경우 34 근무일 항공 운송은 약 12 근무일이 소요된다 일단 물\\n품이 입항하게 되면 보세구역장치에 적하되고 이후 전자데이터 교환EDI 신고 또는 수작업신고 통해 수입신고를 하게 된다 이후 인도\\n관세청의 수입요건 관세 평가 등을 검사하는 Appraiser Section과 관련 서류 및 관세율을 재점검하는 Audit Section 과정을 거치게 되'),\n",
       " Document(metadata={'category': '3. 정책 및 무역', 'datetimes': '2024-07-08 16:42:32', 'filename': 'data/PDF_with_contents/3. 정책 및 무역/[정책][관세청][2019.11.07]신남방국 통관·통상환경 및 FTA 활용방안.pdf', 'page_no': 11, 'subcategory': '3. 인도의 주요 인증 제도'}, page_content='제Ⅲ절\\n인도의 통관 절차\\n03\\n인도의\\n주요 인증 제도\\n'),\n",
       " Document(metadata={'chunk': 554, 'filename': 'data/PDF_without_contents\\\\2. 경제 및 시장 분석\\\\[전체 정보][KOTRA 해외경제정보 Dream][2023]인도.pdf', 'keyword': '키워드: 인도, 교통, 도로, 열악, 고속도로 공사, 현대화, 교통혼잡, 출퇴근 시간, 순환도로, 우회로, 국제면허증, 자가운전, 자동차.'}, page_content='외의 농촌 지역의 경우 카드 결제가 되지 않는 경우가 많다\\n나 교통\\n교통상황\\n인도의 도로는 포장상태가 대체로 열악하나 최근 대규모 고속도로 공사를 통해 현대화 되고 있다 특히 출퇴근 시간에는 교통혼잡이 심한\\n편이다 순환도로나 우회로가 충분히 갖추어져 있지 않기 때문에 중요한 일정의 경우 예정시간보다 30분에서 1시간 가량 미리 출발하는\\n것이 좋다 인도는 한국과 운전면허와 관련된 조약이 체결되어 있기 때문에 국제면허증을 가지고 자가운전을 할 수가 있다 하지만 자동차')]"
      ]
     },
     "execution_count": 5,
     "metadata": {},
     "output_type": "execute_result"
    }
   ],
   "source": [
    "query = '인도 통관 및 운송'\n",
    "\n",
    "docs = retriever.get_relevant_documents(query)\n",
    "\n",
    "docs"
   ]
  },
  {
   "cell_type": "code",
   "execution_count": 59,
   "metadata": {},
   "outputs": [
    {
     "data": {
      "text/plain": [
       "<langchain_community.vectorstores.chroma.Chroma at 0x22119c74e50>"
      ]
     },
     "execution_count": 59,
     "metadata": {},
     "output_type": "execute_result"
    }
   ],
   "source": [
    "vectorDB"
   ]
  },
  {
   "cell_type": "markdown",
   "metadata": {},
   "source": [
    "## 새롭게\n"
   ]
  },
  {
   "cell_type": "code",
   "execution_count": 45,
   "metadata": {},
   "outputs": [
    {
     "data": {
      "text/plain": [
       "True"
      ]
     },
     "execution_count": 45,
     "metadata": {},
     "output_type": "execute_result"
    }
   ],
   "source": [
    "from dotenv import load_dotenv\n",
    "load_dotenv()"
   ]
  },
  {
   "cell_type": "code",
   "execution_count": 46,
   "metadata": {},
   "outputs": [],
   "source": [
    "from langchain.retrievers import BM25Retriever # pip install rank_bm25\n",
    "from langchain.retrievers import EnsembleRetriever\n",
    "from langchain_community.vectorstores import FAISS"
   ]
  },
  {
   "cell_type": "code",
   "execution_count": 47,
   "metadata": {},
   "outputs": [],
   "source": [
    "bm25_retriever = BM25Retriever.from_documents(docs)\n",
    "bm25_retriever.k = 2"
   ]
  },
  {
   "cell_type": "code",
   "execution_count": 50,
   "metadata": {},
   "outputs": [],
   "source": [
    "from langchain.embeddings import OpenAIEmbeddings\n",
    "\n",
    "embedding = OpenAIEmbeddings()\n",
    "\n",
    "faiss_vectorstore  = FAISS.from_documents(documents=docs, embedding=embedding)\n",
    "faiss_retriever = faiss_vectorstore.as_retriever(search_kwargs={\"k\": 2})\n",
    "\n",
    "bm25_retriever = BM25Retriever.from_documents(docs)\n",
    "bm25_retriever.k = 2\n",
    "\n",
    "ensemble_retriever = EnsembleRetriever(retrievers=[bm25_retriever, faiss_retriever],\n",
    "                                       weights=[0.5, 0.5])"
   ]
  },
  {
   "cell_type": "code",
   "execution_count": 52,
   "metadata": {},
   "outputs": [],
   "source": [
    "from llama_index.core import (\n",
    "    SimpleDirectoryReader,\n",
    "    StorageContext,\n",
    "    VectorStoreIndex,\n",
    ")\n",
    "\n",
    "# load documents\n",
    "documents = SimpleDirectoryReader(\"./documents\").load_data()"
   ]
  },
  {
   "cell_type": "code",
   "execution_count": 53,
   "metadata": {},
   "outputs": [
    {
     "data": {
      "text/plain": [
       "[Document(id_='2d9dc006-32ea-469f-bafc-9ea9880da215', embedding=None, metadata={'file_path': 'c:\\\\KT\\\\0711\\\\AIModel\\\\RAGPIPELINE_CHECK\\\\documents\\\\sample.txt', 'file_name': 'sample.txt', 'file_type': 'text/plain', 'file_size': 1070, 'creation_date': '2024-07-11', 'last_modified_date': '2024-07-10'}, excluded_embed_metadata_keys=['file_name', 'file_type', 'file_size', 'creation_date', 'last_modified_date', 'last_accessed_date'], excluded_llm_metadata_keys=['file_name', 'file_type', 'file_size', 'creation_date', 'last_modified_date', 'last_accessed_date'], relationships={}, text=\"Introduction\\r\\nLangChain is a framework for developing applications powered by large language models (LLMs).\\r\\n\\r\\nLangChain simplifies every stage of the LLM application lifecycle:\\r\\n\\r\\nDevelopment: Build your applications using LangChain's open-source building blocks, components, and third-party integrations. Use LangGraph to build stateful agents with first-class streaming and human-in-the-loop support.\\r\\nProductionization: Use LangSmith to inspect, monitor and evaluate your chains, so that you can continuously optimize and deploy with confidence.\\r\\nDeployment: Turn your LangGraph applications into production-ready APIs and Assistants with LangGraph Cloud.\\r\\n\\r\\nTutorials\\r\\nIf you're looking to build something specific or are more of a hands-on learner, check out our tutorials section. This is the best place to get started.\\r\\n\\r\\nThese are the best ones to get started with:\\r\\n\\r\\nBuild a Simple LLM Application\\r\\nBuild a Chatbot\\r\\nBuild an Agent\\r\\nIntroduction to LangGraph\\r\\nExplore the full list of LangChain tutorials here, and check out other LangGraph tutorials here.\\r\\n\\r\\n\", mimetype='text/plain', start_char_idx=None, end_char_idx=None, text_template='{metadata_str}\\n\\n{content}', metadata_template='{key}: {value}', metadata_seperator='\\n')]"
      ]
     },
     "execution_count": 53,
     "metadata": {},
     "output_type": "execute_result"
    }
   ],
   "source": [
    "documents"
   ]
  },
  {
   "cell_type": "code",
   "execution_count": 54,
   "metadata": {},
   "outputs": [],
   "source": [
    "from llama_index.core.node_parser import SentenceSplitter\n",
    "splitter = SentenceSplitter(chunk_size=1024)\n",
    "\n",
    "nodes = splitter.get_nodes_from_documents(documents)"
   ]
  },
  {
   "cell_type": "code",
   "execution_count": 55,
   "metadata": {},
   "outputs": [
    {
     "data": {
      "text/plain": [
       "[TextNode(id_='7f8db746-b788-49c9-abe6-ac21e37c64f6', embedding=None, metadata={'file_path': 'c:\\\\KT\\\\0711\\\\AIModel\\\\RAGPIPELINE_CHECK\\\\documents\\\\sample.txt', 'file_name': 'sample.txt', 'file_type': 'text/plain', 'file_size': 1070, 'creation_date': '2024-07-11', 'last_modified_date': '2024-07-10'}, excluded_embed_metadata_keys=['file_name', 'file_type', 'file_size', 'creation_date', 'last_modified_date', 'last_accessed_date'], excluded_llm_metadata_keys=['file_name', 'file_type', 'file_size', 'creation_date', 'last_modified_date', 'last_accessed_date'], relationships={<NodeRelationship.SOURCE: '1'>: RelatedNodeInfo(node_id='2d9dc006-32ea-469f-bafc-9ea9880da215', node_type=<ObjectType.DOCUMENT: '4'>, metadata={'file_path': 'c:\\\\KT\\\\0711\\\\AIModel\\\\RAGPIPELINE_CHECK\\\\documents\\\\sample.txt', 'file_name': 'sample.txt', 'file_type': 'text/plain', 'file_size': 1070, 'creation_date': '2024-07-11', 'last_modified_date': '2024-07-10'}, hash='2c6a7ae0fe110c488b204c9462d03e28acf79201f4efa85c9b86e28425d041ba')}, text=\"Introduction\\r\\nLangChain is a framework for developing applications powered by large language models (LLMs).\\r\\n\\r\\nLangChain simplifies every stage of the LLM application lifecycle:\\r\\n\\r\\nDevelopment: Build your applications using LangChain's open-source building blocks, components, and third-party integrations. Use LangGraph to build stateful agents with first-class streaming and human-in-the-loop support.\\r\\nProductionization: Use LangSmith to inspect, monitor and evaluate your chains, so that you can continuously optimize and deploy with confidence.\\r\\nDeployment: Turn your LangGraph applications into production-ready APIs and Assistants with LangGraph Cloud.\\r\\n\\r\\nTutorials\\r\\nIf you're looking to build something specific or are more of a hands-on learner, check out our tutorials section. This is the best place to get started.\\r\\n\\r\\nThese are the best ones to get started with:\\r\\n\\r\\nBuild a Simple LLM Application\\r\\nBuild a Chatbot\\r\\nBuild an Agent\\r\\nIntroduction to LangGraph\\r\\nExplore the full list of LangChain tutorials here, and check out other LangGraph tutorials here.\", mimetype='text/plain', start_char_idx=0, end_char_idx=1066, text_template='{metadata_str}\\n\\n{content}', metadata_template='{key}: {value}', metadata_seperator='\\n')]"
      ]
     },
     "execution_count": 55,
     "metadata": {},
     "output_type": "execute_result"
    }
   ],
   "source": [
    "nodes"
   ]
  },
  {
   "cell_type": "code",
   "execution_count": 57,
   "metadata": {},
   "outputs": [
    {
     "name": "stdout",
     "output_type": "stream",
     "text": [
      "resource module not available on Windows\n"
     ]
    },
    {
     "name": "stderr",
     "output_type": "stream",
     "text": [
      "c:\\Users\\kim_h\\anaconda3\\envs\\bigproject\\Lib\\site-packages\\tqdm\\auto.py:21: TqdmWarning: IProgress not found. Please update jupyter and ipywidgets. See https://ipywidgets.readthedocs.io/en/stable/user_install.html\n",
      "  from .autonotebook import tqdm as notebook_tqdm\n"
     ]
    }
   ],
   "source": [
    "from llama_index.retrievers.bm25 import BM25Retriever\n",
    "from llama_index.core.retrievers import VectorIndexRetriever"
   ]
  },
  {
   "cell_type": "code",
   "execution_count": 58,
   "metadata": {},
   "outputs": [],
   "source": [
    "retriever = BM25Retriever.from_defaults(nodes=nodes, similarity_top_k=2)"
   ]
  },
  {
   "cell_type": "code",
   "execution_count": null,
   "metadata": {},
   "outputs": [],
   "source": []
  }
 ],
 "metadata": {
  "kernelspec": {
   "display_name": "bigproject",
   "language": "python",
   "name": "python3"
  },
  "language_info": {
   "codemirror_mode": {
    "name": "ipython",
    "version": 3
   },
   "file_extension": ".py",
   "mimetype": "text/x-python",
   "name": "python",
   "nbconvert_exporter": "python",
   "pygments_lexer": "ipython3",
   "version": "3.11.9"
  }
 },
 "nbformat": 4,
 "nbformat_minor": 2
}
