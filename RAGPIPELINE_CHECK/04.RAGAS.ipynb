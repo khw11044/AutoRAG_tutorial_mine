{
 "cells": [
  {
   "cell_type": "code",
   "execution_count": 31,
   "metadata": {},
   "outputs": [],
   "source": [
    "# import os \n",
    "# from langchain_teddynote.messages import stream_response\n",
    "from langchain_core.output_parsers import StrOutputParser\n",
    "from langchain_core.runnables import RunnablePassthrough\n",
    "import pandas as pd\n",
    "\n",
    "\n",
    "from utils.RAGPipeLine import Ragpipeline\n"
   ]
  },
  {
   "cell_type": "code",
   "execution_count": 32,
   "metadata": {},
   "outputs": [
    {
     "name": "stdout",
     "output_type": "stream",
     "text": [
      "[초기화] vector_store 초기화 완료\n",
      "[초기화] retriever 초기화 완료\n",
      "[초기화] RAG chain 초기화 완료\n",
      "[초기화] RAG title chain 초기화 완료\n",
      "[초기화] RAG post chain 초기화 완료\n"
     ]
    }
   ],
   "source": [
    "pipeline = Ragpipeline()"
   ]
  },
  {
   "cell_type": "code",
   "execution_count": 33,
   "metadata": {},
   "outputs": [
    {
     "name": "stdout",
     "output_type": "stream",
     "text": [
      "[초기화] vector_store 초기화 완료\n"
     ]
    }
   ],
   "source": [
    "vectorDB = pipeline.init_vectorDB()"
   ]
  },
  {
   "cell_type": "markdown",
   "metadata": {},
   "source": [
    "### 1. LLM 모델 준비 "
   ]
  },
  {
   "cell_type": "code",
   "execution_count": 19,
   "metadata": {},
   "outputs": [],
   "source": [
    "from langchain_community.chat_models import ChatOllama\n",
    "from langchain_community.embeddings.ollama import OllamaEmbeddings\n",
    "\n",
    "from langchain_openai import ChatOpenAI, OpenAIEmbeddings\n",
    "from langchain_core.prompts import ChatPromptTemplate\n",
    "\n",
    "from utils.config import config"
   ]
  },
  {
   "cell_type": "code",
   "execution_count": 20,
   "metadata": {},
   "outputs": [],
   "source": [
    "gemma2_llm =  ChatOllama(model=\"gemma2\")\n",
    "qwen2_llm = ChatOllama(model=\"qwen2\")\n",
    "our_llm = ChatOpenAI(\n",
    "            model       = config['llm_predictor']['model_name'],\n",
    "            temperature = config['llm_predictor']['temperature'],\n",
    "            # streaming=True,\n",
    "            # callbacks=[StreamCallback()]\n",
    "        )\n",
    "\n",
    "gemma2_embeddings = OllamaEmbeddings(model=\"gemma2\")"
   ]
  },
  {
   "cell_type": "code",
   "execution_count": 21,
   "metadata": {},
   "outputs": [
    {
     "name": "stdout",
     "output_type": "stream",
     "text": [
      "[초기화] retriever 초기화 완료\n"
     ]
    }
   ],
   "source": [
    "retriever = pipeline.init_retriever()\n",
    "mq_retriever = pipeline.init_multi_query_retriever()\n",
    "sq_retriever = pipeline.init_self_query_retriever()\n",
    "pd_retriever  = pipeline.init_parent_document_retriever()\n",
    "web_retriever = pipeline.init_web_research_retriever()"
   ]
  },
  {
   "cell_type": "code",
   "execution_count": 22,
   "metadata": {},
   "outputs": [],
   "source": [
    "from utils.prompt import contextualize_q_prompt   \n",
    "from utils.prompt import qa_prompt2                  # 게시물 생성 프롬프트 \n",
    "from utils.prompt import title_generator_prompt     # 제목 생성 프롬프트 \n",
    "from utils.prompt import text_generator_prompt      # 게시물 생성 프롬프트 "
   ]
  },
  {
   "cell_type": "code",
   "execution_count": 23,
   "metadata": {},
   "outputs": [],
   "source": [
    "from langchain.chains.combine_documents import create_stuff_documents_chain\n",
    "from langchain.chains import create_retrieval_chain\n"
   ]
  },
  {
   "cell_type": "code",
   "execution_count": 24,
   "metadata": {},
   "outputs": [],
   "source": [
    "def set_chain(llm, retriever, prompt):\n",
    "    \n",
    "    question_answer_chain = create_stuff_documents_chain(llm, prompt)           # 문서 목록을 가져와서 모두 프롬프트로 포맷한 다음 해당 프롬프트를 LLM에 전달합니다.\n",
    "    \n",
    "    rag_chat_chain = create_retrieval_chain(retriever, question_answer_chain)  # 사용자 문의를 받아 리트리버로 전달하여 관련 문서를 가져옵니다. 그런 다음 해당 문서(및 원본 입력)는 LLM으로 전달되어 응답을 생성\n",
    "\n",
    "    \n",
    "    return rag_chat_chain"
   ]
  },
  {
   "cell_type": "code",
   "execution_count": 25,
   "metadata": {},
   "outputs": [
    {
     "data": {
      "text/plain": [
       "[Document(page_content='제Ⅲ절\\n인도의 통관 절차\\n01\\n통관 조직 및 절차\\n', metadata={'category': '3. 정책 및 무역', 'datetimes': '2024-07-08 16:42:32', 'filename': 'data/PDF_with_contents/3. 정책 및 무역/[정책][관세청][2019.11.07]신남방국 통관·통상환경 및 FTA 활용방안.pdf', 'page_no': 9, 'subcategory': '1. 통관 조직 및 절차'}),\n",
       " Document(page_content='인도 전문 식품수입 벤더현황\\n다. 통관 및 검역 유의사항\\n(1) 인도 통관, 사전 준비가 관건\\n▪\\n인도의 통관은 수입 통관 및 검역을 위한 사전 준비 절차가 중요함\\n▪\\n통관에 필요한 서류를 제출하면 서류의 기재 오류나 서류 상호간 불일치를\\n수정하기가 매우 어려우며 이로 인해 통관 절차가 2~3주씩 지연되는 경우도\\n있어 철저한 서류 작성이 필수적임\\n▪\\n또한 인도로 수출하는 물품의 경우 포장명세서(P/L)와 상업송장(C/I)을\\n컨테이너별로 철저히 작성해야 함. 인도 세관은 한 컨테이너 안에서 박스별로\\n화물의 일치 여부를 조사하는 등 실물 검사가 철저하며 서류와 화물 불일치\\n시 통관이 불가능함\\n▪\\n특히 인도는 도로와 항만 등 인프라가 낙후되어 있고 운송수단도 노후하기\\n때문에 내륙운송 과정에서 사고가 자주 발생하므로 내륙운송보험에 가입해야\\n함\\n43\\n', metadata={'category': '3. 정책 및 무역', 'datetimes': '2024-07-08 16:41:51', 'filename': 'data/PDF_with_contents/3. 정책 및 무역/[정책][KATI 농식품수출정보][2019]인도 전문 식품수입.pdf', 'page_no': 21, 'subcategory': '다. 통관 및 검역 유의사항'}),\n",
       " Document(page_content='5 통관 및 운송\\n가 통관제도\\n통관 유형별 절차\\n1 정식통관\\n인도에서 일반적인 경우 통관에 소요되는 시간은 행정상 운송 수입의 경우 34 근무일 항공 운송은 약 12 근무일이 소요된다 일단 물\\n품이 입항하게 되면 보세구역장치에 적하되고 이후 전자데이터 교환EDI 신고 또는 수작업신고 통해 수입신고를 하게 된다 이후 인도\\n관세청의 수입요건 관세 평가 등을 검사하는 Appraiser Section과 관련 서류 및 관세율을 재점검하는 Audit Section 과정을 거치게 되', metadata={'chunk': 0, 'filename': 'data/PDF_without_contents\\\\3. 정책 및 무역\\\\[정책][제약산업정보포털][2019.04.08]인도 통관 및 운송.pdf', 'keyword': '키워드: 통관제도, 통관 유형별 절차, 인도, 통관 소요 시간, 행정상 운송, 항공 운송, 수입신고, 인도 관세청, Appraiser Section, Audit Section.'}),\n",
       " Document(page_content='제Ⅲ절\\n인도의 통관 절차\\n03\\n인도의\\n주요 인증 제도\\n', metadata={'category': '3. 정책 및 무역', 'datetimes': '2024-07-08 16:42:32', 'filename': 'data/PDF_with_contents/3. 정책 및 무역/[정책][관세청][2019.11.07]신남방국 통관·통상환경 및 FTA 활용방안.pdf', 'page_no': 11, 'subcategory': '3. 인도의 주요 인증 제도'}),\n",
       " Document(page_content='외의 농촌 지역의 경우 카드 결제가 되지 않는 경우가 많다\\n나 교통\\n교통상황\\n인도의 도로는 포장상태가 대체로 열악하나 최근 대규모 고속도로 공사를 통해 현대화 되고 있다 특히 출퇴근 시간에는 교통혼잡이 심한\\n편이다 순환도로나 우회로가 충분히 갖추어져 있지 않기 때문에 중요한 일정의 경우 예정시간보다 30분에서 1시간 가량 미리 출발하는\\n것이 좋다 인도는 한국과 운전면허와 관련된 조약이 체결되어 있기 때문에 국제면허증을 가지고 자가운전을 할 수가 있다 하지만 자동차', metadata={'chunk': 554, 'filename': 'data/PDF_without_contents\\\\2. 경제 및 시장 분석\\\\[전체 정보][KOTRA 해외경제정보 Dream][2023]인도.pdf', 'keyword': '키워드: 인도, 교통, 도로, 열악, 고속도로 공사, 현대화, 교통혼잡, 출퇴근 시간, 순환도로, 우회로, 국제면허증, 자가운전, 자동차.'})]"
      ]
     },
     "execution_count": 25,
     "metadata": {},
     "output_type": "execute_result"
    }
   ],
   "source": [
    "query = '인도 통관 및 운송'\n",
    "\n",
    "docs = retriever.get_relevant_documents(query)\n",
    "\n",
    "docs"
   ]
  },
  {
   "cell_type": "code",
   "execution_count": 26,
   "metadata": {},
   "outputs": [
    {
     "name": "stdout",
     "output_type": "stream",
     "text": [
      "{'input': '인도 펫케어 식품 시장 동향을 알려주세요.', 'context': [Document(page_content='24 6 27 오후 310 emericsorg446aifcommonPrintPopupesbrdctsNo354483systemcode02mida30400000000\\n인도 펫케어 식품 시장 동향\\n인도남아시아 인도 20231010\\n인도 반료동물 사료 시장은 연간 15 성장 중\\n반려동물 제품의 고급화에 따라 제품의 세분화 맞춤형 니즈가 증가할 것으로 예상\\n인도 펫케어 산업은 지속 성장 중\\n시장조사 전문 기관 유로모니터 펫 케어 산업 조사에 따르면 2023년 전세계 펫 케어 시장 규모는 약 1천 844억', metadata={'chunk': 0, 'filename': 'data/PDF_without_contents\\\\2. 경제 및 시장 분석\\\\펫산업\\\\[인도_펫산업_시장분석][AIF][2023-10-10]인도 펫케어 식품 시장 동향.pdf', 'keyword': '키워드 1: 인도\\n키워드 2: 펫케어 식품 시장\\n키워드 3: 동향'}), Document(page_content='인도 펫푸드 시장의 경쟁 동향\\n인도 펫푸드 시장은 주요 대기업들이 장악하고 있으며 이들은 신제품 개발에\\n적극적으로 투자하고 있다 인수 및 확장을 통해 사업 영역을 넓히는 중이며\\n연구와 개발에 집중하여 보다 저렴한 가격의 새로운 제품을 시장에 선보이고\\n있다\\n인도 펫푸드 시장의 최근 동향\\n인도의 유명 제약 회사인 Mankind Pharma 는 인도에서 반려동물을 키우는\\n인구가 증가함에 따라 펫푸드 시장 진출을 결정하고 최근 자체 브랜드 Petstar를', metadata={'chunk': 6, 'filename': 'data/PDF_without_contents\\\\2. 경제 및 시장 분석\\\\펫산업\\\\[인도_펫산업_시장분석][강원 수출기업 서포트][2024-04-14]인구 14억 인도의 반려동물 사랑 펫푸드 시장도 동반 성장 중.pdf', 'keyword': '키워드: 인도, 펫푸드 시장, 경쟁 동향, 대기업, 신제품 개발, 인수, 확장, 연구, 개발, 저렴한 가격, 새로운 제품, Mankind Pharma, Petstar, 반려동물 인구 증가.'}), Document(page_content='어 및 동호회 활동 등의 영향으로 정보 공유 플랫폼이 다양화 되었고 이에 맞춰 반려동물 친화 공간이 늘어나며\\n반려동물 입장이 가능한 카페 바 이벤트 등이 인기를 끌고 있다\\n인도 펫케어 산업은 프리미엄화 추세로 흘러가고 있지만 인플레이션 상승과 가처분소득으로 일부 소비자들은\\n사료 및 식품 구매시 중저가 제품을 선호하고 있다 하지만 반려동물 입양은 지속해서 증가하고 있기 때문에 사\\n료 시장 전반은 꾸준히 성장할 것으로 예상되고 있다', metadata={'chunk': 4, 'filename': 'data/PDF_without_contents\\\\2. 경제 및 시장 분석\\\\펫산업\\\\[인도_펫산업_시장분석][AIF][2023-10-10]인도 펫케어 식품 시장 동향.pdf', 'keyword': '키워드 1: 반려동물 친화 공간\\n키워드 2: 사료 시장 성장\\n키워드 3: 프리미엄 펫케어 산업'}), Document(page_content='단백질과 비타민이 풍부한 펫푸드를 시장에 출시하고 있다\\n인도 펫푸드 시장 세그먼트 분석\\n인도 펫푸드 시장은 고양이 개 새 물고기 소형 포유류파충류 사료로 분류할 수\\n있다 각 개체별의 소매 판매량은 2016년부터 2021년까지 빠르게 성장했으며\\n이러한 추세는 2026 년까지도 계속될 것으로 보인다 업계 추정에 따르면 개\\n사료가 펫푸드 시장의 85를 차지하고 있지만 고양이 사료 부문이 약 20의\\nCAGR로 가장 빠른 성장을 보이고 있다\\n인도 펫푸드 시장 동력', metadata={'chunk': 3, 'filename': 'data/PDF_without_contents\\\\2. 경제 및 시장 분석\\\\펫산업\\\\[인도_펫산업_시장분석][강원 수출기업 서포트][2024-04-14]인구 14억 인도의 반려동물 사랑 펫푸드 시장도 동반 성장 중.pdf', 'keyword': '키워드: 펫푸드, 인도, 시장, 세그먼트, 분석, 카테고리, 개, 고양이, 새, 물고기, 소형 포유류, 파충류, 소매 판매, 성장, 추정치, CAGR, 동력.'}), Document(page_content='동물 사료를 찾는 추세로 변하고 있다\\n오랫동안 다양한 종류의 동물이 가족의 일원으로 여겨져 왔으며 특히 반려\\n동물의 인간화라는 개념이 인도 펫푸드 산업의 성장을 주도하고 있다 소득\\n수준의 상승 도시화의 진행 건강에 대한 인식 증가에 따라 반려동물 주인\\n들은 유전자 변형 인공색소 향료 등이 없는 천연 펫푸드를 더욱 찾고 있다\\n이런 수요를 반영해 많은 회사가 고품질 단백질과 비타민이 풍부한 펫푸드\\n를 시장에 출시하고 있다\\n해외 기업도 인도 펫푸드 시장 진출', metadata={'chunk': 2, 'filename': 'data/PDF_without_contents\\\\2. 경제 및 시장 분석\\\\펫산업\\\\[인도_펫산업_시장분석][KOTRA][2024-05-17]‘인도 펫푸드 시장, 반려동물의 증가와 함께 쑥쑥 커지고 있다.pdf', 'keyword': '키워드: 인도, 펫푸드, 성장, 반려동물, 인간화, 천연, 고품질, 단백질, 비타민'})], 'answer': '인도 펫케어 식품 시장은 현재 지속적인 성장을 보이고 있습니다. 반려동물 제품의 고급화로 인해 제품의 세분화와 맞춤형 니즈가 증가하고 있으며, 이는 펫케어 산업의 성장을 이끌고 있습니다. 유로모니터에 따르면 2023년 전세계 펫 케어 시장의 규모는 약 1천 844억이며, 이 중 인도의 펫케어 시장도 큰 부분을 차지하고 있습니다. 또한, 인도의 유명 제약 회사인 Mankind Pharma가 펫푸드 시장에 진출하고 있으며, 이는 반려동물을 키우는 인구의 증가에 대한 대응으로 볼 수 있습니다. 이러한 동향들을 통해 인도 펫케어 식품 시장은 더 많은 기회와 성장 잠재력을 보유하고 있습니다.'}\n"
     ]
    }
   ],
   "source": [
    "# Chain 실행\n",
    "rag_chain = set_chain(our_llm, retriever, qa_prompt2)\n",
    "question = \"인도 펫케어 식품 시장 동향을 알려주세요.\"\n",
    "response = rag_chain.invoke({'input':question})\n",
    "print(response)"
   ]
  },
  {
   "cell_type": "code",
   "execution_count": 27,
   "metadata": {},
   "outputs": [
    {
     "name": "stdout",
     "output_type": "stream",
     "text": [
      "인도 펫케어 식품 시장은 현재 지속적인 성장을 보이고 있습니다. 반려동물 제품의 고급화로 인해 제품의 세분화와 맞춤형 니즈가 증가하고 있으며, 이는 펫케어 산업의 성장을 이끌고 있습니다. 유로모니터에 따르면 2023년 전세계 펫 케어 시장의 규모는 약 1천 844억이며, 이 중 인도의 펫케어 시장도 큰 부분을 차지하고 있습니다. 또한, 인도의 유명 제약 회사인 Mankind Pharma가 펫푸드 시장에 진출하고 있으며, 이는 반려동물을 키우는 인구의 증가에 대한 대응으로 볼 수 있습니다. 이러한 동향들을 통해 인도 펫케어 식품 시장은 더 많은 기회와 성장 잠재력을 보유하고 있습니다.\n",
      "------------------------------\n",
      "{'chunk': 0, 'filename': 'data/PDF_without_contents\\\\2. 경제 및 시장 분석\\\\펫산업\\\\[인도_펫산업_시장분석][AIF][2023-10-10]인도 펫케어 식품 시장 동향.pdf', 'keyword': '키워드 1: 인도\\n키워드 2: 펫케어 식품 시장\\n키워드 3: 동향'}\n",
      "{'chunk': 6, 'filename': 'data/PDF_without_contents\\\\2. 경제 및 시장 분석\\\\펫산업\\\\[인도_펫산업_시장분석][강원 수출기업 서포트][2024-04-14]인구 14억 인도의 반려동물 사랑 펫푸드 시장도 동반 성장 중.pdf', 'keyword': '키워드: 인도, 펫푸드 시장, 경쟁 동향, 대기업, 신제품 개발, 인수, 확장, 연구, 개발, 저렴한 가격, 새로운 제품, Mankind Pharma, Petstar, 반려동물 인구 증가.'}\n",
      "{'chunk': 4, 'filename': 'data/PDF_without_contents\\\\2. 경제 및 시장 분석\\\\펫산업\\\\[인도_펫산업_시장분석][AIF][2023-10-10]인도 펫케어 식품 시장 동향.pdf', 'keyword': '키워드 1: 반려동물 친화 공간\\n키워드 2: 사료 시장 성장\\n키워드 3: 프리미엄 펫케어 산업'}\n",
      "{'chunk': 3, 'filename': 'data/PDF_without_contents\\\\2. 경제 및 시장 분석\\\\펫산업\\\\[인도_펫산업_시장분석][강원 수출기업 서포트][2024-04-14]인구 14억 인도의 반려동물 사랑 펫푸드 시장도 동반 성장 중.pdf', 'keyword': '키워드: 펫푸드, 인도, 시장, 세그먼트, 분석, 카테고리, 개, 고양이, 새, 물고기, 소형 포유류, 파충류, 소매 판매, 성장, 추정치, CAGR, 동력.'}\n",
      "{'chunk': 2, 'filename': 'data/PDF_without_contents\\\\2. 경제 및 시장 분석\\\\펫산업\\\\[인도_펫산업_시장분석][KOTRA][2024-05-17]‘인도 펫푸드 시장, 반려동물의 증가와 함께 쑥쑥 커지고 있다.pdf', 'keyword': '키워드: 인도, 펫푸드, 성장, 반려동물, 인간화, 천연, 고품질, 단백질, 비타민'}\n"
     ]
    }
   ],
   "source": [
    "print(response['answer'])\n",
    "print('---'*10)\n",
    "for con in response['context']:\n",
    "    print(con.metadata)"
   ]
  },
  {
   "cell_type": "code",
   "execution_count": 28,
   "metadata": {},
   "outputs": [
    {
     "name": "stdout",
     "output_type": "stream",
     "text": [
      "1. 인도 펫케어 식품 시장에 대한 최신 동향은 무엇인가요?\n",
      "2. 인도의 펫케어 식품 시장 동향을 알고 싶습니다. 정보를 제공해 주세요.\n",
      "3. 인도에서 펫케어 식품 시장이 어떻게 변화하고 있는지 알려주세요.인도 펫케어 식품 시장은 현재 지속적인 성장을 보이고 있습니다. 반려동물 제품의 고급화로 인해 제품의 세분화와 맞춤형 니즈가 증가하고 있으며, 이는 펫케어 산업의 성장을 이끌고 있습니다. 시장조사에 따르면 2023년 전세계 펫 케어 시장의 규모는 약 1천 844억이며, 인도 펫푸드 시장은 주요 대기업들이 장악하고 있으며 신제품 개발과 사업 영역 확장에 적극적으로 투자하고 있습니다. 또한, 반려동물 친화 공간이 늘어나고 반려동물 관련 이벤트가 인기를 끌고 있으며, 인도 펫케어 산업은 프리미엄화 추세를 보이고 있습니다. 이러한 동향들을 바탕으로 인도 펫케어 식품 시장은 계속해서 성장할 것으로 예상됩니다.\n"
     ]
    }
   ],
   "source": [
    "# Chain 실행\n",
    "rag_chain = set_chain(our_llm, mq_retriever, qa_prompt2)\n",
    "question = \"인도 펫케어 식품 시장 동향을 알려주세요.\"\n",
    "response = rag_chain.invoke({'input':question})\n",
    "print(response['answer'])"
   ]
  },
  {
   "cell_type": "code",
   "execution_count": 29,
   "metadata": {},
   "outputs": [
    {
     "name": "stdout",
     "output_type": "stream",
     "text": [
      "```json\n",
      "{\n",
      "    \"query\": \"인도 펫케어 식품 시장 동향\",\n",
      "    \"filter\": \"NO_FILTER\"\n",
      "}\n",
      "```인도 펫케어 식품 시장은 현재 지속적인 성장을 보이고 있습니다. 반려동물 제품의 고급화로 인해 제품의 세분화와 맞춤형 니즈가 증가하고 있으며, 이는 시장의 다양성을 증가시키고 있습니다. 유로모니터에 따르면 2023년 전세계 펫 케어 시장의 규모는 약 1천 844억이며, 이 중 인도 펫케어 시장도 지속적인 성장을 이어가고 있습니다.\n",
      "\n",
      "또한, 인도 펫푸드 시장은 주요 대기업들이 시장을 장악하고 있으며, 신제품 개발에 적극적으로 투자하고 있습니다. 대기업들은 인수 및 확장을 통해 사업 영역을 넓히고, 연구와 개발에 집중하여 보다 저렴한 가격의 새로운 제품을 소비자에게 제공하고 있습니다. 또한, Mankind Pharma와 같은 유명 제약 회사도 펫푸드 시장에 진출하여 시장 경쟁을 더욱 촉진하고 있습니다.\n",
      "\n",
      "인도 펫케어 산업은 프리미엄화 추세를 보이고 있지만, 일부 소비자들은 인플레이션 상승과 가처분소득으로 중저가 제품을 선호하는 경향이 있습니다. 그러나 반려동물 입양이 계속해서 증가하고 있기 때문에 사료 시장 전반은 꾸준한 성장이 예상되고 있습니다. 또한, 단백질과 비타민이 풍부한 펫푸드가 시장에 출시되어 소비자들의 다양한 니즈를 충족시키고 있습니다.\n",
      "\n",
      "이러한 동향들을 종합하면, 인도 펫케어 식품 시장은 성장 가능성이 높고 다양한 기회를 제공하고 있습니다.\n"
     ]
    }
   ],
   "source": [
    "# Chain 실행\n",
    "rag_chain = set_chain(our_llm, sq_retriever, qa_prompt2)\n",
    "question = \"인도 펫케어 식품 시장 동향을 알려주세요.\"\n",
    "response = rag_chain.invoke({'input':question})\n",
    "print(response['answer'])"
   ]
  },
  {
   "cell_type": "code",
   "execution_count": 30,
   "metadata": {},
   "outputs": [
    {
     "name": "stdout",
     "output_type": "stream",
     "text": [
      "인도의 펫케어 식품 시장은 지속적으로 성장하고 있습니다. 인도의 경제적 성장과 함께 반려동물을 키우는 가구 수가 증가하고 있어서 펫케어 시장이 확대되고 있습니다. 특히, 고급 제품에 대한 수요가 증가하고 있으며, 건강식품 및 영양 보충제에 대한 관심도 높아지고 있습니다. 또한, 온라인 판매 채널을 통한 펫케어 제품 구매가 증가하고 있으며, 이는 소비자들이 더 많은 옵션을 찾고 편리성을 추구하는 추세에 부합합니다. 이러한 동향들을 고려하면 인도의 펫케어 식품 시장은 미래에도 계속해서 성장할 것으로 전망됩니다.\n"
     ]
    }
   ],
   "source": [
    "# Chain 실행\n",
    "rag_chain = set_chain(our_llm, pd_retriever, qa_prompt2)\n",
    "question = \"인도 펫케어 식품 시장 동향을 알려주세요.\"\n",
    "response = rag_chain.invoke({'input':question})\n",
    "print(response['answer'])"
   ]
  },
  {
   "cell_type": "code",
   "execution_count": 22,
   "metadata": {},
   "outputs": [
    {
     "name": "stdout",
     "output_type": "stream",
     "text": [
      "1. 인도 펫케어 식품 시장의 최신 동향은 무엇인가요?\n",
      "2. 인도의 펫케어 식품 시장은 어떻게 변화하고 있나요?\n",
      "3. 인도에서의 펫케어 식품 시장 동향을 알려주세요."
     ]
    },
    {
     "name": "stderr",
     "output_type": "stream",
     "text": [
      "Fetching pages: 100%|##########| 2/2 [00:00<00:00,  2.12it/s]\n"
     ]
    },
    {
     "name": "stdout",
     "output_type": "stream",
     "text": [
      "인도의 펫케어 식품 시장은 현재 지속적인 성장을 보이고 있습니다. 2023년에는 전 세계 펫케어 시장 규모가 약 1천 844억 달러인 가운데, 인도의 펫케어 시장 규모는 약 6억 달러로 집계되었습니다. 이는 2018년부터 2023년까지 연평균 14-15%로 성장하고 있는 것으로 나타났습니다. 특히, 코로나19 이후에는 급격한 성장을 보여 두 자리 수를 유지하고 있습니다. 또한, 2028년까지는 약 11억 달러 규모로 성장할 것으로 예측되고 있습니다.\n",
      "\n",
      "인도의 펫케어 시장에서는 펫휴머니제이션(Pet Humanisation)이 보편화되고 있어, 반려동물을 가족의 일원으로 취급하는 경향이 강조되고 있습니다. 특히 대도시 중산층 이상 가정에서는 반려동물의 생활 환경과 건강에 대한 관심이 높아지고 있으며, 이에 따라 화학첨가물이 없는 유기농 사료나 영양을 증진시킬 수 있는 제품을 선호하는 추세가 있습니다.\n",
      "\n",
      "또한, 코로나19 이후에는 반려동물의 웰니스를 위한 시설의 수요가 증가하고 있습니다. 대도시에서는 반려동물을 동반하여 여행할 수 있는 규정이 확대되고 있으며, 반려동물 친화적인 공간이 늘어나고 있습니다. 이러한 환경 변화와 Z세대의 활발한 소셜미디어 활동 등의 영향으로 인도의 펫케어 시장은 계속해서 성장할 것으로 예상됩니다.\n"
     ]
    }
   ],
   "source": [
    "# Chain 실행\n",
    "rag_chain = set_chain(our_llm, web_retriever, qa_prompt2)\n",
    "question = \"인도 펫케어 식품 시장 동향을 알려주세요.\"\n",
    "response = rag_chain.invoke({'input':question})\n",
    "print(response['answer'])"
   ]
  },
  {
   "cell_type": "markdown",
   "metadata": {},
   "source": [
    "### 만들어 논 평가 데이터셋 불러오기 "
   ]
  },
  {
   "cell_type": "code",
   "execution_count": 13,
   "metadata": {},
   "outputs": [
    {
     "data": {
      "text/html": [
       "<div>\n",
       "<style scoped>\n",
       "    .dataframe tbody tr th:only-of-type {\n",
       "        vertical-align: middle;\n",
       "    }\n",
       "\n",
       "    .dataframe tbody tr th {\n",
       "        vertical-align: top;\n",
       "    }\n",
       "\n",
       "    .dataframe thead th {\n",
       "        text-align: right;\n",
       "    }\n",
       "</style>\n",
       "<table border=\"1\" class=\"dataframe\">\n",
       "  <thead>\n",
       "    <tr style=\"text-align: right;\">\n",
       "      <th></th>\n",
       "      <th>qid</th>\n",
       "      <th>retrieval_gt</th>\n",
       "      <th>query</th>\n",
       "      <th>generation_gt</th>\n",
       "    </tr>\n",
       "  </thead>\n",
       "  <tbody>\n",
       "    <tr>\n",
       "      <th>0</th>\n",
       "      <td>e28e176e-2db2-46f6-a360-74dfffe0377f</td>\n",
       "      <td>[[PDF_without_contents\\1. 법률 및 규제\\[법률_규범_특허][인...</td>\n",
       "      <td>자료에 나와 있는 날짜는 언제인가요?</td>\n",
       "      <td>[자료에 나와 있는 날짜는 2016년 8월 24일과 2016년 12월 30일입니다.]</td>\n",
       "    </tr>\n",
       "    <tr>\n",
       "      <th>1</th>\n",
       "      <td>29aad4ed-e426-4100-a204-c11d17197100</td>\n",
       "      <td>[[PDF_without_contents\\2. 경제 및 시장 분석\\[전체 정보][K...</td>\n",
       "      <td>인도에서 채식주의자의 인구비율이 높은 이유는 무엇인가요?</td>\n",
       "      <td>[인도는 종교적 특성으로 인해 채식주의자의 인구비율이 높게 나타납니다.]</td>\n",
       "    </tr>\n",
       "    <tr>\n",
       "      <th>2</th>\n",
       "      <td>54f2b135-b0bd-434e-9e92-ca29798988c3</td>\n",
       "      <td>[[PDF_without_contents\\1. 법률 및 규제\\[법률_규범_특허][코...</td>\n",
       "      <td>상표 등록이 완료된 후 기호 을을 사용할 수 있는 조건은 무엇인가요?</td>\n",
       "      <td>[상표 등록이 완료된 후에는 인증서에 명시된 상품 및 서비스에 대해서만 기호 을을 ...</td>\n",
       "    </tr>\n",
       "    <tr>\n",
       "      <th>3</th>\n",
       "      <td>f3a4828f-9954-4c08-ba33-f81dfa3ce819</td>\n",
       "      <td>[[PDF_without_contents\\1. 법률 및 규제\\[법률_규범_특허][인...</td>\n",
       "      <td>인증서의 정지 및 취소는 어떤 절차에 따라 이루어지나요?</td>\n",
       "      <td>[인증서의 정지 및 취소는 Schedule II에 명시된 적용 가능한 스킴에 따라 ...</td>\n",
       "    </tr>\n",
       "    <tr>\n",
       "      <th>4</th>\n",
       "      <td>f78f2c4f-687d-4547-add3-5b632bfaa08d</td>\n",
       "      <td>[[PDF_without_contents\\1. 법률 및 규제\\[법률_규범_특허][인...</td>\n",
       "      <td>불만 사항의 해결 조치는 몇 일 내에 완료되어야 하나요?</td>\n",
       "      <td>[불만 사항의 해결 조치는 제품 테스트 시간이 포함되지 않은 경우 90일 이내에 완...</td>\n",
       "    </tr>\n",
       "    <tr>\n",
       "      <th>...</th>\n",
       "      <td>...</td>\n",
       "      <td>...</td>\n",
       "      <td>...</td>\n",
       "      <td>...</td>\n",
       "    </tr>\n",
       "    <tr>\n",
       "      <th>73</th>\n",
       "      <td>6205c3ba-a01d-45d1-a0ba-1552dc2026f2</td>\n",
       "      <td>[[PDF_without_contents\\1. 법률 및 규제\\[법률_규범_특허][인...</td>\n",
       "      <td>월별 생산 실적을 제공해야 하는 기간은 언제인가요?</td>\n",
       "      <td>[해당 자료와 관련이 없습니다.]</td>\n",
       "    </tr>\n",
       "    <tr>\n",
       "      <th>74</th>\n",
       "      <td>e505c9a3-6128-404f-bc59-9819f81b2cf6</td>\n",
       "      <td>[[PDF_without_contents\\1. 법률 및 규제\\[법률_규범_특허][코...</td>\n",
       "      <td>인도에서 토지 취득 시 발생할 수 있는 주요 문제는 무엇인가요?</td>\n",
       "      <td>[인도에서 토지 취득 시 법적 소유권을 확립하기 어렵고, 상속 분할, 지분 매도인의...</td>\n",
       "    </tr>\n",
       "    <tr>\n",
       "      <th>75</th>\n",
       "      <td>38a4b67d-812e-45c5-8703-f552277af964</td>\n",
       "      <td>[[PDF_without_contents\\2. 경제 및 시장 분석\\[전체 정보][K...</td>\n",
       "      <td>인도에서 연락사무소를 설치하고 운영하기 위해 필요한 법률은 무엇인가요?</td>\n",
       "      <td>[인도에서 연락사무소를 설치하고 운영하기 위해 필요한 법률은 외국환관리법(Forei...</td>\n",
       "    </tr>\n",
       "    <tr>\n",
       "      <th>76</th>\n",
       "      <td>2d69c2a2-5440-4645-a4fa-1b8906f8ac1a</td>\n",
       "      <td>[[PDF_without_contents\\2. 경제 및 시장 분석\\펫산업\\[인도_펫...</td>\n",
       "      <td>Mars는 건강한 스낵을 생산하는 데 있어서 주도적인 역할을 하고 있나요?</td>\n",
       "      <td>[아니요, Mars는 건강한 스낵을 생산하는 데 있어서 주도적인 역할을 하지 않는 ...</td>\n",
       "    </tr>\n",
       "    <tr>\n",
       "      <th>77</th>\n",
       "      <td>5d4d562c-cbe1-4378-9261-5f74c56d643d</td>\n",
       "      <td>[[PDF_without_contents\\1. 법률 및 규제\\[법률_규범_특허][코...</td>\n",
       "      <td>인도에서 성공한 교육 관련 프랜차이즈 사례는 무엇인가요?</td>\n",
       "      <td>[IBT Institute Private Limited가 인도에서 성공한 교육 관련...</td>\n",
       "    </tr>\n",
       "  </tbody>\n",
       "</table>\n",
       "<p>78 rows × 4 columns</p>\n",
       "</div>"
      ],
      "text/plain": [
       "                                     qid  \\\n",
       "0   e28e176e-2db2-46f6-a360-74dfffe0377f   \n",
       "1   29aad4ed-e426-4100-a204-c11d17197100   \n",
       "2   54f2b135-b0bd-434e-9e92-ca29798988c3   \n",
       "3   f3a4828f-9954-4c08-ba33-f81dfa3ce819   \n",
       "4   f78f2c4f-687d-4547-add3-5b632bfaa08d   \n",
       "..                                   ...   \n",
       "73  6205c3ba-a01d-45d1-a0ba-1552dc2026f2   \n",
       "74  e505c9a3-6128-404f-bc59-9819f81b2cf6   \n",
       "75  38a4b67d-812e-45c5-8703-f552277af964   \n",
       "76  2d69c2a2-5440-4645-a4fa-1b8906f8ac1a   \n",
       "77  5d4d562c-cbe1-4378-9261-5f74c56d643d   \n",
       "\n",
       "                                         retrieval_gt  \\\n",
       "0   [[PDF_without_contents\\1. 법률 및 규제\\[법률_규범_특허][인...   \n",
       "1   [[PDF_without_contents\\2. 경제 및 시장 분석\\[전체 정보][K...   \n",
       "2   [[PDF_without_contents\\1. 법률 및 규제\\[법률_규범_특허][코...   \n",
       "3   [[PDF_without_contents\\1. 법률 및 규제\\[법률_규범_특허][인...   \n",
       "4   [[PDF_without_contents\\1. 법률 및 규제\\[법률_규범_특허][인...   \n",
       "..                                                ...   \n",
       "73  [[PDF_without_contents\\1. 법률 및 규제\\[법률_규범_특허][인...   \n",
       "74  [[PDF_without_contents\\1. 법률 및 규제\\[법률_규범_특허][코...   \n",
       "75  [[PDF_without_contents\\2. 경제 및 시장 분석\\[전체 정보][K...   \n",
       "76  [[PDF_without_contents\\2. 경제 및 시장 분석\\펫산업\\[인도_펫...   \n",
       "77  [[PDF_without_contents\\1. 법률 및 규제\\[법률_규범_특허][코...   \n",
       "\n",
       "                                        query  \\\n",
       "0                        자료에 나와 있는 날짜는 언제인가요?   \n",
       "1             인도에서 채식주의자의 인구비율이 높은 이유는 무엇인가요?   \n",
       "2      상표 등록이 완료된 후 기호 을을 사용할 수 있는 조건은 무엇인가요?   \n",
       "3             인증서의 정지 및 취소는 어떤 절차에 따라 이루어지나요?   \n",
       "4             불만 사항의 해결 조치는 몇 일 내에 완료되어야 하나요?   \n",
       "..                                        ...   \n",
       "73               월별 생산 실적을 제공해야 하는 기간은 언제인가요?   \n",
       "74        인도에서 토지 취득 시 발생할 수 있는 주요 문제는 무엇인가요?   \n",
       "75    인도에서 연락사무소를 설치하고 운영하기 위해 필요한 법률은 무엇인가요?   \n",
       "76  Mars는 건강한 스낵을 생산하는 데 있어서 주도적인 역할을 하고 있나요?   \n",
       "77            인도에서 성공한 교육 관련 프랜차이즈 사례는 무엇인가요?   \n",
       "\n",
       "                                        generation_gt  \n",
       "0     [자료에 나와 있는 날짜는 2016년 8월 24일과 2016년 12월 30일입니다.]  \n",
       "1            [인도는 종교적 특성으로 인해 채식주의자의 인구비율이 높게 나타납니다.]  \n",
       "2   [상표 등록이 완료된 후에는 인증서에 명시된 상품 및 서비스에 대해서만 기호 을을 ...  \n",
       "3   [인증서의 정지 및 취소는 Schedule II에 명시된 적용 가능한 스킴에 따라 ...  \n",
       "4   [불만 사항의 해결 조치는 제품 테스트 시간이 포함되지 않은 경우 90일 이내에 완...  \n",
       "..                                                ...  \n",
       "73                                 [해당 자료와 관련이 없습니다.]  \n",
       "74  [인도에서 토지 취득 시 법적 소유권을 확립하기 어렵고, 상속 분할, 지분 매도인의...  \n",
       "75  [인도에서 연락사무소를 설치하고 운영하기 위해 필요한 법률은 외국환관리법(Forei...  \n",
       "76  [아니요, Mars는 건강한 스낵을 생산하는 데 있어서 주도적인 역할을 하지 않는 ...  \n",
       "77  [IBT Institute Private Limited가 인도에서 성공한 교육 관련...  \n",
       "\n",
       "[78 rows x 4 columns]"
      ]
     },
     "execution_count": 13,
     "metadata": {},
     "output_type": "execute_result"
    }
   ],
   "source": [
    "path = '../my_data/qa_new.parquet'\n",
    "\n",
    "# make_qa.py 파일로 만듬 : 질문과 응답 쌍을 만듬 , 어떤 문서가 관련이 있는지 \n",
    "df = pd.read_parquet(path)\n",
    "\n",
    "df"
   ]
  },
  {
   "cell_type": "code",
   "execution_count": 14,
   "metadata": {},
   "outputs": [],
   "source": [
    "df['retrieval_gt'] = df['retrieval_gt'].apply(lambda x: x[0][0])\n",
    "df['generation_gt'] = df['generation_gt'].apply(lambda x: x[0])"
   ]
  },
  {
   "cell_type": "code",
   "execution_count": 15,
   "metadata": {},
   "outputs": [
    {
     "data": {
      "text/html": [
       "<div>\n",
       "<style scoped>\n",
       "    .dataframe tbody tr th:only-of-type {\n",
       "        vertical-align: middle;\n",
       "    }\n",
       "\n",
       "    .dataframe tbody tr th {\n",
       "        vertical-align: top;\n",
       "    }\n",
       "\n",
       "    .dataframe thead th {\n",
       "        text-align: right;\n",
       "    }\n",
       "</style>\n",
       "<table border=\"1\" class=\"dataframe\">\n",
       "  <thead>\n",
       "    <tr style=\"text-align: right;\">\n",
       "      <th></th>\n",
       "      <th>qid</th>\n",
       "      <th>retrieval_gt</th>\n",
       "      <th>query</th>\n",
       "      <th>generation_gt</th>\n",
       "    </tr>\n",
       "  </thead>\n",
       "  <tbody>\n",
       "    <tr>\n",
       "      <th>0</th>\n",
       "      <td>e28e176e-2db2-46f6-a360-74dfffe0377f</td>\n",
       "      <td>PDF_without_contents\\1. 법률 및 규제\\[법률_규범_특허][인도표...</td>\n",
       "      <td>자료에 나와 있는 날짜는 언제인가요?</td>\n",
       "      <td>자료에 나와 있는 날짜는 2016년 8월 24일과 2016년 12월 30일입니다.</td>\n",
       "    </tr>\n",
       "    <tr>\n",
       "      <th>1</th>\n",
       "      <td>29aad4ed-e426-4100-a204-c11d17197100</td>\n",
       "      <td>PDF_without_contents\\2. 경제 및 시장 분석\\[전체 정보][KOT...</td>\n",
       "      <td>인도에서 채식주의자의 인구비율이 높은 이유는 무엇인가요?</td>\n",
       "      <td>인도는 종교적 특성으로 인해 채식주의자의 인구비율이 높게 나타납니다.</td>\n",
       "    </tr>\n",
       "    <tr>\n",
       "      <th>2</th>\n",
       "      <td>54f2b135-b0bd-434e-9e92-ca29798988c3</td>\n",
       "      <td>PDF_without_contents\\1. 법률 및 규제\\[법률_규범_특허][코트라...</td>\n",
       "      <td>상표 등록이 완료된 후 기호 을을 사용할 수 있는 조건은 무엇인가요?</td>\n",
       "      <td>상표 등록이 완료된 후에는 인증서에 명시된 상품 및 서비스에 대해서만 기호 을을 사...</td>\n",
       "    </tr>\n",
       "    <tr>\n",
       "      <th>3</th>\n",
       "      <td>f3a4828f-9954-4c08-ba33-f81dfa3ce819</td>\n",
       "      <td>PDF_without_contents\\1. 법률 및 규제\\[법률_규범_특허][인도표...</td>\n",
       "      <td>인증서의 정지 및 취소는 어떤 절차에 따라 이루어지나요?</td>\n",
       "      <td>인증서의 정지 및 취소는 Schedule II에 명시된 적용 가능한 스킴에 따라 이...</td>\n",
       "    </tr>\n",
       "    <tr>\n",
       "      <th>4</th>\n",
       "      <td>f78f2c4f-687d-4547-add3-5b632bfaa08d</td>\n",
       "      <td>PDF_without_contents\\1. 법률 및 규제\\[법률_규범_특허][인도표...</td>\n",
       "      <td>불만 사항의 해결 조치는 몇 일 내에 완료되어야 하나요?</td>\n",
       "      <td>불만 사항의 해결 조치는 제품 테스트 시간이 포함되지 않은 경우 90일 이내에 완료...</td>\n",
       "    </tr>\n",
       "  </tbody>\n",
       "</table>\n",
       "</div>"
      ],
      "text/plain": [
       "                                    qid  \\\n",
       "0  e28e176e-2db2-46f6-a360-74dfffe0377f   \n",
       "1  29aad4ed-e426-4100-a204-c11d17197100   \n",
       "2  54f2b135-b0bd-434e-9e92-ca29798988c3   \n",
       "3  f3a4828f-9954-4c08-ba33-f81dfa3ce819   \n",
       "4  f78f2c4f-687d-4547-add3-5b632bfaa08d   \n",
       "\n",
       "                                        retrieval_gt  \\\n",
       "0  PDF_without_contents\\1. 법률 및 규제\\[법률_규범_특허][인도표...   \n",
       "1  PDF_without_contents\\2. 경제 및 시장 분석\\[전체 정보][KOT...   \n",
       "2  PDF_without_contents\\1. 법률 및 규제\\[법률_규범_특허][코트라...   \n",
       "3  PDF_without_contents\\1. 법률 및 규제\\[법률_규범_특허][인도표...   \n",
       "4  PDF_without_contents\\1. 법률 및 규제\\[법률_규범_특허][인도표...   \n",
       "\n",
       "                                    query  \\\n",
       "0                    자료에 나와 있는 날짜는 언제인가요?   \n",
       "1         인도에서 채식주의자의 인구비율이 높은 이유는 무엇인가요?   \n",
       "2  상표 등록이 완료된 후 기호 을을 사용할 수 있는 조건은 무엇인가요?   \n",
       "3         인증서의 정지 및 취소는 어떤 절차에 따라 이루어지나요?   \n",
       "4         불만 사항의 해결 조치는 몇 일 내에 완료되어야 하나요?   \n",
       "\n",
       "                                       generation_gt  \n",
       "0      자료에 나와 있는 날짜는 2016년 8월 24일과 2016년 12월 30일입니다.  \n",
       "1             인도는 종교적 특성으로 인해 채식주의자의 인구비율이 높게 나타납니다.  \n",
       "2  상표 등록이 완료된 후에는 인증서에 명시된 상품 및 서비스에 대해서만 기호 을을 사...  \n",
       "3  인증서의 정지 및 취소는 Schedule II에 명시된 적용 가능한 스킴에 따라 이...  \n",
       "4  불만 사항의 해결 조치는 제품 테스트 시간이 포함되지 않은 경우 90일 이내에 완료...  "
      ]
     },
     "execution_count": 15,
     "metadata": {},
     "output_type": "execute_result"
    }
   ],
   "source": [
    "df.head()"
   ]
  },
  {
   "cell_type": "code",
   "execution_count": 26,
   "metadata": {},
   "outputs": [],
   "source": [
    "# df.to_excel('../my_data/qa_new.xlsx', index=False)"
   ]
  },
  {
   "cell_type": "code",
   "execution_count": 16,
   "metadata": {},
   "outputs": [],
   "source": [
    "qa_data = pd.read_excel('../my_data/qa_new.xlsx')"
   ]
  },
  {
   "cell_type": "code",
   "execution_count": 17,
   "metadata": {},
   "outputs": [
    {
     "data": {
      "text/html": [
       "<div>\n",
       "<style scoped>\n",
       "    .dataframe tbody tr th:only-of-type {\n",
       "        vertical-align: middle;\n",
       "    }\n",
       "\n",
       "    .dataframe tbody tr th {\n",
       "        vertical-align: top;\n",
       "    }\n",
       "\n",
       "    .dataframe thead th {\n",
       "        text-align: right;\n",
       "    }\n",
       "</style>\n",
       "<table border=\"1\" class=\"dataframe\">\n",
       "  <thead>\n",
       "    <tr style=\"text-align: right;\">\n",
       "      <th></th>\n",
       "      <th>qid</th>\n",
       "      <th>retrieval_gt</th>\n",
       "      <th>query</th>\n",
       "      <th>generation_gt</th>\n",
       "    </tr>\n",
       "  </thead>\n",
       "  <tbody>\n",
       "    <tr>\n",
       "      <th>0</th>\n",
       "      <td>e28e176e-2db2-46f6-a360-74dfffe0377f</td>\n",
       "      <td>PDF_without_contents\\1. 법률 및 규제\\[법률_규범_특허][인도표...</td>\n",
       "      <td>자료에 나와 있는 날짜는 언제인가요?</td>\n",
       "      <td>자료에 나와 있는 날짜는 2016년 8월 24일과 2016년 12월 30일입니다.</td>\n",
       "    </tr>\n",
       "    <tr>\n",
       "      <th>1</th>\n",
       "      <td>29aad4ed-e426-4100-a204-c11d17197100</td>\n",
       "      <td>PDF_without_contents\\2. 경제 및 시장 분석\\[전체 정보][KOT...</td>\n",
       "      <td>인도에서 채식주의자의 인구비율이 높은 이유는 무엇인가요?</td>\n",
       "      <td>인도는 종교적 특성으로 인해 채식주의자의 인구비율이 높게 나타납니다.</td>\n",
       "    </tr>\n",
       "    <tr>\n",
       "      <th>2</th>\n",
       "      <td>54f2b135-b0bd-434e-9e92-ca29798988c3</td>\n",
       "      <td>PDF_without_contents\\1. 법률 및 규제\\[법률_규범_특허][코트라...</td>\n",
       "      <td>상표 등록이 완료된 후 기호 을을 사용할 수 있는 조건은 무엇인가요?</td>\n",
       "      <td>상표 등록이 완료된 후에는 인증서에 명시된 상품 및 서비스에 대해서만 기호 을을 사...</td>\n",
       "    </tr>\n",
       "    <tr>\n",
       "      <th>3</th>\n",
       "      <td>f3a4828f-9954-4c08-ba33-f81dfa3ce819</td>\n",
       "      <td>PDF_without_contents\\1. 법률 및 규제\\[법률_규범_특허][인도표...</td>\n",
       "      <td>인증서의 정지 및 취소는 어떤 절차에 따라 이루어지나요?</td>\n",
       "      <td>인증서의 정지 및 취소는 Schedule II에 명시된 적용 가능한 스킴에 따라 이...</td>\n",
       "    </tr>\n",
       "    <tr>\n",
       "      <th>4</th>\n",
       "      <td>f78f2c4f-687d-4547-add3-5b632bfaa08d</td>\n",
       "      <td>PDF_without_contents\\1. 법률 및 규제\\[법률_규범_특허][인도표...</td>\n",
       "      <td>불만 사항의 해결 조치는 몇 일 내에 완료되어야 하나요?</td>\n",
       "      <td>불만 사항의 해결 조치는 제품 테스트 시간이 포함되지 않은 경우 90일 이내에 완료...</td>\n",
       "    </tr>\n",
       "  </tbody>\n",
       "</table>\n",
       "</div>"
      ],
      "text/plain": [
       "                                    qid  \\\n",
       "0  e28e176e-2db2-46f6-a360-74dfffe0377f   \n",
       "1  29aad4ed-e426-4100-a204-c11d17197100   \n",
       "2  54f2b135-b0bd-434e-9e92-ca29798988c3   \n",
       "3  f3a4828f-9954-4c08-ba33-f81dfa3ce819   \n",
       "4  f78f2c4f-687d-4547-add3-5b632bfaa08d   \n",
       "\n",
       "                                        retrieval_gt  \\\n",
       "0  PDF_without_contents\\1. 법률 및 규제\\[법률_규범_특허][인도표...   \n",
       "1  PDF_without_contents\\2. 경제 및 시장 분석\\[전체 정보][KOT...   \n",
       "2  PDF_without_contents\\1. 법률 및 규제\\[법률_규범_특허][코트라...   \n",
       "3  PDF_without_contents\\1. 법률 및 규제\\[법률_규범_특허][인도표...   \n",
       "4  PDF_without_contents\\1. 법률 및 규제\\[법률_규범_특허][인도표...   \n",
       "\n",
       "                                    query  \\\n",
       "0                    자료에 나와 있는 날짜는 언제인가요?   \n",
       "1         인도에서 채식주의자의 인구비율이 높은 이유는 무엇인가요?   \n",
       "2  상표 등록이 완료된 후 기호 을을 사용할 수 있는 조건은 무엇인가요?   \n",
       "3         인증서의 정지 및 취소는 어떤 절차에 따라 이루어지나요?   \n",
       "4         불만 사항의 해결 조치는 몇 일 내에 완료되어야 하나요?   \n",
       "\n",
       "                                       generation_gt  \n",
       "0      자료에 나와 있는 날짜는 2016년 8월 24일과 2016년 12월 30일입니다.  \n",
       "1             인도는 종교적 특성으로 인해 채식주의자의 인구비율이 높게 나타납니다.  \n",
       "2  상표 등록이 완료된 후에는 인증서에 명시된 상품 및 서비스에 대해서만 기호 을을 사...  \n",
       "3  인증서의 정지 및 취소는 Schedule II에 명시된 적용 가능한 스킴에 따라 이...  \n",
       "4  불만 사항의 해결 조치는 제품 테스트 시간이 포함되지 않은 경우 90일 이내에 완료...  "
      ]
     },
     "execution_count": 17,
     "metadata": {},
     "output_type": "execute_result"
    }
   ],
   "source": [
    "qa_data.head()"
   ]
  },
  {
   "cell_type": "code",
   "execution_count": 18,
   "metadata": {},
   "outputs": [
    {
     "data": {
      "text/html": [
       "<div>\n",
       "<style scoped>\n",
       "    .dataframe tbody tr th:only-of-type {\n",
       "        vertical-align: middle;\n",
       "    }\n",
       "\n",
       "    .dataframe tbody tr th {\n",
       "        vertical-align: top;\n",
       "    }\n",
       "\n",
       "    .dataframe thead th {\n",
       "        text-align: right;\n",
       "    }\n",
       "</style>\n",
       "<table border=\"1\" class=\"dataframe\">\n",
       "  <thead>\n",
       "    <tr style=\"text-align: right;\">\n",
       "      <th></th>\n",
       "      <th>question</th>\n",
       "      <th>ground_truth</th>\n",
       "    </tr>\n",
       "  </thead>\n",
       "  <tbody>\n",
       "    <tr>\n",
       "      <th>0</th>\n",
       "      <td>자료에 나와 있는 날짜는 언제인가요?</td>\n",
       "      <td>자료에 나와 있는 날짜는 2016년 8월 24일과 2016년 12월 30일입니다.</td>\n",
       "    </tr>\n",
       "    <tr>\n",
       "      <th>1</th>\n",
       "      <td>인도에서 채식주의자의 인구비율이 높은 이유는 무엇인가요?</td>\n",
       "      <td>인도는 종교적 특성으로 인해 채식주의자의 인구비율이 높게 나타납니다.</td>\n",
       "    </tr>\n",
       "    <tr>\n",
       "      <th>2</th>\n",
       "      <td>상표 등록이 완료된 후 기호 을을 사용할 수 있는 조건은 무엇인가요?</td>\n",
       "      <td>상표 등록이 완료된 후에는 인증서에 명시된 상품 및 서비스에 대해서만 기호 을을 사...</td>\n",
       "    </tr>\n",
       "    <tr>\n",
       "      <th>3</th>\n",
       "      <td>인증서의 정지 및 취소는 어떤 절차에 따라 이루어지나요?</td>\n",
       "      <td>인증서의 정지 및 취소는 Schedule II에 명시된 적용 가능한 스킴에 따라 이...</td>\n",
       "    </tr>\n",
       "    <tr>\n",
       "      <th>4</th>\n",
       "      <td>불만 사항의 해결 조치는 몇 일 내에 완료되어야 하나요?</td>\n",
       "      <td>불만 사항의 해결 조치는 제품 테스트 시간이 포함되지 않은 경우 90일 이내에 완료...</td>\n",
       "    </tr>\n",
       "  </tbody>\n",
       "</table>\n",
       "</div>"
      ],
      "text/plain": [
       "                                 question  \\\n",
       "0                    자료에 나와 있는 날짜는 언제인가요?   \n",
       "1         인도에서 채식주의자의 인구비율이 높은 이유는 무엇인가요?   \n",
       "2  상표 등록이 완료된 후 기호 을을 사용할 수 있는 조건은 무엇인가요?   \n",
       "3         인증서의 정지 및 취소는 어떤 절차에 따라 이루어지나요?   \n",
       "4         불만 사항의 해결 조치는 몇 일 내에 완료되어야 하나요?   \n",
       "\n",
       "                                        ground_truth  \n",
       "0      자료에 나와 있는 날짜는 2016년 8월 24일과 2016년 12월 30일입니다.  \n",
       "1             인도는 종교적 특성으로 인해 채식주의자의 인구비율이 높게 나타납니다.  \n",
       "2  상표 등록이 완료된 후에는 인증서에 명시된 상품 및 서비스에 대해서만 기호 을을 사...  \n",
       "3  인증서의 정지 및 취소는 Schedule II에 명시된 적용 가능한 스킴에 따라 이...  \n",
       "4  불만 사항의 해결 조치는 제품 테스트 시간이 포함되지 않은 경우 90일 이내에 완료...  "
      ]
     },
     "execution_count": 18,
     "metadata": {},
     "output_type": "execute_result"
    }
   ],
   "source": [
    "qa_data = qa_data[['query', 'generation_gt']]\n",
    "qa_data.columns = ['question', 'ground_truth']\n",
    "\n",
    "qa_data.head()"
   ]
  },
  {
   "cell_type": "code",
   "execution_count": 20,
   "metadata": {},
   "outputs": [],
   "source": [
    "rag_chain = set_chain(our_llm, retriever, qa_prompt2)"
   ]
  },
  {
   "cell_type": "code",
   "execution_count": 21,
   "metadata": {},
   "outputs": [
    {
     "data": {
      "text/html": [
       "<div>\n",
       "<style scoped>\n",
       "    .dataframe tbody tr th:only-of-type {\n",
       "        vertical-align: middle;\n",
       "    }\n",
       "\n",
       "    .dataframe tbody tr th {\n",
       "        vertical-align: top;\n",
       "    }\n",
       "\n",
       "    .dataframe thead th {\n",
       "        text-align: right;\n",
       "    }\n",
       "</style>\n",
       "<table border=\"1\" class=\"dataframe\">\n",
       "  <thead>\n",
       "    <tr style=\"text-align: right;\">\n",
       "      <th></th>\n",
       "      <th>question</th>\n",
       "      <th>ground_truth</th>\n",
       "      <th>answer</th>\n",
       "      <th>contexts</th>\n",
       "    </tr>\n",
       "  </thead>\n",
       "  <tbody>\n",
       "    <tr>\n",
       "      <th>0</th>\n",
       "      <td>자료에 나와 있는 날짜는 언제인가요?</td>\n",
       "      <td>자료에 나와 있는 날짜는 2016년 8월 24일과 2016년 12월 30일입니다.</td>\n",
       "      <td>제공된 자료에는 다양한 날짜가 나와 있습니다. \\n\\n- 주요 정치 일정:\\n  -...</td>\n",
       "      <td>[월별 1월 2월 3월 4월 5월 6월 7월 8월 9월 10월 11월 12월\\n수 ...</td>\n",
       "    </tr>\n",
       "    <tr>\n",
       "      <th>1</th>\n",
       "      <td>인도에서 채식주의자의 인구비율이 높은 이유는 무엇인가요?</td>\n",
       "      <td>인도는 종교적 특성으로 인해 채식주의자의 인구비율이 높게 나타납니다.</td>\n",
       "      <td>인도에서 채식주의자의 인구비율이 높은 이유는 종교적 특성과 문화적 요인이 크게 작용...</td>\n",
       "      <td>[이 높게 나타나며 종교적 특성으로 인해 자연제품을 선호하는 경향이 있다\\n 채식주...</td>\n",
       "    </tr>\n",
       "    <tr>\n",
       "      <th>2</th>\n",
       "      <td>상표 등록이 완료된 후 기호 을을 사용할 수 있는 조건은 무엇인가요?</td>\n",
       "      <td>상표 등록이 완료된 후에는 인증서에 명시된 상품 및 서비스에 대해서만 기호 을을 사...</td>\n",
       "      <td>상표 등록이 완료된 후 기호 \"을\"을 사용할 수 있는 조건은 등록된 상표가 소유자의...</td>\n",
       "      <td>[원이 완료되면 기호 을 제품과 함께 사용할 수 있으며 상표 등록이 완료 후에 기호...</td>\n",
       "    </tr>\n",
       "    <tr>\n",
       "      <th>3</th>\n",
       "      <td>인증서의 정지 및 취소는 어떤 절차에 따라 이루어지나요?</td>\n",
       "      <td>인증서의 정지 및 취소는 Schedule II에 명시된 적용 가능한 스킴에 따라 이...</td>\n",
       "      <td>인증서의 정지 및 취소는 일반적으로 다음과 같은 절차에 따라 이루어집니다:\\n\\n1...</td>\n",
       "      <td>[있다 wwwsafescryptcom wwwnicin wwwidrbtcaorgin ...</td>\n",
       "    </tr>\n",
       "    <tr>\n",
       "      <th>4</th>\n",
       "      <td>불만 사항의 해결 조치는 몇 일 내에 완료되어야 하나요?</td>\n",
       "      <td>불만 사항의 해결 조치는 제품 테스트 시간이 포함되지 않은 경우 90일 이내에 완료...</td>\n",
       "      <td>불만 사항의 해결 조치는 일반적으로 다양한 요인에 따라 다를 수 있습니다. 제공된 ...</td>\n",
       "      <td>[채무변제 능력에 대한 이사의 결의에는 다음의 서류가 첨부되어야 한다\\ncid0 직...</td>\n",
       "    </tr>\n",
       "  </tbody>\n",
       "</table>\n",
       "</div>"
      ],
      "text/plain": [
       "                                 question  \\\n",
       "0                    자료에 나와 있는 날짜는 언제인가요?   \n",
       "1         인도에서 채식주의자의 인구비율이 높은 이유는 무엇인가요?   \n",
       "2  상표 등록이 완료된 후 기호 을을 사용할 수 있는 조건은 무엇인가요?   \n",
       "3         인증서의 정지 및 취소는 어떤 절차에 따라 이루어지나요?   \n",
       "4         불만 사항의 해결 조치는 몇 일 내에 완료되어야 하나요?   \n",
       "\n",
       "                                        ground_truth  \\\n",
       "0      자료에 나와 있는 날짜는 2016년 8월 24일과 2016년 12월 30일입니다.   \n",
       "1             인도는 종교적 특성으로 인해 채식주의자의 인구비율이 높게 나타납니다.   \n",
       "2  상표 등록이 완료된 후에는 인증서에 명시된 상품 및 서비스에 대해서만 기호 을을 사...   \n",
       "3  인증서의 정지 및 취소는 Schedule II에 명시된 적용 가능한 스킴에 따라 이...   \n",
       "4  불만 사항의 해결 조치는 제품 테스트 시간이 포함되지 않은 경우 90일 이내에 완료...   \n",
       "\n",
       "                                              answer  \\\n",
       "0  제공된 자료에는 다양한 날짜가 나와 있습니다. \\n\\n- 주요 정치 일정:\\n  -...   \n",
       "1  인도에서 채식주의자의 인구비율이 높은 이유는 종교적 특성과 문화적 요인이 크게 작용...   \n",
       "2  상표 등록이 완료된 후 기호 \"을\"을 사용할 수 있는 조건은 등록된 상표가 소유자의...   \n",
       "3  인증서의 정지 및 취소는 일반적으로 다음과 같은 절차에 따라 이루어집니다:\\n\\n1...   \n",
       "4  불만 사항의 해결 조치는 일반적으로 다양한 요인에 따라 다를 수 있습니다. 제공된 ...   \n",
       "\n",
       "                                            contexts  \n",
       "0  [월별 1월 2월 3월 4월 5월 6월 7월 8월 9월 10월 11월 12월\\n수 ...  \n",
       "1  [이 높게 나타나며 종교적 특성으로 인해 자연제품을 선호하는 경향이 있다\\n 채식주...  \n",
       "2  [원이 완료되면 기호 을 제품과 함께 사용할 수 있으며 상표 등록이 완료 후에 기호...  \n",
       "3  [있다 wwwsafescryptcom wwwnicin wwwidrbtcaorgin ...  \n",
       "4  [채무변제 능력에 대한 이사의 결의에는 다음의 서류가 첨부되어야 한다\\ncid0 직...  "
      ]
     },
     "execution_count": 21,
     "metadata": {},
     "output_type": "execute_result"
    }
   ],
   "source": [
    "\n",
    "qa_data['answer'] = qa_data['question'].apply(lambda x: rag_chain.invoke({'input':x})['answer'])\n",
    "qa_data['contexts'] = qa_data['question'].apply(lambda x: [d.page_content for d in retriever.get_relevant_documents(x)])\n",
    "# 5분 걸림\n",
    "qa_data.head()"
   ]
  },
  {
   "cell_type": "code",
   "execution_count": 37,
   "metadata": {},
   "outputs": [],
   "source": [
    "# qa_data.to_excel('../my_data/exper_data.xlsx')"
   ]
  },
  {
   "cell_type": "code",
   "execution_count": null,
   "metadata": {},
   "outputs": [],
   "source": [
    "qa_data = pd.read_excel('../my_data/qa_new.xlsx')"
   ]
  },
  {
   "cell_type": "code",
   "execution_count": 22,
   "metadata": {},
   "outputs": [
    {
     "data": {
      "text/plain": [
       "{'question': '자료에 나와 있는 날짜는 언제인가요?',\n",
       " 'ground_truth': '자료에 나와 있는 날짜는 2016년 8월 24일과 2016년 12월 30일입니다.',\n",
       " 'answer': '제공된 자료에는 다양한 날짜가 나와 있습니다. \\n\\n- 주요 정치 일정:\\n  - 헌법 제정일 (Republic Day): 1월 26일\\n  - 독립기념일 (Independence Day): 8월 15일\\n  - 인도 총선: 5월 2024\\n\\n- 주요 경제·통상 일정:\\n  - 인도 2024/25 회계연도 연방예산안 발표: 2월 1일\\n\\n- 유망 전시회 캘린더:\\n  - 인도 의료기기 엑스포: 1월 5∼7일\\n  - 인도 첸나이 글로벌 투자자 미팅 투자 전시회: 1월 7∼8일\\n  - 바이브런트 구자라트 서밋: 1월 10∼12일\\n  - 컨버전스 인디아 엑스포: 1월 17∼19일\\n  - 인도 홈/퍼스널 케어 전시회: 1월 18∼19일\\n  - 인도 문구/사무용품 전시회: 1월 18∼20일\\n  - 인도 기프트쇼: 1월 18∼20일\\n  - 인도 섬유 전시회: 1월 18∼20일\\n\\n따라서, 제공된 자료에 나와 있는 날짜는 1월 5일부터 8월 15일까지 다양하게 포함되어 있습니다.',\n",
       " 'contexts': ['월별 1월 2월 3월 4월 5월 6월 7월 8월 9월 10월 11월 12월\\n수 출 1466 1351 1508 1542 1702 1429 2361 1631 1615 1403 1380 1490\\n증감 153 51 129 141 712 225 920 268 81 02 63 134\\n수 입 695 732 981 891 1078 856 848 682 579 522 537 498\\n증감 240 569 548 214 849 460 192 75 244 296 321 331',\n",
       "  '무시간은 통상 09301700 점심시간은 13001400 라는 점을 유의하여 미팅 시간을 잡는 것이 좋다 인도를 방문할 시 우기79월\\n에는 많은 비가 내려 이동이 쉽지 않기 때문에 더위와 우기를 피할 수 있는 10월 말3월 사이에 방문하는 것이 좋으며 지역별로 공휴일\\n들이 상이하고 해마다 날짜가 바뀌는 점을 유의해야 한다\\n스케줄 변경과 지연은 인도인과 사업을 하는 데 있어 자주 발생하는 부분이며 문화 특성상 가정에 중요한 일이 발생하였을 때 또한 비즈',\n",
       "  '첨부 4 ’24년도 주요 정치·경제 일정 및 유망 전시회 캘린더\\n▣ 주요 정치 일정\\n주요 행사 일시(잠정) 비고\\n헌법 제정일 (Republic Day) 1월 26일 대통령 연설\\n독립기념일 (Independence Day) 8월 15일 총리 연설\\n인도 총선 5월 2024 로크 사바 하원의원 총선거\\n(지방선거) 시킴, 안드라프라데시, 아루나찰프라데시,\\n5∼12월 -\\n오디샤, 하리아나, 마하라슈트라, 자르칸드\\n▣ 주요 경제·통상 일정\\n주요 행사 일시(잠정) 비고\\n인도 2024/25 회계연도 연방예산안 발표 2월 1일 -\\n▣ 유망 전시회 캘린더\\n주요 행사 일시(잠정) 비고\\n인도 의료기기 엑스포\\n1월 5∼7일 벵갈루루\\nIndia Medical Expo\\n2024 인도 첸나이 글로벌 투자자 미팅 투자 전시회\\n1월 7∼8일 첸나이\\nGlobal Investors Meet 2024\\n바이브런트 구자라트 서밋 2024\\n1월 10∼12일 암다바드\\nVibrant Gujarat Global Summit 2024\\n컨버전스 인디아 엑스포\\n1월 17∼19일 뉴델리\\nConvergence India Exop\\n인도 홈/퍼스널 케어 전시회\\nHome and Personal Care Ingredients Exhibition 1월 18∼19일 뭄바이\\nand Conference\\n인도 문구/사무용품 전시회\\n1월 18∼20일 뭄바이\\nPaperworld India\\n인도 기프트쇼\\n1월 18∼20일 뭄바이\\nCorporate Gift show\\n인도 섬유 전시회\\n1월 18∼20일 콜카타\\nTEXINDIA 2024\\n87\\n',\n",
       "  '자료  산업통상자원부\\n2 한인도 투자 현황 단위  백만불신고기준  는 신고건수\\n누계\\n2015 2016 2017 2018 2019 2020 2021 2022 2023\\n1980년이후\\n건수 10 6 11 13 16 12 10 17 15 733\\n대한\\n투자\\n금액 25 14 17 19 966 14 20 8147 166 76215\\n건수 264 270 311 410 452 308 246 256 219 4953\\n대인도\\n투자\\n금액 392 392 949 846 686 588 352 433 415 10213',\n",
       "  '1980년이후\\n신고건수 9 10 6 11 13 16 12 10 17 10 733\\n신고금액 16 25 14 17 20 966 143 202 8147 104 76153\\n 2023년 통계는 6월말까지 투자실적 반영 출처 한국 산자부\\n끝\\n5']}"
      ]
     },
     "execution_count": 22,
     "metadata": {},
     "output_type": "execute_result"
    }
   ],
   "source": [
    "from datasets import Dataset \n",
    "\n",
    "dataset = Dataset.from_pandas(qa_data)\n",
    "\n",
    "dataset[0]"
   ]
  },
  {
   "cell_type": "code",
   "execution_count": 23,
   "metadata": {},
   "outputs": [],
   "source": [
    "from ragas.metrics import faithfulness, answer_relevancy, context_recall, context_precision"
   ]
  },
  {
   "cell_type": "code",
   "execution_count": 27,
   "metadata": {},
   "outputs": [
    {
     "ename": "AttributeError",
     "evalue": "'RunnableSequence' object has no attribute 'set_run_config'",
     "output_type": "error",
     "traceback": [
      "\u001b[1;31m---------------------------------------------------------------------------\u001b[0m",
      "\u001b[1;31mAttributeError\u001b[0m                            Traceback (most recent call last)",
      "Cell \u001b[1;32mIn[27], line 8\u001b[0m\n\u001b[0;32m      5\u001b[0m langchain_llm \u001b[38;5;241m=\u001b[39m ChatOllama(model\u001b[38;5;241m=\u001b[39m\u001b[38;5;124m\"\u001b[39m\u001b[38;5;124mgemma2\u001b[39m\u001b[38;5;124m\"\u001b[39m)\n\u001b[0;32m      6\u001b[0m langchain_embeddings \u001b[38;5;241m=\u001b[39m OllamaEmbeddings(model\u001b[38;5;241m=\u001b[39m\u001b[38;5;124m\"\u001b[39m\u001b[38;5;124mgemma2\u001b[39m\u001b[38;5;124m\"\u001b[39m)\n\u001b[1;32m----> 8\u001b[0m result \u001b[38;5;241m=\u001b[39m \u001b[43mevaluate\u001b[49m\u001b[43m(\u001b[49m\n\u001b[0;32m      9\u001b[0m \u001b[43m    \u001b[49m\u001b[43mdataset\u001b[49m\u001b[43m,\u001b[49m\n\u001b[0;32m     10\u001b[0m \u001b[43m    \u001b[49m\u001b[43mmetrics\u001b[49m\u001b[43m \u001b[49m\u001b[38;5;241;43m=\u001b[39;49m\u001b[43m \u001b[49m\u001b[43m[\u001b[49m\n\u001b[0;32m     11\u001b[0m \u001b[43m        \u001b[49m\u001b[43mfaithfulness\u001b[49m\u001b[43m,\u001b[49m\n\u001b[0;32m     12\u001b[0m \u001b[43m        \u001b[49m\u001b[43manswer_relevancy\u001b[49m\u001b[43m,\u001b[49m\n\u001b[0;32m     13\u001b[0m \u001b[43m        \u001b[49m\u001b[43mcontext_recall\u001b[49m\u001b[43m,\u001b[49m\n\u001b[0;32m     14\u001b[0m \u001b[43m        \u001b[49m\u001b[43mcontext_precision\u001b[49m\n\u001b[0;32m     15\u001b[0m \u001b[43m    \u001b[49m\u001b[43m]\u001b[49m\u001b[43m,\u001b[49m\n\u001b[0;32m     16\u001b[0m \u001b[43m    \u001b[49m\u001b[43mllm\u001b[49m\u001b[38;5;241;43m=\u001b[39;49m\u001b[43mlangchain_llm\u001b[49m\u001b[43m,\u001b[49m\n\u001b[0;32m     17\u001b[0m \u001b[43m    \u001b[49m\u001b[43membeddings\u001b[49m\u001b[38;5;241;43m=\u001b[39;49m\u001b[43mlangchain_embeddings\u001b[49m\u001b[43m,\u001b[49m\n\u001b[0;32m     18\u001b[0m \u001b[43m    \u001b[49m\u001b[43mraise_exceptions\u001b[49m\u001b[38;5;241;43m=\u001b[39;49m\u001b[38;5;28;43;01mFalse\u001b[39;49;00m\n\u001b[0;32m     19\u001b[0m \u001b[43m)\u001b[49m\n\u001b[0;32m     22\u001b[0m result\n",
      "File \u001b[1;32mc:\\Users\\kim_h\\anaconda3\\envs\\AUTORAG\\Lib\\site-packages\\ragas\\evaluation.py:198\u001b[0m, in \u001b[0;36mevaluate\u001b[1;34m(dataset, metrics, llm, embeddings, callbacks, in_ci, is_async, run_config, raise_exceptions, column_map)\u001b[0m\n\u001b[0;32m    195\u001b[0m             reproducable_metrics\u001b[38;5;241m.\u001b[39mappend(i)\n\u001b[0;32m    197\u001b[0m     \u001b[38;5;66;03m# init all the models\u001b[39;00m\n\u001b[1;32m--> 198\u001b[0m     \u001b[43mmetric\u001b[49m\u001b[38;5;241;43m.\u001b[39;49m\u001b[43minit\u001b[49m\u001b[43m(\u001b[49m\u001b[43mrun_config\u001b[49m\u001b[43m)\u001b[49m\n\u001b[0;32m    200\u001b[0m executor \u001b[38;5;241m=\u001b[39m Executor(\n\u001b[0;32m    201\u001b[0m     desc\u001b[38;5;241m=\u001b[39m\u001b[38;5;124m\"\u001b[39m\u001b[38;5;124mEvaluating\u001b[39m\u001b[38;5;124m\"\u001b[39m,\n\u001b[0;32m    202\u001b[0m     keep_progress_bar\u001b[38;5;241m=\u001b[39m\u001b[38;5;28;01mTrue\u001b[39;00m,\n\u001b[0;32m    203\u001b[0m     raise_exceptions\u001b[38;5;241m=\u001b[39mraise_exceptions,\n\u001b[0;32m    204\u001b[0m     run_config\u001b[38;5;241m=\u001b[39mrun_config,\n\u001b[0;32m    205\u001b[0m )\n\u001b[0;32m    206\u001b[0m \u001b[38;5;66;03m# new evaluation chain\u001b[39;00m\n",
      "File \u001b[1;32mc:\\Users\\kim_h\\anaconda3\\envs\\AUTORAG\\Lib\\site-packages\\ragas\\metrics\\base.py:150\u001b[0m, in \u001b[0;36mMetricWithLLM.init\u001b[1;34m(self, run_config)\u001b[0m\n\u001b[0;32m    146\u001b[0m \u001b[38;5;28;01mif\u001b[39;00m \u001b[38;5;28mself\u001b[39m\u001b[38;5;241m.\u001b[39mllm \u001b[38;5;129;01mis\u001b[39;00m \u001b[38;5;28;01mNone\u001b[39;00m:\n\u001b[0;32m    147\u001b[0m     \u001b[38;5;28;01mraise\u001b[39;00m \u001b[38;5;167;01mValueError\u001b[39;00m(\n\u001b[0;32m    148\u001b[0m         \u001b[38;5;124mf\u001b[39m\u001b[38;5;124m\"\u001b[39m\u001b[38;5;124mMetric \u001b[39m\u001b[38;5;124m'\u001b[39m\u001b[38;5;132;01m{\u001b[39;00m\u001b[38;5;28mself\u001b[39m\u001b[38;5;241m.\u001b[39mname\u001b[38;5;132;01m}\u001b[39;00m\u001b[38;5;124m'\u001b[39m\u001b[38;5;124m has no valid LLM provided (self.llm is None). Please initantiate a the metric with an LLM to run.\u001b[39m\u001b[38;5;124m\"\u001b[39m  \u001b[38;5;66;03m# noqa\u001b[39;00m\n\u001b[0;32m    149\u001b[0m     )\n\u001b[1;32m--> 150\u001b[0m \u001b[38;5;28;43mself\u001b[39;49m\u001b[38;5;241;43m.\u001b[39;49m\u001b[43mllm\u001b[49m\u001b[38;5;241;43m.\u001b[39;49m\u001b[43mset_run_config\u001b[49m(run_config)\n",
      "File \u001b[1;32mc:\\Users\\kim_h\\anaconda3\\envs\\AUTORAG\\Lib\\site-packages\\langchain_core\\runnables\\base.py:4979\u001b[0m, in \u001b[0;36mRunnableBinding.__getattr__\u001b[1;34m(self, name)\u001b[0m\n\u001b[0;32m   4978\u001b[0m \u001b[38;5;28;01mdef\u001b[39;00m \u001b[38;5;21m__getattr__\u001b[39m(\u001b[38;5;28mself\u001b[39m, name: \u001b[38;5;28mstr\u001b[39m) \u001b[38;5;241m-\u001b[39m\u001b[38;5;241m>\u001b[39m Any:\n\u001b[1;32m-> 4979\u001b[0m     attr \u001b[38;5;241m=\u001b[39m \u001b[38;5;28;43mgetattr\u001b[39;49m\u001b[43m(\u001b[49m\u001b[38;5;28;43mself\u001b[39;49m\u001b[38;5;241;43m.\u001b[39;49m\u001b[43mbound\u001b[49m\u001b[43m,\u001b[49m\u001b[43m \u001b[49m\u001b[43mname\u001b[49m\u001b[43m)\u001b[49m\n\u001b[0;32m   4981\u001b[0m     \u001b[38;5;28;01mif\u001b[39;00m \u001b[38;5;28mcallable\u001b[39m(attr) \u001b[38;5;129;01mand\u001b[39;00m (\n\u001b[0;32m   4982\u001b[0m         config_param \u001b[38;5;241m:=\u001b[39m inspect\u001b[38;5;241m.\u001b[39msignature(attr)\u001b[38;5;241m.\u001b[39mparameters\u001b[38;5;241m.\u001b[39mget(\u001b[38;5;124m\"\u001b[39m\u001b[38;5;124mconfig\u001b[39m\u001b[38;5;124m\"\u001b[39m)\n\u001b[0;32m   4983\u001b[0m     ):\n\u001b[0;32m   4984\u001b[0m         \u001b[38;5;28;01mif\u001b[39;00m config_param\u001b[38;5;241m.\u001b[39mkind \u001b[38;5;241m==\u001b[39m inspect\u001b[38;5;241m.\u001b[39mParameter\u001b[38;5;241m.\u001b[39mKEYWORD_ONLY:\n",
      "\u001b[1;31mAttributeError\u001b[0m: 'RunnableSequence' object has no attribute 'set_run_config'"
     ]
    }
   ],
   "source": [
    "from ragas import evaluate \n",
    "from langchain_community.chat_models import ChatOllama \n",
    "from langchain_community.embeddings.ollama import OllamaEmbeddings\n",
    "\n",
    "langchain_llm = ChatOllama(model=\"gemma2\")\n",
    "langchain_embeddings = OllamaEmbeddings(model=\"gemma2\")\n",
    "\n",
    "result = evaluate(\n",
    "    dataset,\n",
    "    metrics = [\n",
    "        faithfulness,\n",
    "        answer_relevancy,\n",
    "        context_recall,\n",
    "        context_precision\n",
    "    ],\n",
    "    llm=langchain_llm,\n",
    "    embeddings=langchain_embeddings,\n",
    "    raise_exceptions=False\n",
    ")\n",
    "\n",
    "\n",
    "result"
   ]
  },
  {
   "cell_type": "code",
   "execution_count": 42,
   "metadata": {},
   "outputs": [
    {
     "data": {
      "text/html": [
       "<div>\n",
       "<style scoped>\n",
       "    .dataframe tbody tr th:only-of-type {\n",
       "        vertical-align: middle;\n",
       "    }\n",
       "\n",
       "    .dataframe tbody tr th {\n",
       "        vertical-align: top;\n",
       "    }\n",
       "\n",
       "    .dataframe thead th {\n",
       "        text-align: right;\n",
       "    }\n",
       "</style>\n",
       "<table border=\"1\" class=\"dataframe\">\n",
       "  <thead>\n",
       "    <tr style=\"text-align: right;\">\n",
       "      <th></th>\n",
       "      <th>Metric</th>\n",
       "      <th>Gemma2</th>\n",
       "    </tr>\n",
       "  </thead>\n",
       "  <tbody>\n",
       "    <tr>\n",
       "      <th>0</th>\n",
       "      <td>faithfulness</td>\n",
       "      <td>0.785026</td>\n",
       "    </tr>\n",
       "    <tr>\n",
       "      <th>1</th>\n",
       "      <td>answer_relevancy</td>\n",
       "      <td>0.351454</td>\n",
       "    </tr>\n",
       "    <tr>\n",
       "      <th>2</th>\n",
       "      <td>context_recall</td>\n",
       "      <td>0.514706</td>\n",
       "    </tr>\n",
       "    <tr>\n",
       "      <th>3</th>\n",
       "      <td>context_precision</td>\n",
       "      <td>0.517290</td>\n",
       "    </tr>\n",
       "  </tbody>\n",
       "</table>\n",
       "</div>"
      ],
      "text/plain": [
       "              Metric    Gemma2\n",
       "0       faithfulness  0.785026\n",
       "1   answer_relevancy  0.351454\n",
       "2     context_recall  0.514706\n",
       "3  context_precision  0.517290"
      ]
     },
     "execution_count": 42,
     "metadata": {},
     "output_type": "execute_result"
    }
   ],
   "source": [
    "df1 = pd.DataFrame(list(result.items()), columns=['Metric', 'Gemma2'])\n",
    "\n",
    "df1.head()\n"
   ]
  },
  {
   "cell_type": "code",
   "execution_count": 43,
   "metadata": {},
   "outputs": [],
   "source": [
    "df1.to_excel('../experiments/chat_gemma2.xlsx')"
   ]
  },
  {
   "cell_type": "code",
   "execution_count": 24,
   "metadata": {},
   "outputs": [],
   "source": [
    "rag_chain = set_chain(our_llm, retriever, qa_prompt2)"
   ]
  },
  {
   "cell_type": "code",
   "execution_count": 26,
   "metadata": {},
   "outputs": [
    {
     "ename": "AttributeError",
     "evalue": "'RunnableSequence' object has no attribute 'set_run_config'",
     "output_type": "error",
     "traceback": [
      "\u001b[1;31m---------------------------------------------------------------------------\u001b[0m",
      "\u001b[1;31mAttributeError\u001b[0m                            Traceback (most recent call last)",
      "Cell \u001b[1;32mIn[26], line 10\u001b[0m\n\u001b[0;32m      7\u001b[0m langchain_embeddings \u001b[38;5;241m=\u001b[39m OllamaEmbeddings(model\u001b[38;5;241m=\u001b[39m\u001b[38;5;124m\"\u001b[39m\u001b[38;5;124mgemma2\u001b[39m\u001b[38;5;124m\"\u001b[39m)\n\u001b[0;32m      8\u001b[0m \u001b[38;5;66;03m# langchain_embeddings = OpenAIEmbeddings(model=config['embed_model']['model_name'])\u001b[39;00m\n\u001b[1;32m---> 10\u001b[0m result2 \u001b[38;5;241m=\u001b[39m \u001b[43mevaluate\u001b[49m\u001b[43m(\u001b[49m\n\u001b[0;32m     11\u001b[0m \u001b[43m    \u001b[49m\u001b[43mdataset\u001b[49m\u001b[43m,\u001b[49m\n\u001b[0;32m     12\u001b[0m \u001b[43m    \u001b[49m\u001b[43mmetrics\u001b[49m\u001b[43m \u001b[49m\u001b[38;5;241;43m=\u001b[39;49m\u001b[43m \u001b[49m\u001b[43m[\u001b[49m\n\u001b[0;32m     13\u001b[0m \u001b[43m        \u001b[49m\u001b[43mfaithfulness\u001b[49m\u001b[43m,\u001b[49m\n\u001b[0;32m     14\u001b[0m \u001b[43m        \u001b[49m\u001b[43manswer_relevancy\u001b[49m\u001b[43m,\u001b[49m\n\u001b[0;32m     15\u001b[0m \u001b[43m        \u001b[49m\u001b[43mcontext_recall\u001b[49m\u001b[43m,\u001b[49m\n\u001b[0;32m     16\u001b[0m \u001b[43m        \u001b[49m\u001b[43mcontext_precision\u001b[49m\n\u001b[0;32m     17\u001b[0m \u001b[43m    \u001b[49m\u001b[43m]\u001b[49m\u001b[43m,\u001b[49m\n\u001b[0;32m     18\u001b[0m \u001b[43m    \u001b[49m\u001b[43mllm\u001b[49m\u001b[38;5;241;43m=\u001b[39;49m\u001b[43mrag_chain\u001b[49m\u001b[43m,\u001b[49m\n\u001b[0;32m     19\u001b[0m \u001b[43m    \u001b[49m\u001b[43membeddings\u001b[49m\u001b[38;5;241;43m=\u001b[39;49m\u001b[43mlangchain_embeddings\u001b[49m\u001b[43m,\u001b[49m\n\u001b[0;32m     20\u001b[0m \u001b[43m    \u001b[49m\u001b[43mraise_exceptions\u001b[49m\u001b[38;5;241;43m=\u001b[39;49m\u001b[38;5;28;43;01mFalse\u001b[39;49;00m\n\u001b[0;32m     21\u001b[0m \u001b[43m)\u001b[49m\n\u001b[0;32m     24\u001b[0m result2\n",
      "File \u001b[1;32mc:\\Users\\kim_h\\anaconda3\\envs\\AUTORAG\\Lib\\site-packages\\ragas\\evaluation.py:198\u001b[0m, in \u001b[0;36mevaluate\u001b[1;34m(dataset, metrics, llm, embeddings, callbacks, in_ci, is_async, run_config, raise_exceptions, column_map)\u001b[0m\n\u001b[0;32m    195\u001b[0m             reproducable_metrics\u001b[38;5;241m.\u001b[39mappend(i)\n\u001b[0;32m    197\u001b[0m     \u001b[38;5;66;03m# init all the models\u001b[39;00m\n\u001b[1;32m--> 198\u001b[0m     \u001b[43mmetric\u001b[49m\u001b[38;5;241;43m.\u001b[39;49m\u001b[43minit\u001b[49m\u001b[43m(\u001b[49m\u001b[43mrun_config\u001b[49m\u001b[43m)\u001b[49m\n\u001b[0;32m    200\u001b[0m executor \u001b[38;5;241m=\u001b[39m Executor(\n\u001b[0;32m    201\u001b[0m     desc\u001b[38;5;241m=\u001b[39m\u001b[38;5;124m\"\u001b[39m\u001b[38;5;124mEvaluating\u001b[39m\u001b[38;5;124m\"\u001b[39m,\n\u001b[0;32m    202\u001b[0m     keep_progress_bar\u001b[38;5;241m=\u001b[39m\u001b[38;5;28;01mTrue\u001b[39;00m,\n\u001b[0;32m    203\u001b[0m     raise_exceptions\u001b[38;5;241m=\u001b[39mraise_exceptions,\n\u001b[0;32m    204\u001b[0m     run_config\u001b[38;5;241m=\u001b[39mrun_config,\n\u001b[0;32m    205\u001b[0m )\n\u001b[0;32m    206\u001b[0m \u001b[38;5;66;03m# new evaluation chain\u001b[39;00m\n",
      "File \u001b[1;32mc:\\Users\\kim_h\\anaconda3\\envs\\AUTORAG\\Lib\\site-packages\\ragas\\metrics\\base.py:150\u001b[0m, in \u001b[0;36mMetricWithLLM.init\u001b[1;34m(self, run_config)\u001b[0m\n\u001b[0;32m    146\u001b[0m \u001b[38;5;28;01mif\u001b[39;00m \u001b[38;5;28mself\u001b[39m\u001b[38;5;241m.\u001b[39mllm \u001b[38;5;129;01mis\u001b[39;00m \u001b[38;5;28;01mNone\u001b[39;00m:\n\u001b[0;32m    147\u001b[0m     \u001b[38;5;28;01mraise\u001b[39;00m \u001b[38;5;167;01mValueError\u001b[39;00m(\n\u001b[0;32m    148\u001b[0m         \u001b[38;5;124mf\u001b[39m\u001b[38;5;124m\"\u001b[39m\u001b[38;5;124mMetric \u001b[39m\u001b[38;5;124m'\u001b[39m\u001b[38;5;132;01m{\u001b[39;00m\u001b[38;5;28mself\u001b[39m\u001b[38;5;241m.\u001b[39mname\u001b[38;5;132;01m}\u001b[39;00m\u001b[38;5;124m'\u001b[39m\u001b[38;5;124m has no valid LLM provided (self.llm is None). Please initantiate a the metric with an LLM to run.\u001b[39m\u001b[38;5;124m\"\u001b[39m  \u001b[38;5;66;03m# noqa\u001b[39;00m\n\u001b[0;32m    149\u001b[0m     )\n\u001b[1;32m--> 150\u001b[0m \u001b[38;5;28;43mself\u001b[39;49m\u001b[38;5;241;43m.\u001b[39;49m\u001b[43mllm\u001b[49m\u001b[38;5;241;43m.\u001b[39;49m\u001b[43mset_run_config\u001b[49m(run_config)\n",
      "File \u001b[1;32mc:\\Users\\kim_h\\anaconda3\\envs\\AUTORAG\\Lib\\site-packages\\langchain_core\\runnables\\base.py:4979\u001b[0m, in \u001b[0;36mRunnableBinding.__getattr__\u001b[1;34m(self, name)\u001b[0m\n\u001b[0;32m   4978\u001b[0m \u001b[38;5;28;01mdef\u001b[39;00m \u001b[38;5;21m__getattr__\u001b[39m(\u001b[38;5;28mself\u001b[39m, name: \u001b[38;5;28mstr\u001b[39m) \u001b[38;5;241m-\u001b[39m\u001b[38;5;241m>\u001b[39m Any:\n\u001b[1;32m-> 4979\u001b[0m     attr \u001b[38;5;241m=\u001b[39m \u001b[38;5;28;43mgetattr\u001b[39;49m\u001b[43m(\u001b[49m\u001b[38;5;28;43mself\u001b[39;49m\u001b[38;5;241;43m.\u001b[39;49m\u001b[43mbound\u001b[49m\u001b[43m,\u001b[49m\u001b[43m \u001b[49m\u001b[43mname\u001b[49m\u001b[43m)\u001b[49m\n\u001b[0;32m   4981\u001b[0m     \u001b[38;5;28;01mif\u001b[39;00m \u001b[38;5;28mcallable\u001b[39m(attr) \u001b[38;5;129;01mand\u001b[39;00m (\n\u001b[0;32m   4982\u001b[0m         config_param \u001b[38;5;241m:=\u001b[39m inspect\u001b[38;5;241m.\u001b[39msignature(attr)\u001b[38;5;241m.\u001b[39mparameters\u001b[38;5;241m.\u001b[39mget(\u001b[38;5;124m\"\u001b[39m\u001b[38;5;124mconfig\u001b[39m\u001b[38;5;124m\"\u001b[39m)\n\u001b[0;32m   4983\u001b[0m     ):\n\u001b[0;32m   4984\u001b[0m         \u001b[38;5;28;01mif\u001b[39;00m config_param\u001b[38;5;241m.\u001b[39mkind \u001b[38;5;241m==\u001b[39m inspect\u001b[38;5;241m.\u001b[39mParameter\u001b[38;5;241m.\u001b[39mKEYWORD_ONLY:\n",
      "\u001b[1;31mAttributeError\u001b[0m: 'RunnableSequence' object has no attribute 'set_run_config'"
     ]
    }
   ],
   "source": [
    "from ragas import evaluate \n",
    "from langchain_community.chat_models import ChatOllama \n",
    "from langchain_community.embeddings.ollama import OllamaEmbeddings\n",
    "from utils.config import config\n",
    "\n",
    "# langchain_llm = ChatOllama(model=\"gemma2\")\n",
    "langchain_embeddings = OllamaEmbeddings(model=\"gemma2\")\n",
    "# langchain_embeddings = OpenAIEmbeddings(model=config['embed_model']['model_name'])\n",
    "\n",
    "result2 = evaluate(\n",
    "    dataset,\n",
    "    metrics = [\n",
    "        faithfulness,\n",
    "        answer_relevancy,\n",
    "        context_recall,\n",
    "        context_precision\n",
    "    ],\n",
    "    llm=rag_chain,\n",
    "    embeddings=langchain_embeddings,\n",
    "    raise_exceptions=False\n",
    ")\n",
    "\n",
    "\n",
    "result2"
   ]
  },
  {
   "cell_type": "code",
   "execution_count": null,
   "metadata": {},
   "outputs": [],
   "source": []
  }
 ],
 "metadata": {
  "kernelspec": {
   "display_name": "bigproject",
   "language": "python",
   "name": "python3"
  },
  "language_info": {
   "codemirror_mode": {
    "name": "ipython",
    "version": 3
   },
   "file_extension": ".py",
   "mimetype": "text/x-python",
   "name": "python",
   "nbconvert_exporter": "python",
   "pygments_lexer": "ipython3",
   "version": "3.12.4"
  }
 },
 "nbformat": 4,
 "nbformat_minor": 2
}
